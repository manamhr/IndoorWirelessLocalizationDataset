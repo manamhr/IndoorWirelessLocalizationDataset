{
 "cells": [
  {
   "cell_type": "code",
   "execution_count": 28,
   "metadata": {},
   "outputs": [],
   "source": [
    "import pandas as pd\n",
    "import numpy as np\n",
    "from sklearn.metrics import accuracy_score, confusion_matrix, classification_report, precision_score, recall_score\n",
    "from sklearn import preprocessing\n",
    "#from sklearn.datasets import make_classification        \n",
    "import matplotlib.pyplot as plt\n",
    "from sklearn.model_selection import train_test_split  \n",
    "from sklearn.preprocessing import minmax_scale\n",
    "import seaborn as sn\n",
    "import itertools\n",
    "from scipy import stats\n",
    "\n",
    "from sklearn.naive_bayes import GaussianNB\n",
    "from sklearn.discriminant_analysis import LinearDiscriminantAnalysis, QuadraticDiscriminantAnalysis\n",
    "from sklearn.linear_model import SGDClassifier\n",
    "from sklearn.svm import SVC, LinearSVC\n",
    "from sklearn.neighbors import KNeighborsClassifier\n",
    "from sklearn.tree import DecisionTreeClassifier\n",
    "from sklearn.ensemble import RandomForestClassifier\n",
    "\n"
   ]
  },
  {
   "cell_type": "code",
   "execution_count": 29,
   "metadata": {},
   "outputs": [],
   "source": [
    "data=pd.read_csv('D_Train1.csv', sep = ',')"
   ]
  },
  {
   "cell_type": "code",
   "execution_count": 30,
   "metadata": {},
   "outputs": [
    {
     "data": {
      "text/html": [
       "<div>\n",
       "<style scoped>\n",
       "    .dataframe tbody tr th:only-of-type {\n",
       "        vertical-align: middle;\n",
       "    }\n",
       "\n",
       "    .dataframe tbody tr th {\n",
       "        vertical-align: top;\n",
       "    }\n",
       "\n",
       "    .dataframe thead th {\n",
       "        text-align: right;\n",
       "    }\n",
       "</style>\n",
       "<table border=\"1\" class=\"dataframe\">\n",
       "  <thead>\n",
       "    <tr style=\"text-align: right;\">\n",
       "      <th></th>\n",
       "      <th>Location</th>\n",
       "      <th>WS1</th>\n",
       "      <th>WS2</th>\n",
       "      <th>WS3</th>\n",
       "      <th>WS4</th>\n",
       "      <th>WS5</th>\n",
       "      <th>WS6</th>\n",
       "      <th>WS7</th>\n",
       "    </tr>\n",
       "  </thead>\n",
       "  <tbody>\n",
       "    <tr>\n",
       "      <td>0</td>\n",
       "      <td>1</td>\n",
       "      <td>-62</td>\n",
       "      <td>-55</td>\n",
       "      <td>-65</td>\n",
       "      <td>-59</td>\n",
       "      <td>-69</td>\n",
       "      <td>-86</td>\n",
       "      <td>-87</td>\n",
       "    </tr>\n",
       "    <tr>\n",
       "      <td>1</td>\n",
       "      <td>1</td>\n",
       "      <td>-61</td>\n",
       "      <td>-56</td>\n",
       "      <td>-65</td>\n",
       "      <td>-65</td>\n",
       "      <td>-66</td>\n",
       "      <td>-77</td>\n",
       "      <td>-81</td>\n",
       "    </tr>\n",
       "    <tr>\n",
       "      <td>2</td>\n",
       "      <td>1</td>\n",
       "      <td>-62</td>\n",
       "      <td>-58</td>\n",
       "      <td>-57</td>\n",
       "      <td>-65</td>\n",
       "      <td>-70</td>\n",
       "      <td>-82</td>\n",
       "      <td>-91</td>\n",
       "    </tr>\n",
       "    <tr>\n",
       "      <td>3</td>\n",
       "      <td>1</td>\n",
       "      <td>-59</td>\n",
       "      <td>-57</td>\n",
       "      <td>-60</td>\n",
       "      <td>-60</td>\n",
       "      <td>-63</td>\n",
       "      <td>-81</td>\n",
       "      <td>-77</td>\n",
       "    </tr>\n",
       "    <tr>\n",
       "      <td>4</td>\n",
       "      <td>1</td>\n",
       "      <td>-69</td>\n",
       "      <td>-58</td>\n",
       "      <td>-56</td>\n",
       "      <td>-61</td>\n",
       "      <td>-73</td>\n",
       "      <td>-81</td>\n",
       "      <td>-93</td>\n",
       "    </tr>\n",
       "  </tbody>\n",
       "</table>\n",
       "</div>"
      ],
      "text/plain": [
       "   Location  WS1  WS2  WS3  WS4  WS5  WS6  WS7\n",
       "0         1  -62  -55  -65  -59  -69  -86  -87\n",
       "1         1  -61  -56  -65  -65  -66  -77  -81\n",
       "2         1  -62  -58  -57  -65  -70  -82  -91\n",
       "3         1  -59  -57  -60  -60  -63  -81  -77\n",
       "4         1  -69  -58  -56  -61  -73  -81  -93"
      ]
     },
     "execution_count": 30,
     "metadata": {},
     "output_type": "execute_result"
    }
   ],
   "source": [
    "data.head()"
   ]
  },
  {
   "cell_type": "code",
   "execution_count": 31,
   "metadata": {},
   "outputs": [
    {
     "data": {
      "text/html": [
       "<div>\n",
       "<style scoped>\n",
       "    .dataframe tbody tr th:only-of-type {\n",
       "        vertical-align: middle;\n",
       "    }\n",
       "\n",
       "    .dataframe tbody tr th {\n",
       "        vertical-align: top;\n",
       "    }\n",
       "\n",
       "    .dataframe thead th {\n",
       "        text-align: right;\n",
       "    }\n",
       "</style>\n",
       "<table border=\"1\" class=\"dataframe\">\n",
       "  <thead>\n",
       "    <tr style=\"text-align: right;\">\n",
       "      <th></th>\n",
       "      <th>Location</th>\n",
       "      <th>WS1</th>\n",
       "      <th>WS2</th>\n",
       "      <th>WS3</th>\n",
       "      <th>WS4</th>\n",
       "      <th>WS5</th>\n",
       "      <th>WS6</th>\n",
       "      <th>WS7</th>\n",
       "    </tr>\n",
       "  </thead>\n",
       "  <tbody>\n",
       "    <tr>\n",
       "      <td>count</td>\n",
       "      <td>1600.000000</td>\n",
       "      <td>1600.000000</td>\n",
       "      <td>1600.000000</td>\n",
       "      <td>1600.000000</td>\n",
       "      <td>1600.000000</td>\n",
       "      <td>1600.000000</td>\n",
       "      <td>1600.000000</td>\n",
       "      <td>1600.000000</td>\n",
       "    </tr>\n",
       "    <tr>\n",
       "      <td>mean</td>\n",
       "      <td>2.500000</td>\n",
       "      <td>-52.325000</td>\n",
       "      <td>-55.589375</td>\n",
       "      <td>-54.960000</td>\n",
       "      <td>-53.494375</td>\n",
       "      <td>-62.671250</td>\n",
       "      <td>-80.994375</td>\n",
       "      <td>-81.691250</td>\n",
       "    </tr>\n",
       "    <tr>\n",
       "      <td>std</td>\n",
       "      <td>1.118384</td>\n",
       "      <td>11.351317</td>\n",
       "      <td>3.420793</td>\n",
       "      <td>5.279993</td>\n",
       "      <td>11.519729</td>\n",
       "      <td>9.073223</td>\n",
       "      <td>6.508038</td>\n",
       "      <td>6.525434</td>\n",
       "    </tr>\n",
       "    <tr>\n",
       "      <td>min</td>\n",
       "      <td>1.000000</td>\n",
       "      <td>-74.000000</td>\n",
       "      <td>-74.000000</td>\n",
       "      <td>-73.000000</td>\n",
       "      <td>-77.000000</td>\n",
       "      <td>-86.000000</td>\n",
       "      <td>-97.000000</td>\n",
       "      <td>-98.000000</td>\n",
       "    </tr>\n",
       "    <tr>\n",
       "      <td>25%</td>\n",
       "      <td>1.750000</td>\n",
       "      <td>-61.000000</td>\n",
       "      <td>-58.000000</td>\n",
       "      <td>-58.000000</td>\n",
       "      <td>-63.000000</td>\n",
       "      <td>-69.000000</td>\n",
       "      <td>-86.000000</td>\n",
       "      <td>-86.000000</td>\n",
       "    </tr>\n",
       "    <tr>\n",
       "      <td>50%</td>\n",
       "      <td>2.500000</td>\n",
       "      <td>-55.000000</td>\n",
       "      <td>-56.000000</td>\n",
       "      <td>-55.000000</td>\n",
       "      <td>-56.000000</td>\n",
       "      <td>-64.000000</td>\n",
       "      <td>-82.000000</td>\n",
       "      <td>-83.000000</td>\n",
       "    </tr>\n",
       "    <tr>\n",
       "      <td>75%</td>\n",
       "      <td>3.250000</td>\n",
       "      <td>-46.000000</td>\n",
       "      <td>-53.000000</td>\n",
       "      <td>-51.000000</td>\n",
       "      <td>-46.000000</td>\n",
       "      <td>-56.000000</td>\n",
       "      <td>-77.000000</td>\n",
       "      <td>-78.000000</td>\n",
       "    </tr>\n",
       "    <tr>\n",
       "      <td>max</td>\n",
       "      <td>4.000000</td>\n",
       "      <td>-10.000000</td>\n",
       "      <td>-45.000000</td>\n",
       "      <td>-42.000000</td>\n",
       "      <td>-13.000000</td>\n",
       "      <td>-39.000000</td>\n",
       "      <td>-62.000000</td>\n",
       "      <td>-64.000000</td>\n",
       "    </tr>\n",
       "  </tbody>\n",
       "</table>\n",
       "</div>"
      ],
      "text/plain": [
       "          Location          WS1          WS2          WS3          WS4  \\\n",
       "count  1600.000000  1600.000000  1600.000000  1600.000000  1600.000000   \n",
       "mean      2.500000   -52.325000   -55.589375   -54.960000   -53.494375   \n",
       "std       1.118384    11.351317     3.420793     5.279993    11.519729   \n",
       "min       1.000000   -74.000000   -74.000000   -73.000000   -77.000000   \n",
       "25%       1.750000   -61.000000   -58.000000   -58.000000   -63.000000   \n",
       "50%       2.500000   -55.000000   -56.000000   -55.000000   -56.000000   \n",
       "75%       3.250000   -46.000000   -53.000000   -51.000000   -46.000000   \n",
       "max       4.000000   -10.000000   -45.000000   -42.000000   -13.000000   \n",
       "\n",
       "               WS5          WS6          WS7  \n",
       "count  1600.000000  1600.000000  1600.000000  \n",
       "mean    -62.671250   -80.994375   -81.691250  \n",
       "std       9.073223     6.508038     6.525434  \n",
       "min     -86.000000   -97.000000   -98.000000  \n",
       "25%     -69.000000   -86.000000   -86.000000  \n",
       "50%     -64.000000   -82.000000   -83.000000  \n",
       "75%     -56.000000   -77.000000   -78.000000  \n",
       "max     -39.000000   -62.000000   -64.000000  "
      ]
     },
     "execution_count": 31,
     "metadata": {},
     "output_type": "execute_result"
    }
   ],
   "source": [
    "data.describe()"
   ]
  },
  {
   "cell_type": "code",
   "execution_count": 32,
   "metadata": {},
   "outputs": [
    {
     "data": {
      "text/html": [
       "<div>\n",
       "<style scoped>\n",
       "    .dataframe tbody tr th:only-of-type {\n",
       "        vertical-align: middle;\n",
       "    }\n",
       "\n",
       "    .dataframe tbody tr th {\n",
       "        vertical-align: top;\n",
       "    }\n",
       "\n",
       "    .dataframe thead th {\n",
       "        text-align: right;\n",
       "    }\n",
       "</style>\n",
       "<table border=\"1\" class=\"dataframe\">\n",
       "  <thead>\n",
       "    <tr style=\"text-align: right;\">\n",
       "      <th></th>\n",
       "      <th>Location</th>\n",
       "      <th>WS1</th>\n",
       "      <th>WS2</th>\n",
       "      <th>WS3</th>\n",
       "      <th>WS4</th>\n",
       "      <th>WS5</th>\n",
       "      <th>WS6</th>\n",
       "      <th>WS7</th>\n",
       "    </tr>\n",
       "  </thead>\n",
       "  <tbody>\n",
       "  </tbody>\n",
       "</table>\n",
       "</div>"
      ],
      "text/plain": [
       "Empty DataFrame\n",
       "Columns: [Location, WS1, WS2, WS3, WS4, WS5, WS6, WS7]\n",
       "Index: []"
      ]
     },
     "execution_count": 32,
     "metadata": {},
     "output_type": "execute_result"
    }
   ],
   "source": [
    "data[data.isnull().any(axis=1)] #check if we have null data\n",
    "\n",
    "\n",
    "#data=data.dropna() to drop null data if any"
   ]
  },
  {
   "cell_type": "code",
   "execution_count": 33,
   "metadata": {},
   "outputs": [
    {
     "data": {
      "text/plain": [
       "Location    0\n",
       "WS1         0\n",
       "WS2         0\n",
       "WS3         0\n",
       "WS4         0\n",
       "WS5         0\n",
       "WS6         0\n",
       "WS7         0\n",
       "dtype: int64"
      ]
     },
     "execution_count": 33,
     "metadata": {},
     "output_type": "execute_result"
    }
   ],
   "source": [
    "data.isna().sum()"
   ]
  },
  {
   "cell_type": "code",
   "execution_count": 34,
   "metadata": {},
   "outputs": [
    {
     "data": {
      "text/plain": [
       "Location    int64\n",
       "WS1         int64\n",
       "WS2         int64\n",
       "WS3         int64\n",
       "WS4         int64\n",
       "WS5         int64\n",
       "WS6         int64\n",
       "WS7         int64\n",
       "dtype: object"
      ]
     },
     "execution_count": 34,
     "metadata": {},
     "output_type": "execute_result"
    }
   ],
   "source": [
    "data.dtypes"
   ]
  },
  {
   "cell_type": "raw",
   "metadata": {},
   "source": [
    "data[['WS1']]=preprocessing.scale(data[['WS1']])\n",
    "data[['WS2']]=preprocessing.scale(data[['WS2']])\n",
    "data[['WS3']]=preprocessing.scale(data[['WS3']])\n",
    "data[['WS4']]=preprocessing.scale(data[['WS4']])\n",
    "data[['WS5']]=preprocessing.scale(data[['WS5']])\n",
    "data[['WS6']]=preprocessing.scale(data[['WS6']])\n",
    "data[['WS7']]=preprocessing.scale(data[['WS7']])"
   ]
  },
  {
   "cell_type": "code",
   "execution_count": 35,
   "metadata": {},
   "outputs": [
    {
     "data": {
      "text/html": [
       "<div>\n",
       "<style scoped>\n",
       "    .dataframe tbody tr th:only-of-type {\n",
       "        vertical-align: middle;\n",
       "    }\n",
       "\n",
       "    .dataframe tbody tr th {\n",
       "        vertical-align: top;\n",
       "    }\n",
       "\n",
       "    .dataframe thead th {\n",
       "        text-align: right;\n",
       "    }\n",
       "</style>\n",
       "<table border=\"1\" class=\"dataframe\">\n",
       "  <thead>\n",
       "    <tr style=\"text-align: right;\">\n",
       "      <th></th>\n",
       "      <th>Location</th>\n",
       "      <th>WS1</th>\n",
       "      <th>WS2</th>\n",
       "      <th>WS3</th>\n",
       "      <th>WS4</th>\n",
       "      <th>WS5</th>\n",
       "      <th>WS6</th>\n",
       "      <th>WS7</th>\n",
       "    </tr>\n",
       "  </thead>\n",
       "  <tbody>\n",
       "    <tr>\n",
       "      <td>count</td>\n",
       "      <td>1600.000000</td>\n",
       "      <td>1600.000000</td>\n",
       "      <td>1600.000000</td>\n",
       "      <td>1600.000000</td>\n",
       "      <td>1600.000000</td>\n",
       "      <td>1600.000000</td>\n",
       "      <td>1600.000000</td>\n",
       "      <td>1600.000000</td>\n",
       "    </tr>\n",
       "    <tr>\n",
       "      <td>mean</td>\n",
       "      <td>2.500000</td>\n",
       "      <td>-52.325000</td>\n",
       "      <td>-55.589375</td>\n",
       "      <td>-54.960000</td>\n",
       "      <td>-53.494375</td>\n",
       "      <td>-62.671250</td>\n",
       "      <td>-80.994375</td>\n",
       "      <td>-81.691250</td>\n",
       "    </tr>\n",
       "    <tr>\n",
       "      <td>std</td>\n",
       "      <td>1.118384</td>\n",
       "      <td>11.351317</td>\n",
       "      <td>3.420793</td>\n",
       "      <td>5.279993</td>\n",
       "      <td>11.519729</td>\n",
       "      <td>9.073223</td>\n",
       "      <td>6.508038</td>\n",
       "      <td>6.525434</td>\n",
       "    </tr>\n",
       "    <tr>\n",
       "      <td>min</td>\n",
       "      <td>1.000000</td>\n",
       "      <td>-74.000000</td>\n",
       "      <td>-74.000000</td>\n",
       "      <td>-73.000000</td>\n",
       "      <td>-77.000000</td>\n",
       "      <td>-86.000000</td>\n",
       "      <td>-97.000000</td>\n",
       "      <td>-98.000000</td>\n",
       "    </tr>\n",
       "    <tr>\n",
       "      <td>25%</td>\n",
       "      <td>1.750000</td>\n",
       "      <td>-61.000000</td>\n",
       "      <td>-58.000000</td>\n",
       "      <td>-58.000000</td>\n",
       "      <td>-63.000000</td>\n",
       "      <td>-69.000000</td>\n",
       "      <td>-86.000000</td>\n",
       "      <td>-86.000000</td>\n",
       "    </tr>\n",
       "    <tr>\n",
       "      <td>50%</td>\n",
       "      <td>2.500000</td>\n",
       "      <td>-55.000000</td>\n",
       "      <td>-56.000000</td>\n",
       "      <td>-55.000000</td>\n",
       "      <td>-56.000000</td>\n",
       "      <td>-64.000000</td>\n",
       "      <td>-82.000000</td>\n",
       "      <td>-83.000000</td>\n",
       "    </tr>\n",
       "    <tr>\n",
       "      <td>75%</td>\n",
       "      <td>3.250000</td>\n",
       "      <td>-46.000000</td>\n",
       "      <td>-53.000000</td>\n",
       "      <td>-51.000000</td>\n",
       "      <td>-46.000000</td>\n",
       "      <td>-56.000000</td>\n",
       "      <td>-77.000000</td>\n",
       "      <td>-78.000000</td>\n",
       "    </tr>\n",
       "    <tr>\n",
       "      <td>max</td>\n",
       "      <td>4.000000</td>\n",
       "      <td>-10.000000</td>\n",
       "      <td>-45.000000</td>\n",
       "      <td>-42.000000</td>\n",
       "      <td>-13.000000</td>\n",
       "      <td>-39.000000</td>\n",
       "      <td>-62.000000</td>\n",
       "      <td>-64.000000</td>\n",
       "    </tr>\n",
       "  </tbody>\n",
       "</table>\n",
       "</div>"
      ],
      "text/plain": [
       "          Location          WS1          WS2          WS3          WS4  \\\n",
       "count  1600.000000  1600.000000  1600.000000  1600.000000  1600.000000   \n",
       "mean      2.500000   -52.325000   -55.589375   -54.960000   -53.494375   \n",
       "std       1.118384    11.351317     3.420793     5.279993    11.519729   \n",
       "min       1.000000   -74.000000   -74.000000   -73.000000   -77.000000   \n",
       "25%       1.750000   -61.000000   -58.000000   -58.000000   -63.000000   \n",
       "50%       2.500000   -55.000000   -56.000000   -55.000000   -56.000000   \n",
       "75%       3.250000   -46.000000   -53.000000   -51.000000   -46.000000   \n",
       "max       4.000000   -10.000000   -45.000000   -42.000000   -13.000000   \n",
       "\n",
       "               WS5          WS6          WS7  \n",
       "count  1600.000000  1600.000000  1600.000000  \n",
       "mean    -62.671250   -80.994375   -81.691250  \n",
       "std       9.073223     6.508038     6.525434  \n",
       "min     -86.000000   -97.000000   -98.000000  \n",
       "25%     -69.000000   -86.000000   -86.000000  \n",
       "50%     -64.000000   -82.000000   -83.000000  \n",
       "75%     -56.000000   -77.000000   -78.000000  \n",
       "max     -39.000000   -62.000000   -64.000000  "
      ]
     },
     "execution_count": 35,
     "metadata": {},
     "output_type": "execute_result"
    }
   ],
   "source": [
    "data.describe()"
   ]
  },
  {
   "cell_type": "code",
   "execution_count": 36,
   "metadata": {},
   "outputs": [
    {
     "data": {
      "text/plain": [
       "array([[<matplotlib.axes._subplots.AxesSubplot object at 0x1a2072ac90>,\n",
       "        <matplotlib.axes._subplots.AxesSubplot object at 0x1a20758f50>,\n",
       "        <matplotlib.axes._subplots.AxesSubplot object at 0x1a2078b910>],\n",
       "       [<matplotlib.axes._subplots.AxesSubplot object at 0x1073d0b90>,\n",
       "        <matplotlib.axes._subplots.AxesSubplot object at 0x107403750>,\n",
       "        <matplotlib.axes._subplots.AxesSubplot object at 0x107434f50>],\n",
       "       [<matplotlib.axes._subplots.AxesSubplot object at 0x107472790>,\n",
       "        <matplotlib.axes._subplots.AxesSubplot object at 0x1074a0f90>,\n",
       "        <matplotlib.axes._subplots.AxesSubplot object at 0x1074aab10>]],\n",
       "      dtype=object)"
      ]
     },
     "execution_count": 36,
     "metadata": {},
     "output_type": "execute_result"
    },
    {
     "data": {
      "image/png": "[encoded data removed]",
      "text/plain": [
       "<Figure size 432x288 with 9 Axes>"
      ]
     },
     "metadata": {
      "needs_background": "light"
     },
     "output_type": "display_data"
    }
   ],
   "source": [
    "data.hist()"
   ]
  },
  {
   "cell_type": "code",
   "execution_count": 37,
   "metadata": {},
   "outputs": [],
   "source": [
    "train_label = data['Location']\n",
    "train_data = data.drop('Location', axis=1)"
   ]
  },
  {
   "cell_type": "code",
   "execution_count": 38,
   "metadata": {},
   "outputs": [
    {
     "data": {
      "text/plain": [
       "((1600,), (1600, 7))"
      ]
     },
     "execution_count": 38,
     "metadata": {},
     "output_type": "execute_result"
    }
   ],
   "source": [
    "train_label.shape, train_data.shape"
   ]
  },
  {
   "cell_type": "code",
   "execution_count": 39,
   "metadata": {},
   "outputs": [
    {
     "data": {
      "text/html": [
       "<div>\n",
       "<style scoped>\n",
       "    .dataframe tbody tr th:only-of-type {\n",
       "        vertical-align: middle;\n",
       "    }\n",
       "\n",
       "    .dataframe tbody tr th {\n",
       "        vertical-align: top;\n",
       "    }\n",
       "\n",
       "    .dataframe thead th {\n",
       "        text-align: right;\n",
       "    }\n",
       "</style>\n",
       "<table border=\"1\" class=\"dataframe\">\n",
       "  <thead>\n",
       "    <tr style=\"text-align: right;\">\n",
       "      <th></th>\n",
       "      <th>WS1</th>\n",
       "      <th>WS2</th>\n",
       "      <th>WS3</th>\n",
       "      <th>WS4</th>\n",
       "      <th>WS5</th>\n",
       "      <th>WS6</th>\n",
       "      <th>WS7</th>\n",
       "    </tr>\n",
       "  </thead>\n",
       "  <tbody>\n",
       "    <tr>\n",
       "      <td>count</td>\n",
       "      <td>1600.000000</td>\n",
       "      <td>1600.000000</td>\n",
       "      <td>1600.000000</td>\n",
       "      <td>1600.000000</td>\n",
       "      <td>1600.000000</td>\n",
       "      <td>1600.000000</td>\n",
       "      <td>1600.000000</td>\n",
       "    </tr>\n",
       "    <tr>\n",
       "      <td>mean</td>\n",
       "      <td>-52.325000</td>\n",
       "      <td>-55.589375</td>\n",
       "      <td>-54.960000</td>\n",
       "      <td>-53.494375</td>\n",
       "      <td>-62.671250</td>\n",
       "      <td>-80.994375</td>\n",
       "      <td>-81.691250</td>\n",
       "    </tr>\n",
       "    <tr>\n",
       "      <td>std</td>\n",
       "      <td>11.351317</td>\n",
       "      <td>3.420793</td>\n",
       "      <td>5.279993</td>\n",
       "      <td>11.519729</td>\n",
       "      <td>9.073223</td>\n",
       "      <td>6.508038</td>\n",
       "      <td>6.525434</td>\n",
       "    </tr>\n",
       "    <tr>\n",
       "      <td>min</td>\n",
       "      <td>-74.000000</td>\n",
       "      <td>-74.000000</td>\n",
       "      <td>-73.000000</td>\n",
       "      <td>-77.000000</td>\n",
       "      <td>-86.000000</td>\n",
       "      <td>-97.000000</td>\n",
       "      <td>-98.000000</td>\n",
       "    </tr>\n",
       "    <tr>\n",
       "      <td>25%</td>\n",
       "      <td>-61.000000</td>\n",
       "      <td>-58.000000</td>\n",
       "      <td>-58.000000</td>\n",
       "      <td>-63.000000</td>\n",
       "      <td>-69.000000</td>\n",
       "      <td>-86.000000</td>\n",
       "      <td>-86.000000</td>\n",
       "    </tr>\n",
       "    <tr>\n",
       "      <td>50%</td>\n",
       "      <td>-55.000000</td>\n",
       "      <td>-56.000000</td>\n",
       "      <td>-55.000000</td>\n",
       "      <td>-56.000000</td>\n",
       "      <td>-64.000000</td>\n",
       "      <td>-82.000000</td>\n",
       "      <td>-83.000000</td>\n",
       "    </tr>\n",
       "    <tr>\n",
       "      <td>75%</td>\n",
       "      <td>-46.000000</td>\n",
       "      <td>-53.000000</td>\n",
       "      <td>-51.000000</td>\n",
       "      <td>-46.000000</td>\n",
       "      <td>-56.000000</td>\n",
       "      <td>-77.000000</td>\n",
       "      <td>-78.000000</td>\n",
       "    </tr>\n",
       "    <tr>\n",
       "      <td>max</td>\n",
       "      <td>-10.000000</td>\n",
       "      <td>-45.000000</td>\n",
       "      <td>-42.000000</td>\n",
       "      <td>-13.000000</td>\n",
       "      <td>-39.000000</td>\n",
       "      <td>-62.000000</td>\n",
       "      <td>-64.000000</td>\n",
       "    </tr>\n",
       "  </tbody>\n",
       "</table>\n",
       "</div>"
      ],
      "text/plain": [
       "               WS1          WS2          WS3          WS4          WS5  \\\n",
       "count  1600.000000  1600.000000  1600.000000  1600.000000  1600.000000   \n",
       "mean    -52.325000   -55.589375   -54.960000   -53.494375   -62.671250   \n",
       "std      11.351317     3.420793     5.279993    11.519729     9.073223   \n",
       "min     -74.000000   -74.000000   -73.000000   -77.000000   -86.000000   \n",
       "25%     -61.000000   -58.000000   -58.000000   -63.000000   -69.000000   \n",
       "50%     -55.000000   -56.000000   -55.000000   -56.000000   -64.000000   \n",
       "75%     -46.000000   -53.000000   -51.000000   -46.000000   -56.000000   \n",
       "max     -10.000000   -45.000000   -42.000000   -13.000000   -39.000000   \n",
       "\n",
       "               WS6          WS7  \n",
       "count  1600.000000  1600.000000  \n",
       "mean    -80.994375   -81.691250  \n",
       "std       6.508038     6.525434  \n",
       "min     -97.000000   -98.000000  \n",
       "25%     -86.000000   -86.000000  \n",
       "50%     -82.000000   -83.000000  \n",
       "75%     -77.000000   -78.000000  \n",
       "max     -62.000000   -64.000000  "
      ]
     },
     "execution_count": 39,
     "metadata": {},
     "output_type": "execute_result"
    }
   ],
   "source": [
    "train_data.describe()"
   ]
  },
  {
   "cell_type": "code",
   "execution_count": 40,
   "metadata": {},
   "outputs": [
    {
     "data": {
      "text/plain": [
       "<matplotlib.axes._subplots.AxesSubplot at 0x1a20b0b750>"
      ]
     },
     "execution_count": 40,
     "metadata": {},
     "output_type": "execute_result"
    },
    {
     "data": {
      "image/png": "[encoded data removed]",
      "text/plain": [
       "<Figure size 864x720 with 2 Axes>"
      ]
     },
     "metadata": {
      "needs_background": "light"
     },
     "output_type": "display_data"
    }
   ],
   "source": [
    "fig, ax = plt.subplots(figsize=(12, 10))\n",
    "sn.heatmap(train_data.corr(), annot=True)"
   ]
  },
  {
   "cell_type": "code",
   "execution_count": 41,
   "metadata": {},
   "outputs": [
    {
     "data": {
      "text/plain": [
       "((1280, 7), (320, 7))"
      ]
     },
     "execution_count": 41,
     "metadata": {},
     "output_type": "execute_result"
    }
   ],
   "source": [
    "train_data, test_data, train_label, test_label = train_test_split(train_data, train_label, test_size = 0.2, random_state=0) \n",
    "train_data.shape, test_data.shape\n",
    "\n",
    "\n"
   ]
  },
  {
   "cell_type": "raw",
   "metadata": {},
   "source": [
    "testdata=pd.read_csv('D_Test1.csv', sep = ',')"
   ]
  },
  {
   "cell_type": "raw",
   "metadata": {},
   "source": [
    "testdata.head()\n"
   ]
  },
  {
   "cell_type": "code",
   "execution_count": null,
   "metadata": {},
   "outputs": [],
   "source": []
  },
  {
   "cell_type": "raw",
   "metadata": {},
   "source": [
    "test_label = testdata['Location']\n",
    "test_data = testdata.drop('Location', axis=1)\n",
    "test_data.shape, test_label.shape"
   ]
  },
  {
   "cell_type": "code",
   "execution_count": 45,
   "metadata": {},
   "outputs": [],
   "source": [
    "scaler=preprocessing.StandardScaler()\n",
    "train_data_standard = scaler.fit_transform(train_data) \n",
    "test_data_standard = scaler.transform(test_data)"
   ]
  },
  {
   "cell_type": "code",
   "execution_count": null,
   "metadata": {},
   "outputs": [],
   "source": []
  },
  {
   "cell_type": "code",
   "execution_count": 46,
   "metadata": {},
   "outputs": [],
   "source": [
    "#train_data_db=data.drop('Location', axis=1)\n",
    "train_data_df=pd.DataFrame(train_data, columns=train_data.columns)"
   ]
  },
  {
   "cell_type": "code",
   "execution_count": 47,
   "metadata": {},
   "outputs": [],
   "source": [
    "train_data_standard_df=pd.DataFrame(train_data_standard, columns=train_data_df.columns)"
   ]
  },
  {
   "cell_type": "code",
   "execution_count": 48,
   "metadata": {},
   "outputs": [
    {
     "data": {
      "text/html": [
       "<div>\n",
       "<style scoped>\n",
       "    .dataframe tbody tr th:only-of-type {\n",
       "        vertical-align: middle;\n",
       "    }\n",
       "\n",
       "    .dataframe tbody tr th {\n",
       "        vertical-align: top;\n",
       "    }\n",
       "\n",
       "    .dataframe thead th {\n",
       "        text-align: right;\n",
       "    }\n",
       "</style>\n",
       "<table border=\"1\" class=\"dataframe\">\n",
       "  <thead>\n",
       "    <tr style=\"text-align: right;\">\n",
       "      <th></th>\n",
       "      <th>WS1</th>\n",
       "      <th>WS2</th>\n",
       "      <th>WS3</th>\n",
       "      <th>WS4</th>\n",
       "      <th>WS5</th>\n",
       "      <th>WS6</th>\n",
       "      <th>WS7</th>\n",
       "    </tr>\n",
       "  </thead>\n",
       "  <tbody>\n",
       "    <tr>\n",
       "      <td>count</td>\n",
       "      <td>1.280000e+03</td>\n",
       "      <td>1.280000e+03</td>\n",
       "      <td>1.280000e+03</td>\n",
       "      <td>1.280000e+03</td>\n",
       "      <td>1.280000e+03</td>\n",
       "      <td>1.280000e+03</td>\n",
       "      <td>1.280000e+03</td>\n",
       "    </tr>\n",
       "    <tr>\n",
       "      <td>mean</td>\n",
       "      <td>2.704434e-16</td>\n",
       "      <td>8.716552e-16</td>\n",
       "      <td>5.497230e-16</td>\n",
       "      <td>-2.081668e-18</td>\n",
       "      <td>-2.643719e-16</td>\n",
       "      <td>9.291179e-16</td>\n",
       "      <td>5.898060e-18</td>\n",
       "    </tr>\n",
       "    <tr>\n",
       "      <td>std</td>\n",
       "      <td>1.000391e+00</td>\n",
       "      <td>1.000391e+00</td>\n",
       "      <td>1.000391e+00</td>\n",
       "      <td>1.000391e+00</td>\n",
       "      <td>1.000391e+00</td>\n",
       "      <td>1.000391e+00</td>\n",
       "      <td>1.000391e+00</td>\n",
       "    </tr>\n",
       "    <tr>\n",
       "      <td>min</td>\n",
       "      <td>-1.904595e+00</td>\n",
       "      <td>-5.344337e+00</td>\n",
       "      <td>-3.404176e+00</td>\n",
       "      <td>-2.034273e+00</td>\n",
       "      <td>-2.610299e+00</td>\n",
       "      <td>-2.445922e+00</td>\n",
       "      <td>-2.490599e+00</td>\n",
       "    </tr>\n",
       "    <tr>\n",
       "      <td>25%</td>\n",
       "      <td>-7.614534e-01</td>\n",
       "      <td>-6.935329e-01</td>\n",
       "      <td>-5.764448e-01</td>\n",
       "      <td>-8.219627e-01</td>\n",
       "      <td>-7.160783e-01</td>\n",
       "      <td>-7.621309e-01</td>\n",
       "      <td>-6.584341e-01</td>\n",
       "    </tr>\n",
       "    <tr>\n",
       "      <td>50%</td>\n",
       "      <td>-2.338495e-01</td>\n",
       "      <td>-1.121825e-01</td>\n",
       "      <td>-1.089855e-02</td>\n",
       "      <td>-2.158075e-01</td>\n",
       "      <td>-1.589544e-01</td>\n",
       "      <td>-1.498431e-01</td>\n",
       "      <td>-2.003930e-01</td>\n",
       "    </tr>\n",
       "    <tr>\n",
       "      <td>75%</td>\n",
       "      <td>5.575565e-01</td>\n",
       "      <td>7.598432e-01</td>\n",
       "      <td>7.431631e-01</td>\n",
       "      <td>6.501285e-01</td>\n",
       "      <td>6.210190e-01</td>\n",
       "      <td>6.155167e-01</td>\n",
       "      <td>5.630089e-01</td>\n",
       "    </tr>\n",
       "    <tr>\n",
       "      <td>max</td>\n",
       "      <td>3.723180e+00</td>\n",
       "      <td>3.085245e+00</td>\n",
       "      <td>2.439802e+00</td>\n",
       "      <td>3.507717e+00</td>\n",
       "      <td>2.626665e+00</td>\n",
       "      <td>2.911596e+00</td>\n",
       "      <td>2.700534e+00</td>\n",
       "    </tr>\n",
       "  </tbody>\n",
       "</table>\n",
       "</div>"
      ],
      "text/plain": [
       "                WS1           WS2           WS3           WS4           WS5  \\\n",
       "count  1.280000e+03  1.280000e+03  1.280000e+03  1.280000e+03  1.280000e+03   \n",
       "mean   2.704434e-16  8.716552e-16  5.497230e-16 -2.081668e-18 -2.643719e-16   \n",
       "std    1.000391e+00  1.000391e+00  1.000391e+00  1.000391e+00  1.000391e+00   \n",
       "min   -1.904595e+00 -5.344337e+00 -3.404176e+00 -2.034273e+00 -2.610299e+00   \n",
       "25%   -7.614534e-01 -6.935329e-01 -5.764448e-01 -8.219627e-01 -7.160783e-01   \n",
       "50%   -2.338495e-01 -1.121825e-01 -1.089855e-02 -2.158075e-01 -1.589544e-01   \n",
       "75%    5.575565e-01  7.598432e-01  7.431631e-01  6.501285e-01  6.210190e-01   \n",
       "max    3.723180e+00  3.085245e+00  2.439802e+00  3.507717e+00  2.626665e+00   \n",
       "\n",
       "                WS6           WS7  \n",
       "count  1.280000e+03  1.280000e+03  \n",
       "mean   9.291179e-16  5.898060e-18  \n",
       "std    1.000391e+00  1.000391e+00  \n",
       "min   -2.445922e+00 -2.490599e+00  \n",
       "25%   -7.621309e-01 -6.584341e-01  \n",
       "50%   -1.498431e-01 -2.003930e-01  \n",
       "75%    6.155167e-01  5.630089e-01  \n",
       "max    2.911596e+00  2.700534e+00  "
      ]
     },
     "execution_count": 48,
     "metadata": {},
     "output_type": "execute_result"
    }
   ],
   "source": [
    "train_data_standard_df.describe()"
   ]
  },
  {
   "cell_type": "code",
   "execution_count": 49,
   "metadata": {},
   "outputs": [
    {
     "data": {
      "image/png": "[encoded data removed]",
      "text/plain": [
       "<Figure size 864x576 with 1 Axes>"
      ]
     },
     "metadata": {
      "needs_background": "light"
     },
     "output_type": "display_data"
    }
   ],
   "source": [
    "train_data_standard_df.boxplot(figsize=(12, 8), rot=45)\n",
    "\n",
    "plt.show()"
   ]
  },
  {
   "cell_type": "code",
   "execution_count": null,
   "metadata": {},
   "outputs": [],
   "source": []
  },
  {
   "cell_type": "code",
   "execution_count": 50,
   "metadata": {},
   "outputs": [],
   "source": [
    "z=np.abs(stats.zscore(train_data_standard))"
   ]
  },
  {
   "cell_type": "code",
   "execution_count": 51,
   "metadata": {},
   "outputs": [
    {
     "name": "stdout",
     "output_type": "stream",
     "text": [
      "[[3.10764235 2.14690911 1.89605268 ... 2.61029946 1.38087644 1.17373038]\n",
      " [1.20112342 0.17849276 0.95347561 ... 0.38180396 0.60905895 0.81111449]\n",
      " [3.54731232 2.43758434 1.51902185 ... 0.71607828 1.38087644 1.17373038]\n",
      " ...\n",
      " [0.67351944 1.63186893 0.74316311 ... 1.51241722 0.91520286 0.35307337]\n",
      " [1.08516046 0.40285771 1.49722476 ... 0.15895441 1.07473253 1.63177151]\n",
      " [1.34896244 0.17849276 0.01089855 ... 0.71607828 2.29930816 1.93713226]]\n"
     ]
    }
   ],
   "source": [
    "print(z)"
   ]
  },
  {
   "cell_type": "code",
   "execution_count": 52,
   "metadata": {},
   "outputs": [
    {
     "name": "stdout",
     "output_type": "stream",
     "text": [
      "(array([   0,    2,    2,   42,   42,   42,   59,   59,  108,  180,  207,\n",
      "        207,  215,  362,  363,  372,  432,  454,  454,  491,  491,  529,\n",
      "        561,  625,  625,  638,  662,  662,  680,  680,  705,  705,  782,\n",
      "        807,  812,  812,  883,  883,  950,  953,  953,  958,  958,  981,\n",
      "        981,  983,  985,  999, 1044, 1070, 1117, 1152, 1186, 1186, 1186,\n",
      "       1199, 1208, 1208, 1242, 1242, 1253, 1271]), array([0, 0, 3, 0, 1, 3, 0, 3, 0, 3, 0, 3, 0, 2, 1, 0, 0, 0, 3, 0, 3, 1,\n",
      "       2, 0, 3, 1, 0, 3, 0, 3, 0, 3, 0, 0, 0, 3, 0, 3, 0, 0, 3, 0, 3, 0,\n",
      "       3, 2, 3, 0, 0, 1, 0, 3, 0, 1, 3, 1, 0, 3, 0, 3, 0, 0]))\n"
     ]
    }
   ],
   "source": [
    "thrs=3\n",
    "print(np.where(z>3))"
   ]
  },
  {
   "cell_type": "raw",
   "metadata": {},
   "source": [
    "print(z[791][1])"
   ]
  },
  {
   "cell_type": "code",
   "execution_count": 53,
   "metadata": {},
   "outputs": [
    {
     "name": "stdout",
     "output_type": "stream",
     "text": [
      "Location     1.5\n",
      "WS1         15.0\n",
      "WS2          5.0\n",
      "WS3          7.0\n",
      "WS4         17.0\n",
      "WS5         13.0\n",
      "WS6          9.0\n",
      "WS7          8.0\n",
      "dtype: float64\n"
     ]
    }
   ],
   "source": [
    "Q1 = data.quantile(0.25)\n",
    "Q3 = data.quantile(0.75)\n",
    "IQR = Q3 - Q1\n",
    "print(IQR)"
   ]
  },
  {
   "cell_type": "markdown",
   "metadata": {},
   "source": [
    "print(data < (Q1 - 1.5 * IQR)) |(data > (Q3 + 1.5 * IQR))"
   ]
  },
  {
   "cell_type": "code",
   "execution_count": 54,
   "metadata": {},
   "outputs": [
    {
     "name": "stdout",
     "output_type": "stream",
     "text": [
      "-64.0\n",
      "-38.0\n"
     ]
    }
   ],
   "source": [
    "print(data['WS1'].quantile(0.10))\n",
    "print(data['WS1'].quantile(0.90))"
   ]
  },
  {
   "cell_type": "code",
   "execution_count": 55,
   "metadata": {},
   "outputs": [
    {
     "name": "stdout",
     "output_type": "stream",
     "text": [
      "0.399051057209738\n"
     ]
    }
   ],
   "source": [
    "data['WS1'] = np.where(data['WS1'] <-64.0, -64.0,data['WS1'])\n",
    "data['WS1'] = np.where(data['WS1'] >-38.0, -38.0,data['WS1'])\n",
    "print(data['WS1'].skew())"
   ]
  },
  {
   "cell_type": "code",
   "execution_count": 56,
   "metadata": {},
   "outputs": [
    {
     "name": "stdout",
     "output_type": "stream",
     "text": [
      "skew1: 0.399051057209738\n",
      "skew2: -0.26360706418301216\n",
      "skew3: -0.2588857304866265\n",
      "skew4: 0.846194491503386\n",
      "skew5: 0.3942235277409816\n",
      "skew6: 0.43629642032775834\n",
      "skew7: 0.48893599953670425\n"
     ]
    }
   ],
   "source": [
    "#df[\"WS1\"] = np.where(df[\"WS1\"] <-64.0, -64.0,df['WS1'])\n",
    "#df[\"WS1\"] = np.where(df[\"WS1\"] >-38.0, -38.0,df['WS1'])\n",
    "print('skew1:',data['WS1'].skew())\n",
    "print('skew2:',data['WS2'].skew())\n",
    "print('skew3:',data['WS3'].skew())\n",
    "print('skew4:',data['WS4'].skew())\n",
    "print('skew5:',data['WS5'].skew())\n",
    "print('skew6:',data['WS6'].skew())\n",
    "print('skew7:',data['WS7'].skew())"
   ]
  },
  {
   "cell_type": "code",
   "execution_count": 57,
   "metadata": {},
   "outputs": [
    {
     "data": {
      "text/plain": [
       "WS1    129.427277\n",
       "WS2     11.844681\n",
       "WS3     28.160846\n",
       "WS4    133.465146\n",
       "WS5     80.607582\n",
       "WS6     42.711830\n",
       "WS7     42.931196\n",
       "dtype: float64"
      ]
     },
     "execution_count": 57,
     "metadata": {},
     "output_type": "execute_result"
    }
   ],
   "source": [
    "train_data.var(axis=0)"
   ]
  },
  {
   "cell_type": "code",
   "execution_count": null,
   "metadata": {},
   "outputs": [],
   "source": []
  },
  {
   "cell_type": "code",
   "execution_count": 58,
   "metadata": {},
   "outputs": [],
   "source": [
    "#train_scaled=pd.DataFrame(minmax_scale(train_data, feature_range=(0,10)), columns=train_data.columns)"
   ]
  },
  {
   "cell_type": "code",
   "execution_count": 60,
   "metadata": {},
   "outputs": [
    {
     "name": "stdout",
     "output_type": "stream",
     "text": [
      "Number of mislabeled points out of a total 400 points : 9\n"
     ]
    }
   ],
   "source": [
    "clf_GNB=GaussianNB(priors=None)\n",
    "GNB_pred = clf_GNB.fit(train_data_standard, train_label).predict(test_data_standard)\n",
    "print(\"Number of mislabeled points out of a total %d points : %d\" % (test_data_standard.shape[0], (test_label != GNB_pred).sum()))"
   ]
  },
  {
   "cell_type": "code",
   "execution_count": 61,
   "metadata": {},
   "outputs": [
    {
     "name": "stdout",
     "output_type": "stream",
     "text": [
      "***** Training Accuracy with GNB: 0.98515625\n",
      "***** Test Accuracy with GNB: 0.9775\n"
     ]
    }
   ],
   "source": [
    "print('***** Training Accuracy with GNB:', accuracy_score(train_label,clf_GNB.predict(train_data_standard)))\n",
    "print('***** Test Accuracy with GNB:', accuracy_score(test_label,clf_GNB.predict(test_data_standard)))"
   ]
  },
  {
   "cell_type": "code",
   "execution_count": 62,
   "metadata": {},
   "outputs": [
    {
     "data": {
      "image/png": "[encoded data removed]",
      "text/plain": [
       "<Figure size 1080x432 with 1 Axes>"
      ]
     },
     "metadata": {
      "needs_background": "light"
     },
     "output_type": "display_data"
    }
   ],
   "source": [
    "#plot\n",
    "plt.rcParams['figure.figsize'] = [15,6]\n",
    "plt.plot(GNB_pred, label='Predicted')\n",
    "plt.plot(test_label, label='Actual')\n",
    "plt.legend()\n",
    "plt.show()"
   ]
  },
  {
   "cell_type": "code",
   "execution_count": 63,
   "metadata": {},
   "outputs": [
    {
     "name": "stdout",
     "output_type": "stream",
     "text": [
      "confusion matrix without normalization\n",
      "[[ 99   0   1   0]\n",
      " [  0  94   6   0]\n",
      " [  1   1  98   0]\n",
      " [  0   0   0 100]]\n"
     ]
    },
    {
     "data": {
      "image/png": "[encoded data removed]",
      "text/plain": [
       "<Figure size 432x288 with 2 Axes>"
      ]
     },
     "metadata": {
      "needs_background": "light"
     },
     "output_type": "display_data"
    }
   ],
   "source": [
    "test_pred=clf_GNB.predict(test_data_standard)\n",
    "#print(confusion_matrix(test_label, pred))\n",
    "plt.rcParams['figure.figsize'] = [6,4]\n",
    "\n",
    "\n",
    "classes=range(1-4)\n",
    "\n",
    "\n",
    "cmap=plt.cm.Blues\n",
    "cm=confusion_matrix(np.array(test_label),np.array(test_pred))\n",
    "\n",
    "plt.imshow(cm, interpolation='nearest', cmap=cmap)\n",
    "plt.colorbar()\n",
    "title= 'confusion matrix without normalization'\n",
    "\n",
    "plt.title(title)\n",
    "\n",
    "tick_marks = np.arange(len(classes))\n",
    "plt.xticks(tick_marks, classes, rotation = 45)\n",
    "plt.yticks(tick_marks, classes)\n",
    "\n",
    "print ('confusion matrix without normalization')\n",
    "print (cm)\n",
    "\n",
    "thresh = cm.max() / 2\n",
    "fmt = 'd'\n",
    "for i, j in itertools.product(range(cm.shape[0]), range(cm.shape[1])):\n",
    "    plt.text(j, i, format(cm[i, j], fmt),\n",
    "            horizontalalignment=\"center\",\n",
    "            color=\"white\" if cm[i, j] > thresh else \"black\")\n",
    "\n",
    "plt.tight_layout()\n",
    "plt.ylabel('True label')\n",
    "plt.xlabel('Predicted label')\n",
    "plt.show()\n"
   ]
  },
  {
   "cell_type": "code",
   "execution_count": 64,
   "metadata": {},
   "outputs": [
    {
     "name": "stdout",
     "output_type": "stream",
     "text": [
      "confusion matrix with normalization\n",
      "[[0.99 0.   0.01 0.  ]\n",
      " [0.   0.94 0.06 0.  ]\n",
      " [0.01 0.01 0.98 0.  ]\n",
      " [0.   0.   0.   1.  ]]\n"
     ]
    },
    {
     "data": {
      "image/png": "[encoded data removed]",
      "text/plain": [
       "<Figure size 432x288 with 2 Axes>"
      ]
     },
     "metadata": {
      "needs_background": "light"
     },
     "output_type": "display_data"
    }
   ],
   "source": [
    "#normalized\n",
    "plt.rcParams['figure.figsize'] = [6,4]\n",
    "\n",
    "#plt.figure(figsize=(10, 6))\n",
    "test_pred=clf_GNB.predict(test_data_standard)\n",
    "cmap=plt.cm.Blues\n",
    "classes = range(1-4)\n",
    "cm=confusion_matrix(np.array(test_label),np.array(test_pred))\n",
    "cm = cm.astype('float') / cm.sum(axis=1)[:, np.newaxis]\n",
    "\n",
    "\n",
    "\n",
    "plt.imshow(cm, interpolation='nearest', cmap=cmap)\n",
    "plt.colorbar()\n",
    "title= 'confusion matrix with normalization'\n",
    "plt.title(title)\n",
    "\n",
    "tick_marks = np.arange(len(classes))\n",
    "plt.xticks(tick_marks, classes, rotation = 90)\n",
    "plt.yticks(tick_marks, classes)\n",
    "\n",
    "\n",
    "print ('confusion matrix with normalization')\n",
    "print (cm)\n",
    "\n",
    "np.set_printoptions(precision=2)\n",
    "\n",
    "\n",
    "\n",
    "thresh = cm.max() / 1.5\n",
    "fmt = '.2f' \n",
    "for i, j in itertools.product(range(cm.shape[0]), range(cm.shape[1])):\n",
    "    plt.text(j, i, format(cm[i, j], fmt),\n",
    "            horizontalalignment=\"center\",\n",
    "            color=\"white\" if cm[i, j] > thresh else \"black\")\n",
    "\n",
    "plt.tight_layout()\n",
    "plt.ylabel('True label')\n",
    "plt.xlabel('Predicted label')\n",
    "plt.show()\n"
   ]
  },
  {
   "cell_type": "code",
   "execution_count": 65,
   "metadata": {},
   "outputs": [
    {
     "name": "stdout",
     "output_type": "stream",
     "text": [
      "Number of mislabeled points out of a total 400 points : 8\n",
      "***** Training Accuracy with RF: 1.0\n",
      "***** Test Accuracy with RF: 0.98\n"
     ]
    }
   ],
   "source": [
    "clf_RF=RandomForestClassifier(n_estimators=500,max_depth=20).fit(train_data_standard, train_label) \n",
    "RF_pred = clf_RF.fit(train_data_standard, train_label).predict(test_data_standard)\n",
    "\n",
    "print(\"Number of mislabeled points out of a total %d points : %d\" % (test_data_standard.shape[0], (test_label != RF_pred).sum()))\n",
    "print('***** Training Accuracy with RF:', accuracy_score(train_label,clf_RF.predict(train_data_standard)))\n",
    "print('***** Test Accuracy with RF:', accuracy_score(test_label,clf_RF.predict(test_data_standard)))\n"
   ]
  },
  {
   "cell_type": "code",
   "execution_count": 66,
   "metadata": {},
   "outputs": [
    {
     "name": "stdout",
     "output_type": "stream",
     "text": [
      "              precision    recall  f1-score   support\n",
      "\n",
      "           1       1.00      0.99      0.99       100\n",
      "           2       0.97      0.96      0.96       100\n",
      "           3       0.95      0.97      0.96       100\n",
      "           4       1.00      1.00      1.00       100\n",
      "\n",
      "    accuracy                           0.98       400\n",
      "   macro avg       0.98      0.98      0.98       400\n",
      "weighted avg       0.98      0.98      0.98       400\n",
      "\n"
     ]
    }
   ],
   "source": [
    "print(classification_report(test_label, RF_pred))"
   ]
  },
  {
   "cell_type": "code",
   "execution_count": 67,
   "metadata": {},
   "outputs": [
    {
     "name": "stdout",
     "output_type": "stream",
     "text": [
      "confusion matrix without normalization\n",
      "[[ 99   0   1   0]\n",
      " [  0  96   4   0]\n",
      " [  0   3  97   0]\n",
      " [  0   0   0 100]]\n"
     ]
    },
    {
     "data": {
      "image/png": "[encoded data removed]",
      "text/plain": [
       "<Figure size 432x288 with 2 Axes>"
      ]
     },
     "metadata": {
      "needs_background": "light"
     },
     "output_type": "display_data"
    }
   ],
   "source": [
    "test_pred=clf_RF.predict(test_data_standard)\n",
    "#print(confusion_matrix(test_label, pred))\n",
    "plt.rcParams['figure.figsize'] = [6,4]\n",
    "\n",
    "\n",
    "#classes=['Location1', 'Location2', 'Location3', 'Location4' ]\n",
    "classes=range(0-3)\n",
    "\n",
    "\n",
    "cmap=plt.cm.Blues\n",
    "cm=confusion_matrix(np.array(test_label),np.array(test_pred))\n",
    "\n",
    "plt.imshow(cm, interpolation='nearest', cmap=cmap)\n",
    "plt.colorbar()\n",
    "title= 'confusion matrix without normalization'\n",
    "\n",
    "plt.title(title)\n",
    "\n",
    "tick_marks = np.arange(len(classes))\n",
    "plt.xticks(tick_marks, classes, rotation = 45)\n",
    "plt.yticks(tick_marks, classes)\n",
    "\n",
    "print ('confusion matrix without normalization')\n",
    "print (cm)\n",
    "\n",
    "thresh = cm.max() / 2\n",
    "fmt = 'd'\n",
    "for i, j in itertools.product(range(cm.shape[0]), range(cm.shape[1])):\n",
    "    plt.text(j, i, format(cm[i, j], fmt),\n",
    "            horizontalalignment=\"center\",\n",
    "            color=\"white\" if cm[i, j] > thresh else \"black\")\n",
    "\n",
    "plt.tight_layout()\n",
    "plt.ylabel('True label')\n",
    "plt.xlabel('Predicted label')\n",
    "plt.show()\n",
    "\n"
   ]
  },
  {
   "cell_type": "code",
   "execution_count": 68,
   "metadata": {},
   "outputs": [
    {
     "name": "stdout",
     "output_type": "stream",
     "text": [
      "confusion matrix with normalization\n",
      "[[0.99 0.   0.01 0.  ]\n",
      " [0.   0.96 0.04 0.  ]\n",
      " [0.   0.03 0.97 0.  ]\n",
      " [0.   0.   0.   1.  ]]\n"
     ]
    },
    {
     "data": {
      "image/png": "[encoded data removed]",
      "text/plain": [
       "<Figure size 432x288 with 2 Axes>"
      ]
     },
     "metadata": {
      "needs_background": "light"
     },
     "output_type": "display_data"
    }
   ],
   "source": [
    "#normalized\n",
    "plt.rcParams['figure.figsize'] = [6,4]\n",
    "\n",
    "#plt.figure(figsize=(10, 6))\n",
    "test_pred=clf_RF.predict(test_data_standard)\n",
    "cmap=plt.cm.Blues\n",
    "#classes=['WS1', 'WS2', 'WS3', 'WS4', 'WS5', 'WS6', 'WS7' ]\n",
    "classes = range(0-6)\n",
    "cm=confusion_matrix(np.array(test_label),np.array(test_pred))\n",
    "cm = cm.astype('float') / cm.sum(axis=1)[:, np.newaxis]\n",
    "\n",
    "\n",
    "\n",
    "plt.imshow(cm, interpolation='nearest', cmap=cmap)\n",
    "plt.colorbar()\n",
    "title= 'confusion matrix with normalization'\n",
    "plt.title(title)\n",
    "\n",
    "tick_marks = np.arange(len(classes))\n",
    "plt.xticks(tick_marks, classes, rotation = 90)\n",
    "plt.yticks(tick_marks, classes)\n",
    "\n",
    "\n",
    "print ('confusion matrix with normalization')\n",
    "print (cm)\n",
    "\n",
    "np.set_printoptions(precision=2)\n",
    "\n",
    "\n",
    "\n",
    "thresh = cm.max() / 1.5\n",
    "fmt = '.2f' \n",
    "for i, j in itertools.product(range(cm.shape[0]), range(cm.shape[1])):\n",
    "    plt.text(j, i, format(cm[i, j], fmt),\n",
    "            horizontalalignment=\"center\",\n",
    "            color=\"white\" if cm[i, j] > thresh else \"black\")\n",
    "\n",
    "plt.tight_layout()\n",
    "plt.ylabel('True label')\n",
    "plt.xlabel('Predicted label')\n",
    "plt.show()\n"
   ]
  },
  {
   "cell_type": "code",
   "execution_count": 69,
   "metadata": {},
   "outputs": [
    {
     "name": "stdout",
     "output_type": "stream",
     "text": [
      "Number of mislabeled points out of a total 400 points : 11\n",
      "***** Training Accuracy with SVM: 0.9875\n",
      "***** Test Accuracy with SVM: 0.9725\n"
     ]
    }
   ],
   "source": [
    "clf_svm=SVC().fit(train_data_standard, train_label) \n",
    "svm_pred = clf_svm.fit(train_data_standard, train_label).predict(test_data_standard)\n",
    "\n",
    "print(\"Number of mislabeled points out of a total %d points : %d\" % (test_data_standard.shape[0], (test_label != svm_pred).sum()))\n",
    "\n",
    "print('***** Training Accuracy with SVM:', accuracy_score(train_label,clf_svm.predict(train_data_standard)))\n",
    "print('***** Test Accuracy with SVM:', accuracy_score(test_label,clf_svm.predict(test_data_standard)))\n"
   ]
  },
  {
   "cell_type": "code",
   "execution_count": 70,
   "metadata": {},
   "outputs": [
    {
     "name": "stdout",
     "output_type": "stream",
     "text": [
      "              precision    recall  f1-score   support\n",
      "\n",
      "           1       1.00      0.99      0.99       100\n",
      "           2       0.96      0.95      0.95       100\n",
      "           3       0.94      0.95      0.95       100\n",
      "           4       0.99      1.00      1.00       100\n",
      "\n",
      "    accuracy                           0.97       400\n",
      "   macro avg       0.97      0.97      0.97       400\n",
      "weighted avg       0.97      0.97      0.97       400\n",
      "\n"
     ]
    }
   ],
   "source": [
    "print(classification_report(test_label, svm_pred))"
   ]
  },
  {
   "cell_type": "code",
   "execution_count": 71,
   "metadata": {},
   "outputs": [
    {
     "name": "stdout",
     "output_type": "stream",
     "text": [
      "confusion matrix without normalization\n",
      "[[ 99   0   1   0]\n",
      " [  0  95   5   0]\n",
      " [  0   4  95   1]\n",
      " [  0   0   0 100]]\n"
     ]
    },
    {
     "data": {
      "image/png": "[encoded data removed]",
      "text/plain": [
       "<Figure size 432x288 with 2 Axes>"
      ]
     },
     "metadata": {
      "needs_background": "light"
     },
     "output_type": "display_data"
    }
   ],
   "source": [
    "test_pred=clf_svm.predict(test_data_standard)\n",
    "#print(confusion_matrix(test_label, pred))\n",
    "plt.rcParams['figure.figsize'] = [6,4]\n",
    "\n",
    "\n",
    "classes=range(1-4)\n",
    "\n",
    "\n",
    "cmap=plt.cm.Blues\n",
    "cm=confusion_matrix(np.array(test_label),np.array(test_pred))\n",
    "\n",
    "plt.imshow(cm, interpolation='nearest', cmap=cmap)\n",
    "plt.colorbar()\n",
    "title= 'confusion matrix without normalization'\n",
    "\n",
    "plt.title(title)\n",
    "\n",
    "tick_marks = np.arange(len(classes))\n",
    "plt.xticks(tick_marks, classes, rotation = 45)\n",
    "plt.yticks(tick_marks, classes)\n",
    "\n",
    "print ('confusion matrix without normalization')\n",
    "print (cm)\n",
    "\n",
    "thresh = cm.max() / 2\n",
    "fmt = 'd'\n",
    "for i, j in itertools.product(range(cm.shape[0]), range(cm.shape[1])):\n",
    "    plt.text(j, i, format(cm[i, j], fmt),\n",
    "            horizontalalignment=\"center\",\n",
    "            color=\"white\" if cm[i, j] > thresh else \"black\")\n",
    "\n",
    "plt.tight_layout()\n",
    "plt.ylabel('True label')\n",
    "plt.xlabel('Predicted label')\n",
    "plt.show()\n",
    "\n",
    "\n"
   ]
  },
  {
   "cell_type": "code",
   "execution_count": 72,
   "metadata": {},
   "outputs": [
    {
     "name": "stdout",
     "output_type": "stream",
     "text": [
      "confusion matrix with normalization\n",
      "[[0.99 0.   0.01 0.  ]\n",
      " [0.   0.95 0.05 0.  ]\n",
      " [0.   0.04 0.95 0.01]\n",
      " [0.   0.   0.   1.  ]]\n"
     ]
    },
    {
     "data": {
      "image/png": "[encoded data removed]",
      "text/plain": [
       "<Figure size 432x288 with 2 Axes>"
      ]
     },
     "metadata": {
      "needs_background": "light"
     },
     "output_type": "display_data"
    }
   ],
   "source": [
    "#normalized\n",
    "plt.rcParams['figure.figsize'] = [6,4]\n",
    "\n",
    "#plt.figure(figsize=(10, 6))\n",
    "test_pred=clf_svm.predict(test_data_standard)\n",
    "cmap=plt.cm.Blues\n",
    "classes=range(1-4)\n",
    "\n",
    "\n",
    "cm=confusion_matrix(np.array(test_label),np.array(test_pred))\n",
    "cm = cm.astype('float') / cm.sum(axis=1)[:, np.newaxis]\n",
    "\n",
    "\n",
    "\n",
    "plt.imshow(cm, interpolation='nearest', cmap=cmap)\n",
    "plt.colorbar()\n",
    "title= 'confusion matrix with normalization'\n",
    "plt.title(title)\n",
    "\n",
    "tick_marks = np.arange(len(classes))\n",
    "plt.xticks(tick_marks, classes, rotation = 90)\n",
    "plt.yticks(tick_marks, classes)\n",
    "\n",
    "\n",
    "print ('confusion matrix with normalization')\n",
    "print (cm)\n",
    "\n",
    "np.set_printoptions(precision=2)\n",
    "\n",
    "\n",
    "\n",
    "thresh = cm.max() / 1.5\n",
    "fmt = '.2f' \n",
    "for i, j in itertools.product(range(cm.shape[0]), range(cm.shape[1])):\n",
    "    plt.text(j, i, format(cm[i, j], fmt),\n",
    "            horizontalalignment=\"center\",\n",
    "            color=\"white\" if cm[i, j] > thresh else \"black\")\n",
    "\n",
    "plt.tight_layout()\n",
    "plt.ylabel('True label')\n",
    "plt.xlabel('Predicted label')\n",
    "plt.show()\n",
    "\n"
   ]
  },
  {
   "cell_type": "code",
   "execution_count": 73,
   "metadata": {},
   "outputs": [
    {
     "name": "stdout",
     "output_type": "stream",
     "text": [
      "Number of mislabeled points out of a total 400 points : 11\n",
      "***** Training Accuracy with SVM: 0.9921875\n",
      "***** Test Accuracy with SVM: 0.9725\n"
     ]
    }
   ],
   "source": [
    "clf_svm_C=SVC(C=10).fit(train_data_standard, train_label) \n",
    "svm_C_pred = clf_svm_C.fit(train_data_standard, train_label).predict(test_data_standard)\n",
    "\n",
    "print(\"Number of mislabeled points out of a total %d points : %d\" % (test_data_standard.shape[0], (test_label != svm_C_pred).sum()))\n",
    "print('***** Training Accuracy with SVM:', accuracy_score(train_label,clf_svm_C.predict(train_data_standard)))\n",
    "print('***** Test Accuracy with SVM:', accuracy_score(test_label,clf_svm_C.predict(test_data_standard)))"
   ]
  },
  {
   "cell_type": "code",
   "execution_count": 74,
   "metadata": {},
   "outputs": [
    {
     "name": "stdout",
     "output_type": "stream",
     "text": [
      "              precision    recall  f1-score   support\n",
      "\n",
      "           1       1.00      0.99      0.99       100\n",
      "           2       0.96      0.95      0.95       100\n",
      "           3       0.94      0.95      0.95       100\n",
      "           4       0.99      1.00      1.00       100\n",
      "\n",
      "    accuracy                           0.97       400\n",
      "   macro avg       0.97      0.97      0.97       400\n",
      "weighted avg       0.97      0.97      0.97       400\n",
      "\n"
     ]
    }
   ],
   "source": [
    "print(classification_report(test_label, svm_C_pred))"
   ]
  },
  {
   "cell_type": "code",
   "execution_count": 75,
   "metadata": {},
   "outputs": [
    {
     "name": "stdout",
     "output_type": "stream",
     "text": [
      "confusion matrix without normalization\n",
      "[[ 99   0   1   0]\n",
      " [  0  95   5   0]\n",
      " [  0   4  95   1]\n",
      " [  0   0   0 100]]\n"
     ]
    },
    {
     "data": {
      "image/png": "[encoded data removed]",
      "text/plain": [
       "<Figure size 432x288 with 2 Axes>"
      ]
     },
     "metadata": {
      "needs_background": "light"
     },
     "output_type": "display_data"
    }
   ],
   "source": [
    "test_pred=clf_svm_C.predict(test_data_standard)\n",
    "#print(confusion_matrix(test_label, pred))\n",
    "plt.rcParams['figure.figsize'] = [6,4]\n",
    "\n",
    "\n",
    "classes=range(1-4)\n",
    "\n",
    "\n",
    "\n",
    "\n",
    "cmap=plt.cm.Blues\n",
    "cm=confusion_matrix(np.array(test_label),np.array(test_pred))\n",
    "\n",
    "plt.imshow(cm, interpolation='nearest', cmap=cmap)\n",
    "plt.colorbar()\n",
    "title= 'confusion matrix without normalization'\n",
    "\n",
    "plt.title(title)\n",
    "\n",
    "tick_marks = np.arange(len(classes))\n",
    "plt.xticks(tick_marks, classes, rotation = 45)\n",
    "plt.yticks(tick_marks, classes)\n",
    "\n",
    "print ('confusion matrix without normalization')\n",
    "print (cm)\n",
    "\n",
    "thresh = cm.max() / 2\n",
    "fmt = 'd'\n",
    "for i, j in itertools.product(range(cm.shape[0]), range(cm.shape[1])):\n",
    "    plt.text(j, i, format(cm[i, j], fmt),\n",
    "            horizontalalignment=\"center\",\n",
    "            color=\"white\" if cm[i, j] > thresh else \"black\")\n",
    "\n",
    "plt.tight_layout()\n",
    "plt.ylabel('True label')\n",
    "plt.xlabel('Predicted label')\n",
    "plt.show()\n"
   ]
  },
  {
   "cell_type": "code",
   "execution_count": 76,
   "metadata": {},
   "outputs": [
    {
     "name": "stdout",
     "output_type": "stream",
     "text": [
      "confusion matrix with normalization\n",
      "[[0.99 0.   0.01 0.  ]\n",
      " [0.   0.95 0.05 0.  ]\n",
      " [0.   0.04 0.95 0.01]\n",
      " [0.   0.   0.   1.  ]]\n"
     ]
    },
    {
     "data": {
      "image/png": "[encoded data removed]",
      "text/plain": [
       "<Figure size 432x288 with 2 Axes>"
      ]
     },
     "metadata": {
      "needs_background": "light"
     },
     "output_type": "display_data"
    }
   ],
   "source": [
    "#normalized\n",
    "plt.rcParams['figure.figsize'] = [6,4]\n",
    "\n",
    "#plt.figure(figsize=(10, 6))\n",
    "test_pred=clf_svm_C.predict(test_data_standard)\n",
    "cmap=plt.cm.Blues\n",
    "classes=range(1-4)\n",
    "\n",
    "\n",
    "cm=confusion_matrix(np.array(test_label),np.array(test_pred))\n",
    "cm = cm.astype('float') / cm.sum(axis=1)[:, np.newaxis]\n",
    "\n",
    "\n",
    "\n",
    "plt.imshow(cm, interpolation='nearest', cmap=cmap)\n",
    "plt.colorbar()\n",
    "title= 'confusion matrix with normalization'\n",
    "plt.title(title)\n",
    "\n",
    "tick_marks = np.arange(len(classes))\n",
    "plt.xticks(tick_marks, classes, rotation = 90)\n",
    "plt.yticks(tick_marks, classes)\n",
    "\n",
    "\n",
    "print ('confusion matrix with normalization')\n",
    "print (cm)\n",
    "\n",
    "np.set_printoptions(precision=2)\n",
    "\n",
    "\n",
    "\n",
    "thresh = cm.max() / 1.5\n",
    "fmt = '.2f' \n",
    "for i, j in itertools.product(range(cm.shape[0]), range(cm.shape[1])):\n",
    "    plt.text(j, i, format(cm[i, j], fmt),\n",
    "            horizontalalignment=\"center\",\n",
    "            color=\"white\" if cm[i, j] > thresh else \"black\")\n",
    "\n",
    "plt.tight_layout()\n",
    "plt.ylabel('True label')\n",
    "plt.xlabel('Predicted label')\n",
    "plt.show()\n",
    "\n"
   ]
  },
  {
   "cell_type": "code",
   "execution_count": 77,
   "metadata": {},
   "outputs": [],
   "source": [
    "from sklearn.linear_model import LinearRegression, Lasso\n",
    "\n",
    "linear_model=LinearRegression()\n",
    "linear_model.fit(train_data_standard, train_label)\n",
    "linear_pred = linear_model.predict(test_data_standard)"
   ]
  },
  {
   "cell_type": "code",
   "execution_count": 78,
   "metadata": {},
   "outputs": [
    {
     "name": "stdout",
     "output_type": "stream",
     "text": [
      "r_square_train: 0.7793042167196391\n"
     ]
    }
   ],
   "source": [
    "r_square_train =linear_model.score(train_data_standard, train_label) #R^2\n",
    "print ('r_square_train:',r_square_train )"
   ]
  },
  {
   "cell_type": "code",
   "execution_count": 79,
   "metadata": {},
   "outputs": [
    {
     "name": "stdout",
     "output_type": "stream",
     "text": [
      "r_square_test: 0.7833176703844644\n"
     ]
    }
   ],
   "source": [
    "r_square_test =linear_model.score(test_data_standard, test_label) #R^2\n",
    "print ('r_square_test:',r_square_test )"
   ]
  },
  {
   "cell_type": "code",
   "execution_count": 80,
   "metadata": {},
   "outputs": [
    {
     "name": "stdout",
     "output_type": "stream",
     "text": [
      "linear_model_mse 0.2708529120194195\n"
     ]
    }
   ],
   "source": [
    "from sklearn.metrics import mean_squared_error\n",
    "\n",
    "linear_model_mse = mean_squared_error(linear_pred, test_label)\n",
    "print ('linear_model_mse', linear_model_mse)"
   ]
  },
  {
   "cell_type": "code",
   "execution_count": 81,
   "metadata": {},
   "outputs": [],
   "source": [
    "#using Lasso Regression ro reduce problem of overfitting\n",
    "#penalizes large resgression coefficients"
   ]
  },
  {
   "cell_type": "code",
   "execution_count": 82,
   "metadata": {},
   "outputs": [
    {
     "data": {
      "text/plain": [
       "Lasso(alpha=0.5, copy_X=True, fit_intercept=True, max_iter=1000,\n",
       "      normalize=False, positive=False, precompute=False, random_state=None,\n",
       "      selection='cyclic', tol=0.0001, warm_start=False)"
      ]
     },
     "execution_count": 82,
     "metadata": {},
     "output_type": "execute_result"
    }
   ],
   "source": [
    "lasso_model = Lasso(alpha = 0.5)\n",
    "lasso_model.fit(train_data_standard, train_label)\n"
   ]
  },
  {
   "cell_type": "code",
   "execution_count": 83,
   "metadata": {},
   "outputs": [
    {
     "data": {
      "text/plain": [
       "0.47370189912895505"
      ]
     },
     "execution_count": 83,
     "metadata": {},
     "output_type": "execute_result"
    }
   ],
   "source": [
    "lasso_model.score(train_data_standard, train_label)"
   ]
  },
  {
   "cell_type": "code",
   "execution_count": 84,
   "metadata": {},
   "outputs": [
    {
     "data": {
      "text/plain": [
       "0.4932692836603656"
      ]
     },
     "execution_count": 84,
     "metadata": {},
     "output_type": "execute_result"
    }
   ],
   "source": [
    "lasso_r_squre = lasso_model.score(test_data_standard, test_label)\n",
    "lasso_r_squre\n"
   ]
  },
  {
   "cell_type": "code",
   "execution_count": 85,
   "metadata": {},
   "outputs": [
    {
     "data": {
      "text/plain": [
       "0.633413395424543"
      ]
     },
     "execution_count": 85,
     "metadata": {},
     "output_type": "execute_result"
    }
   ],
   "source": [
    "lasso_pred = lasso_model.predict(test_data_standard)\n",
    "lasso_model_mse = mean_squared_error(lasso_pred, test_label)\n",
    "lasso_model_mse"
   ]
  },
  {
   "cell_type": "code",
   "execution_count": 86,
   "metadata": {},
   "outputs": [],
   "source": [
    "#Gradient boosting regression"
   ]
  },
  {
   "cell_type": "code",
   "execution_count": 87,
   "metadata": {},
   "outputs": [
    {
     "data": {
      "text/plain": [
       "GradientBoostingRegressor(alpha=0.9, ccp_alpha=0.0, criterion='friedman_mse',\n",
       "                          init=None, learning_rate=0.01, loss='ls', max_depth=6,\n",
       "                          max_features=None, max_leaf_nodes=None,\n",
       "                          min_impurity_decrease=0.0, min_impurity_split=None,\n",
       "                          min_samples_leaf=1, min_samples_split=2,\n",
       "                          min_weight_fraction_leaf=0.0, n_estimators=500,\n",
       "                          n_iter_no_change=None, presort='deprecated',\n",
       "                          random_state=None, subsample=1.0, tol=0.0001,\n",
       "                          validation_fraction=0.1, verbose=0, warm_start=False)"
      ]
     },
     "execution_count": 87,
     "metadata": {},
     "output_type": "execute_result"
    }
   ],
   "source": [
    "from sklearn.ensemble import GradientBoostingRegressor\n",
    "\n",
    "params = {'n_estimators':500, 'max_depth': 6, 'min_samples_split': 2, 'learning_rate': 0.01, 'loss': 'ls'}\n",
    "gbr_model= GradientBoostingRegressor(**params)\n",
    "gbr_model.fit(train_data_standard, train_label)"
   ]
  },
  {
   "cell_type": "code",
   "execution_count": 88,
   "metadata": {},
   "outputs": [
    {
     "data": {
      "text/plain": [
       "0.9989368112743897"
      ]
     },
     "execution_count": 88,
     "metadata": {},
     "output_type": "execute_result"
    }
   ],
   "source": [
    "gbr_model.score(train_data_standard, train_label)"
   ]
  },
  {
   "cell_type": "code",
   "execution_count": 89,
   "metadata": {},
   "outputs": [
    {
     "data": {
      "text/plain": [
       "0.949787780238661"
      ]
     },
     "execution_count": 89,
     "metadata": {},
     "output_type": "execute_result"
    }
   ],
   "source": [
    "gbr_predict = gbr_model.predict(test_data_standard)\n",
    "gbr_r_square = gbr_model.score(test_data_standard, test_label)\n",
    "gbr_r_square "
   ]
  },
  {
   "cell_type": "code",
   "execution_count": null,
   "metadata": {},
   "outputs": [],
   "source": []
  },
  {
   "cell_type": "code",
   "execution_count": 90,
   "metadata": {},
   "outputs": [
    {
     "data": {
      "text/plain": [
       "{'learning_rate': 0.02, 'max_depth': 4, 'n_estimators': 500}"
      ]
     },
     "execution_count": 90,
     "metadata": {},
     "output_type": "execute_result"
    }
   ],
   "source": [
    "from sklearn.model_selection import GridSearchCV\n",
    "\n",
    "num_estimators = [100, 200, 500]\n",
    "learn_rates=[0.01, 0.02, 0.05, 0.1]\n",
    "max_depths = [4, 6, 8]\n",
    "\n",
    "param_grid = {'n_estimators': num_estimators,\n",
    "             'learning_rate': learn_rates,\n",
    "             'max_depth': max_depths}\n",
    "\n",
    "grid_search = GridSearchCV(GradientBoostingRegressor(min_samples_split = 2, loss = 'ls'),\n",
    "                          param_grid, cv=3, return_train_score=True)\n",
    "\n",
    "grid_search.fit(train_data_standard, train_label)\n",
    "grid_search.best_params_"
   ]
  },
  {
   "cell_type": "code",
   "execution_count": 91,
   "metadata": {},
   "outputs": [
    {
     "data": {
      "text/plain": [
       "GradientBoostingRegressor(alpha=0.9, ccp_alpha=0.0, criterion='friedman_mse',\n",
       "                          init=None, learning_rate=0.1, loss='ls', max_depth=4,\n",
       "                          max_features=None, max_leaf_nodes=None,\n",
       "                          min_impurity_decrease=0.0, min_impurity_split=None,\n",
       "                          min_samples_leaf=1, min_samples_split=2,\n",
       "                          min_weight_fraction_leaf=0.0, n_estimators=100,\n",
       "                          n_iter_no_change=None, presort='deprecated',\n",
       "                          random_state=None, subsample=1.0, tol=0.0001,\n",
       "                          validation_fraction=0.1, verbose=0, warm_start=False)"
      ]
     },
     "execution_count": 91,
     "metadata": {},
     "output_type": "execute_result"
    }
   ],
   "source": [
    "params = {'n_estimators':100, 'max_depth': 4, 'min_samples_split': 2, 'learning_rate': 0.1, 'loss': 'ls'}\n",
    "gbr_model= GradientBoostingRegressor(**params)\n",
    "gbr_model.fit(train_data_standard, train_label)"
   ]
  },
  {
   "cell_type": "code",
   "execution_count": 92,
   "metadata": {},
   "outputs": [
    {
     "data": {
      "text/plain": [
       "0.9961369821325794"
      ]
     },
     "execution_count": 92,
     "metadata": {},
     "output_type": "execute_result"
    }
   ],
   "source": [
    "gbr_model.score(train_data_standard, train_label)"
   ]
  },
  {
   "cell_type": "code",
   "execution_count": 93,
   "metadata": {},
   "outputs": [
    {
     "data": {
      "text/plain": [
       "0.9600914772939046"
      ]
     },
     "execution_count": 93,
     "metadata": {},
     "output_type": "execute_result"
    }
   ],
   "source": [
    "gbr_predict = gbr_model.predict(test_data_standard)\n",
    "gbr_r_square = gbr_model.score(test_data_standard, test_label)\n",
    "gbr_r_square "
   ]
  },
  {
   "cell_type": "code",
   "execution_count": 94,
   "metadata": {},
   "outputs": [
    {
     "data": {
      "text/plain": [
       "0.0498856533826192"
      ]
     },
     "execution_count": 94,
     "metadata": {},
     "output_type": "execute_result"
    }
   ],
   "source": [
    "gbr_model_mse = mean_squared_error(gbr_predict, test_label)\n",
    "gbr_model_mse"
   ]
  },
  {
   "cell_type": "code",
   "execution_count": 95,
   "metadata": {},
   "outputs": [],
   "source": [
    "#Linear Discriminant finds axes to best separate the classes such that all instances of a cllass are in the same quadrant"
   ]
  },
  {
   "cell_type": "code",
   "execution_count": 96,
   "metadata": {},
   "outputs": [
    {
     "data": {
      "text/plain": [
       "LinearDiscriminantAnalysis(n_components=None, priors=None, shrinkage=None,\n",
       "                           solver='svd', store_covariance=False, tol=0.0001)"
      ]
     },
     "execution_count": 96,
     "metadata": {},
     "output_type": "execute_result"
    }
   ],
   "source": [
    "LDA_model=LinearDiscriminantAnalysis(solver='svd')\n",
    "LDA_model.fit(train_data_standard, train_label)"
   ]
  },
  {
   "cell_type": "code",
   "execution_count": 97,
   "metadata": {},
   "outputs": [
    {
     "name": "stdout",
     "output_type": "stream",
     "text": [
      "Number of mislabeled points out of a total 400 points : 14\n",
      "***** Training Accuracy with LDA: 0.97265625\n",
      "***** Test Accuracy with LDA: 0.965\n"
     ]
    }
   ],
   "source": [
    "LDA_pred = LDA_model.fit(train_data_standard, train_label).predict(test_data_standard)\n",
    "\n",
    "print(\"Number of mislabeled points out of a total %d points : %d\" % (test_data_standard.shape[0], (test_label != LDA_pred).sum()))\n",
    "\n",
    "print('***** Training Accuracy with LDA:', accuracy_score(train_label,LDA_model.predict(train_data_standard)))\n",
    "print('***** Test Accuracy with LDA:', accuracy_score(test_label,LDA_model.predict(test_data_standard)))"
   ]
  },
  {
   "cell_type": "code",
   "execution_count": 98,
   "metadata": {},
   "outputs": [],
   "source": [
    "#QDA, finds axes to best separate the classes tha all instances of a class are in the same quadrant but the decision boundary is quadratic"
   ]
  },
  {
   "cell_type": "code",
   "execution_count": 99,
   "metadata": {},
   "outputs": [
    {
     "data": {
      "text/plain": [
       "QuadraticDiscriminantAnalysis(priors=None, reg_param=0.0,\n",
       "                              store_covariance=False, tol=0.0001)"
      ]
     },
     "execution_count": 99,
     "metadata": {},
     "output_type": "execute_result"
    }
   ],
   "source": [
    "QDA_model=QuadraticDiscriminantAnalysis()\n",
    "QDA_model.fit(train_data_standard, train_label)"
   ]
  },
  {
   "cell_type": "code",
   "execution_count": 100,
   "metadata": {},
   "outputs": [
    {
     "name": "stdout",
     "output_type": "stream",
     "text": [
      "Number of mislabeled points out of a total 400 points : 7\n",
      "***** Training Accuracy with QDA: 0.98125\n",
      "***** Test Accuracy with QDA: 0.9825\n"
     ]
    }
   ],
   "source": [
    "QDA_pred= QDA_model.fit(train_data_standard, train_label).predict(test_data_standard)\n",
    "\n",
    "print(\"Number of mislabeled points out of a total %d points : %d\" % (test_data_standard.shape[0], (test_label != QDA_pred).sum()))\n",
    "\n",
    "print('***** Training Accuracy with QDA:', accuracy_score(train_label,QDA_model.predict(train_data_standard)))\n",
    "print('***** Test Accuracy with QDA:', accuracy_score(test_label,QDA_model.predict(test_data_standard)))"
   ]
  },
  {
   "cell_type": "code",
   "execution_count": 101,
   "metadata": {},
   "outputs": [
    {
     "data": {
      "text/plain": [
       "SGDClassifier(alpha=0.0001, average=False, class_weight=None,\n",
       "              early_stopping=False, epsilon=0.1, eta0=0.0, fit_intercept=True,\n",
       "              l1_ratio=0.15, learning_rate='optimal', loss='hinge',\n",
       "              max_iter=10000, n_iter_no_change=5, n_jobs=None, penalty='l2',\n",
       "              power_t=0.5, random_state=None, shuffle=True, tol=0.001,\n",
       "              validation_fraction=0.1, verbose=0, warm_start=False)"
      ]
     },
     "execution_count": 101,
     "metadata": {},
     "output_type": "execute_result"
    }
   ],
   "source": [
    "SGD_model=SGDClassifier(max_iter=10000, tol=1e-3)\n",
    "SGD_model.fit(train_data_standard, train_label)"
   ]
  },
  {
   "cell_type": "code",
   "execution_count": 102,
   "metadata": {},
   "outputs": [
    {
     "name": "stdout",
     "output_type": "stream",
     "text": [
      "Number of mislabeled points out of a total 400 points : 16\n",
      "***** Training Accuracy with SGD: 0.97734375\n",
      "***** Test Accuracy with SGD: 0.96\n"
     ]
    }
   ],
   "source": [
    "SGD_pred= SGD_model.fit(train_data_standard, train_label).predict(test_data_standard)\n",
    "\n",
    "print(\"Number of mislabeled points out of a total %d points : %d\" % (test_data_standard.shape[0], (test_label != SGD_pred).sum()))\n",
    "\n",
    "print('***** Training Accuracy with SGD:', accuracy_score(train_label,SGD_model.predict(train_data_standard)))\n",
    "print('***** Test Accuracy with SGD:', accuracy_score(test_label,SGD_model.predict(test_data_standard)))"
   ]
  },
  {
   "cell_type": "code",
   "execution_count": 103,
   "metadata": {},
   "outputs": [
    {
     "data": {
      "text/plain": [
       "LinearSVC(C=100, class_weight=None, dual=False, fit_intercept=True,\n",
       "          intercept_scaling=1, loss='squared_hinge', max_iter=10000,\n",
       "          multi_class='ovr', penalty='l2', random_state=None, tol=0.001,\n",
       "          verbose=0)"
      ]
     },
     "execution_count": 103,
     "metadata": {},
     "output_type": "execute_result"
    }
   ],
   "source": [
    "linearSVM_model=LinearSVC(C=100,max_iter=10000, tol=1e-3, dual=False)\n",
    "linearSVM_model.fit(train_data_standard, train_label)"
   ]
  },
  {
   "cell_type": "code",
   "execution_count": 104,
   "metadata": {},
   "outputs": [
    {
     "name": "stdout",
     "output_type": "stream",
     "text": [
      "Number of mislabeled points out of a total 400 points : 11\n",
      "***** Training Accuracy with linearSVM: 0.9765625\n",
      "***** Test Accuracy with linearSVM: 0.9725\n"
     ]
    }
   ],
   "source": [
    "linearSVM_pred= linearSVM_model.fit(train_data_standard, train_label).predict(test_data_standard)\n",
    "\n",
    "print(\"Number of mislabeled points out of a total %d points : %d\" % (test_data_standard.shape[0], (test_label != linearSVM_pred).sum()))\n",
    "\n",
    "print('***** Training Accuracy with linearSVM:', accuracy_score(train_label,linearSVM_model.predict(train_data_standard)))\n",
    "print('***** Test Accuracy with linearSVM:', accuracy_score(test_label,linearSVM_model.predict(test_data_standard)))"
   ]
  },
  {
   "cell_type": "code",
   "execution_count": 105,
   "metadata": {},
   "outputs": [
    {
     "data": {
      "text/plain": [
       "KNeighborsClassifier(algorithm='auto', leaf_size=30, metric='minkowski',\n",
       "                     metric_params=None, n_jobs=None, n_neighbors=3, p=2,\n",
       "                     weights='uniform')"
      ]
     },
     "execution_count": 105,
     "metadata": {},
     "output_type": "execute_result"
    }
   ],
   "source": [
    "KNN_model=KNeighborsClassifier(n_neighbors=3)\n",
    "KNN_model.fit(train_data_standard, train_label)"
   ]
  },
  {
   "cell_type": "code",
   "execution_count": 106,
   "metadata": {},
   "outputs": [
    {
     "name": "stdout",
     "output_type": "stream",
     "text": [
      "Number of mislabeled points out of a total 400 points : 5\n",
      "***** Training Accuracy with KNN: 0.990625\n",
      "***** Test Accuracy with KNN: 0.9875\n"
     ]
    }
   ],
   "source": [
    "KNN_pred= KNN_model.fit(train_data_standard, train_label).predict(test_data_standard)\n",
    "\n",
    "print(\"Number of mislabeled points out of a total %d points : %d\" % (test_data_standard.shape[0], (test_label != KNN_pred).sum()))\n",
    "\n",
    "print('***** Training Accuracy with KNN:', accuracy_score(train_label,KNN_model.predict(train_data_standard)))\n",
    "print('***** Test Accuracy with KNN:', accuracy_score(test_label,KNN_model.predict(test_data_standard)))"
   ]
  },
  {
   "cell_type": "code",
   "execution_count": 107,
   "metadata": {},
   "outputs": [
    {
     "data": {
      "text/plain": [
       "DecisionTreeClassifier(ccp_alpha=0.0, class_weight=None, criterion='gini',\n",
       "                       max_depth=None, max_features=None, max_leaf_nodes=None,\n",
       "                       min_impurity_decrease=0.0, min_impurity_split=None,\n",
       "                       min_samples_leaf=1, min_samples_split=2,\n",
       "                       min_weight_fraction_leaf=0.0, presort='deprecated',\n",
       "                       random_state=None, splitter='best')"
      ]
     },
     "execution_count": 107,
     "metadata": {},
     "output_type": "execute_result"
    }
   ],
   "source": [
    "DT_model=DecisionTreeClassifier(max_depth=None, max_features=None)\n",
    "DT_model.fit(train_data_standard, train_label)"
   ]
  },
  {
   "cell_type": "code",
   "execution_count": 108,
   "metadata": {},
   "outputs": [
    {
     "name": "stdout",
     "output_type": "stream",
     "text": [
      "Number of mislabeled points out of a total 400 points : 16\n",
      "***** Training Accuracy with DT: 1.0\n",
      "***** Test Accuracy with DT: 0.96\n"
     ]
    }
   ],
   "source": [
    "DT_pred= DT_model.fit(train_data_standard, train_label).predict(test_data_standard)\n",
    "\n",
    "print(\"Number of mislabeled points out of a total %d points : %d\" % (test_data_standard.shape[0], (test_label != DT_pred).sum()))\n",
    "\n",
    "print('***** Training Accuracy with DT:', accuracy_score(train_label,DT_model.predict(train_data_standard)))\n",
    "print('***** Test Accuracy with DT:', accuracy_score(test_label,DT_model.predict(test_data_standard)))"
   ]
  },
  {
   "cell_type": "code",
   "execution_count": 109,
   "metadata": {},
   "outputs": [
    {
     "data": {
      "text/plain": [
       "array([[ 4.82,  2.46],\n",
       "       [-1.7 ,  1.33],\n",
       "       [ 4.85,  1.07],\n",
       "       ...,\n",
       "       [-1.84, -1.68],\n",
       "       [ 2.19, -1.29],\n",
       "       [ 3.32, -0.35]])"
      ]
     },
     "execution_count": 109,
     "metadata": {},
     "output_type": "execute_result"
    }
   ],
   "source": [
    "from sklearn.decomposition import PCA\n",
    "\n",
    "pca=PCA(n_components=2)\n",
    "pca.fit_transform(train_data_standard)"
   ]
  },
  {
   "cell_type": "code",
   "execution_count": 110,
   "metadata": {},
   "outputs": [
    {
     "data": {
      "text/plain": [
       "array([0.49, 0.24])"
      ]
     },
     "execution_count": 110,
     "metadata": {},
     "output_type": "execute_result"
    }
   ],
   "source": [
    "pca.explained_variance_ratio_ #gives magnitude of variation for each component in %"
   ]
  },
  {
   "cell_type": "code",
   "execution_count": 111,
   "metadata": {},
   "outputs": [
    {
     "data": {
      "image/png": "[encoded data removed]",
      "text/plain": [
       "<Figure size 432x288 with 1 Axes>"
      ]
     },
     "metadata": {
      "needs_background": "light"
     },
     "output_type": "display_data"
    }
   ],
   "source": [
    "import matplotlib.pyplot as plt\n",
    "plt.plot(pca.explained_variance_ratio_)\n",
    "plt.xlabel('Dimension')\n",
    "plt.ylabel('Explain Variance Ratio')\n",
    "plt.show()"
   ]
  },
  {
   "cell_type": "code",
   "execution_count": 112,
   "metadata": {},
   "outputs": [],
   "source": [
    "X_train=pca.fit_transform(train_data_standard)\n",
    "Y_train=train_label\n",
    "x_test=pca.transform(test_data_standard)\n",
    "y_test=test_label\n",
    "\n"
   ]
  },
  {
   "cell_type": "raw",
   "metadata": {},
   "source": [
    "scaler=preprocessing.StandardScaler()\n",
    "pca_train_data_standard = scaler.fit_transform(X_train) \n",
    "pca_train_data_standard_test = scaler.transform(x_test)\n",
    "\n"
   ]
  },
  {
   "cell_type": "code",
   "execution_count": 113,
   "metadata": {},
   "outputs": [
    {
     "name": "stdout",
     "output_type": "stream",
     "text": [
      "0.9\n"
     ]
    }
   ],
   "source": [
    "clf_RF_pca = RandomForestClassifier(n_estimators=500, max_depth=20).fit(X_train, Y_train) \n",
    "\n",
    "accuracy = clf_RF_pca.score(x_test, y_test)\n",
    "print(accuracy)"
   ]
  },
  {
   "cell_type": "code",
   "execution_count": 114,
   "metadata": {},
   "outputs": [
    {
     "name": "stdout",
     "output_type": "stream",
     "text": [
      "Number of mislabeled points out of a total 400 points : 41\n",
      "***** Training Accuracy with RF: 1.0\n",
      "***** Test Accuracy with RF: 0.8975\n"
     ]
    }
   ],
   "source": [
    "RF_pred_pca = clf_RF_pca.fit(X_train, Y_train).predict(x_test)\n",
    "\n",
    "print(\"Number of mislabeled points out of a total %d points : %d\" % (x_test.shape[0], (y_test != RF_pred_pca).sum()))\n",
    "print('***** Training Accuracy with RF:', accuracy_score(Y_train,clf_RF_pca.predict(X_train)))\n",
    "print('***** Test Accuracy with RF:', accuracy_score(y_test,clf_RF_pca.predict(x_test)))\n",
    "\n"
   ]
  },
  {
   "cell_type": "code",
   "execution_count": 129,
   "metadata": {},
   "outputs": [
    {
     "data": {
      "text/plain": [
       "{'max_depth': 5, 'n_estimators': 100}"
      ]
     },
     "execution_count": 129,
     "metadata": {},
     "output_type": "execute_result"
    }
   ],
   "source": [
    "n_estimators = [50, 100, 500, 700, 1000]\n",
    "max_depth=[None, 5, 10, 20, 30, 40, 50]\n",
    "\n",
    "param_grid = {'n_estimators': n_estimators,\n",
    "             'max_depth': max_depth}\n",
    "             \n",
    "\n",
    "RF_search = GridSearchCV(RandomForestClassifier(),param_grid, cv=3, return_train_score=True) #3 fold, and checkes with accurracy rate\n",
    "\n",
    "RF_search.fit(X_train, Y_train)\n",
    "RF_search.best_params_"
   ]
  },
  {
   "cell_type": "code",
   "execution_count": 116,
   "metadata": {},
   "outputs": [
    {
     "name": "stdout",
     "output_type": "stream",
     "text": [
      "Number of mislabeled points out of a total 400 points : 36\n",
      "***** Training Accuracy with RF: 0.94453125\n",
      "***** Test Accuracy with RF: 0.91\n"
     ]
    }
   ],
   "source": [
    "clf_RF_pca = RandomForestClassifier(n_estimators=100, max_depth=5).fit(X_train, Y_train) \n",
    "RF_pred_pca = clf_RF_pca.fit(X_train, Y_train).predict(x_test)\n",
    "\n",
    "print(\"Number of mislabeled points out of a total %d points : %d\" % (x_test.shape[0], (y_test != RF_pred_pca).sum()))\n",
    "print('***** Training Accuracy with RF:', accuracy_score(Y_train,clf_RF_pca.predict(X_train)))\n",
    "print('***** Test Accuracy with RF:', accuracy_score(y_test,clf_RF_pca.predict(x_test)))\n",
    "\n"
   ]
  },
  {
   "cell_type": "code",
   "execution_count": 117,
   "metadata": {},
   "outputs": [
    {
     "name": "stdout",
     "output_type": "stream",
     "text": [
      "              precision    recall  f1-score   support\n",
      "\n",
      "           1       0.89      0.89      0.89       100\n",
      "           2       0.95      0.93      0.94       100\n",
      "           3       0.84      0.83      0.83       100\n",
      "           4       0.96      0.99      0.98       100\n",
      "\n",
      "    accuracy                           0.91       400\n",
      "   macro avg       0.91      0.91      0.91       400\n",
      "weighted avg       0.91      0.91      0.91       400\n",
      "\n"
     ]
    }
   ],
   "source": [
    "print(classification_report(y_test, RF_pred_pca))"
   ]
  },
  {
   "cell_type": "code",
   "execution_count": 118,
   "metadata": {},
   "outputs": [
    {
     "name": "stdout",
     "output_type": "stream",
     "text": [
      "confusion matrix without normalization\n",
      "[[89  0  9  2]\n",
      " [ 0 93  7  0]\n",
      " [ 9  5 84  2]\n",
      " [ 1  0  0 99]]\n"
     ]
    },
    {
     "data": {
      "image/png": "[encoded data removed]",
      "text/plain": [
       "<Figure size 432x288 with 2 Axes>"
      ]
     },
     "metadata": {
      "needs_background": "light"
     },
     "output_type": "display_data"
    }
   ],
   "source": [
    "test_pred=clf_RF_pca.fit(X_train, Y_train).predict(x_test)\n",
    "#print(confusion_matrix(test_label, pred))\n",
    "plt.rcParams['figure.figsize'] = [6,4]\n",
    "\n",
    "\n",
    "classes=range(1-4)\n",
    "\n",
    "\n",
    "cmap=plt.cm.Blues\n",
    "cm=confusion_matrix(np.array(test_label),np.array(test_pred))\n",
    "\n",
    "plt.imshow(cm, interpolation='nearest', cmap=cmap)\n",
    "plt.colorbar()\n",
    "title= 'confusion matrix without normalization'\n",
    "\n",
    "plt.title(title)\n",
    "\n",
    "tick_marks = np.arange(len(classes))\n",
    "plt.xticks(tick_marks, classes, rotation = 45)\n",
    "plt.yticks(tick_marks, classes)\n",
    "\n",
    "print ('confusion matrix without normalization')\n",
    "print (cm)\n",
    "\n",
    "thresh = cm.max() / 2\n",
    "fmt = 'd'\n",
    "for i, j in itertools.product(range(cm.shape[0]), range(cm.shape[1])):\n",
    "    plt.text(j, i, format(cm[i, j], fmt),\n",
    "            horizontalalignment=\"center\",\n",
    "            color=\"white\" if cm[i, j] > thresh else \"black\")\n",
    "\n",
    "plt.tight_layout()\n",
    "plt.ylabel('True label')\n",
    "plt.xlabel('Predicted label')\n",
    "plt.show()\n",
    "\n"
   ]
  },
  {
   "cell_type": "code",
   "execution_count": 119,
   "metadata": {},
   "outputs": [
    {
     "name": "stdout",
     "output_type": "stream",
     "text": [
      "confusion matrix with normalization\n",
      "[[0.89 0.   0.09 0.02]\n",
      " [0.   0.92 0.08 0.  ]\n",
      " [0.11 0.05 0.82 0.02]\n",
      " [0.01 0.   0.   0.99]]\n"
     ]
    },
    {
     "data": {
      "image/png": "[encoded data removed]",
      "text/plain": [
       "<Figure size 432x288 with 2 Axes>"
      ]
     },
     "metadata": {
      "needs_background": "light"
     },
     "output_type": "display_data"
    }
   ],
   "source": [
    "#normalized\n",
    "plt.rcParams['figure.figsize'] = [6,4]\n",
    "\n",
    "#plt.figure(figsize=(10, 6))\n",
    "test_pred=clf_RF_pca.fit(X_train, Y_train).predict(x_test)\n",
    "cmap=plt.cm.Blues\n",
    "classes = range(1-4)\n",
    "cm=confusion_matrix(np.array(test_label),np.array(test_pred))\n",
    "cm = cm.astype('float') / cm.sum(axis=1)[:, np.newaxis]\n",
    "\n",
    "\n",
    "\n",
    "plt.imshow(cm, interpolation='nearest', cmap=cmap)\n",
    "plt.colorbar()\n",
    "title= 'confusion matrix with normalization'\n",
    "plt.title(title)\n",
    "\n",
    "tick_marks = np.arange(len(classes))\n",
    "plt.xticks(tick_marks, classes, rotation = 90)\n",
    "plt.yticks(tick_marks, classes)\n",
    "\n",
    "\n",
    "print ('confusion matrix with normalization')\n",
    "print (cm)\n",
    "\n",
    "np.set_printoptions(precision=2)\n",
    "\n",
    "\n",
    "\n",
    "thresh = cm.max() / 1.5\n",
    "fmt = '.2f' \n",
    "for i, j in itertools.product(range(cm.shape[0]), range(cm.shape[1])):\n",
    "    plt.text(j, i, format(cm[i, j], fmt),\n",
    "            horizontalalignment=\"center\",\n",
    "            color=\"white\" if cm[i, j] > thresh else \"black\")\n",
    "\n",
    "plt.tight_layout()\n",
    "plt.ylabel('True label')\n",
    "plt.xlabel('Predicted label')\n",
    "plt.show()\n",
    "\n",
    "\n"
   ]
  },
  {
   "cell_type": "code",
   "execution_count": 120,
   "metadata": {},
   "outputs": [
    {
     "name": "stdout",
     "output_type": "stream",
     "text": [
      "Number of mislabeled points out of a total 400 points : 52\n",
      "***** Training Accuracy with SVM: 0.97265625\n",
      "***** Test Accuracy with SVM: 0.87\n"
     ]
    }
   ],
   "source": [
    "clf_svm_pca=SVC(C=100, gamma=10).fit(X_train, Y_train) \n",
    "svm_pred_pca = clf_svm_pca.fit(X_train, Y_train).predict(x_test)\n",
    "\n",
    "print(\"Number of mislabeled points out of a total %d points : %d\" % (x_test.shape[0], (y_test != svm_pred_pca).sum()))\n",
    "\n",
    "print('***** Training Accuracy with SVM:', accuracy_score(Y_train,clf_svm_pca.predict(X_train)))\n",
    "print('***** Test Accuracy with SVM:', accuracy_score(y_test,clf_svm_pca.predict(x_test)))"
   ]
  },
  {
   "cell_type": "code",
   "execution_count": 121,
   "metadata": {},
   "outputs": [
    {
     "ename": "TypeError",
     "evalue": "__init__() got an unexpected keyword argument 'return_train_Score'",
     "output_type": "error",
     "traceback": [
      "\u001b[0;31m---------------------------------------------------------------------------\u001b[0m",
      "\u001b[0;31mTypeError\u001b[0m                                 Traceback (most recent call last)",
      "\u001b[0;32m<ipython-input-121-b6dae92bcfae>\u001b[0m in \u001b[0;36m<module>\u001b[0;34m\u001b[0m\n\u001b[1;32m      6\u001b[0m \u001b[0;34m\u001b[0m\u001b[0m\n\u001b[1;32m      7\u001b[0m \u001b[0;34m\u001b[0m\u001b[0m\n\u001b[0;32m----> 8\u001b[0;31m \u001b[0msvm_search\u001b[0m \u001b[0;34m=\u001b[0m \u001b[0mGridSearchCV\u001b[0m\u001b[0;34m(\u001b[0m\u001b[0mSVC\u001b[0m\u001b[0;34m(\u001b[0m\u001b[0;34m)\u001b[0m\u001b[0;34m,\u001b[0m\u001b[0mparam_grid\u001b[0m\u001b[0;34m,\u001b[0m\u001b[0mcv\u001b[0m\u001b[0;34m=\u001b[0m\u001b[0;36m3\u001b[0m\u001b[0;34m,\u001b[0m \u001b[0mreturn_train_Score\u001b[0m\u001b[0;34m=\u001b[0m\u001b[0;32mTrue\u001b[0m\u001b[0;34m)\u001b[0m \u001b[0;31m# cv=3, return_train_score=True\u001b[0m\u001b[0;34m\u001b[0m\u001b[0;34m\u001b[0m\u001b[0m\n\u001b[0m\u001b[1;32m      9\u001b[0m \u001b[0;34m\u001b[0m\u001b[0m\n\u001b[1;32m     10\u001b[0m \u001b[0msvm_search\u001b[0m\u001b[0;34m.\u001b[0m\u001b[0mfit\u001b[0m\u001b[0;34m(\u001b[0m\u001b[0mX_train\u001b[0m\u001b[0;34m,\u001b[0m \u001b[0mtrain_label\u001b[0m\u001b[0;34m)\u001b[0m\u001b[0;34m\u001b[0m\u001b[0;34m\u001b[0m\u001b[0m\n",
      "\u001b[0;31mTypeError\u001b[0m: __init__() got an unexpected keyword argument 'return_train_Score'"
     ]
    }
   ],
   "source": [
    "C = [1, 5, 10, 50, 100, 1000]\n",
    "gamma=[0, 1, 10, 20]\n",
    "\n",
    "param_grid = {'C': C,\n",
    "             'gamma': gamma}\n",
    "             \n",
    "\n",
    "svm_search = GridSearchCV(SVC(),param_grid,cv=3, return_train_Score=True) # cv=3, return_train_score=True\n",
    "\n",
    "svm_search.fit(X_train, train_label)\n",
    "svm_search.best_params_"
   ]
  },
  {
   "cell_type": "code",
   "execution_count": 122,
   "metadata": {},
   "outputs": [
    {
     "name": "stdout",
     "output_type": "stream",
     "text": [
      "Number of mislabeled points out of a total 400 points : 39\n",
      "***** Training Accuracy with SVM: 0.940625\n",
      "***** Test Accuracy with SVM: 0.9025\n"
     ]
    }
   ],
   "source": [
    "clf_svm_pca=SVC(C=1, gamma=1).fit(X_train, Y_train) \n",
    "svm_pred_pca = clf_svm_pca.fit(X_train, Y_train).predict(x_test)\n",
    "\n",
    "print(\"Number of mislabeled points out of a total %d points : %d\" % (x_test.shape[0], (y_test != svm_pred_pca).sum()))\n",
    "\n",
    "print('***** Training Accuracy with SVM:', accuracy_score(Y_train,clf_svm_pca.predict(X_train)))\n",
    "print('***** Test Accuracy with SVM:', accuracy_score(y_test,clf_svm_pca.predict(x_test)))"
   ]
  },
  {
   "cell_type": "code",
   "execution_count": 123,
   "metadata": {},
   "outputs": [
    {
     "name": "stdout",
     "output_type": "stream",
     "text": [
      "confusion matrix without normalization\n",
      "[[89  0  9  2]\n",
      " [ 0 91  9  0]\n",
      " [ 9  6 82  3]\n",
      " [ 1  0  0 99]]\n"
     ]
    },
    {
     "data": {
      "image/png": "[encoded data removed]",
      "text/plain": [
       "<Figure size 432x288 with 2 Axes>"
      ]
     },
     "metadata": {
      "needs_background": "light"
     },
     "output_type": "display_data"
    }
   ],
   "source": [
    "test_pred=clf_svm_pca.fit(X_train, Y_train).predict(x_test)\n",
    "#print(confusion_matrix(test_label, pred))\n",
    "plt.rcParams['figure.figsize'] = [6,4]\n",
    "\n",
    "\n",
    "classes=range(1-4)\n",
    "\n",
    "\n",
    "cmap=plt.cm.Blues\n",
    "cm=confusion_matrix(np.array(test_label),np.array(test_pred))\n",
    "\n",
    "plt.imshow(cm, interpolation='nearest', cmap=cmap)\n",
    "plt.colorbar()\n",
    "title= 'confusion matrix without normalization'\n",
    "\n",
    "plt.title(title)\n",
    "\n",
    "tick_marks = np.arange(len(classes))\n",
    "plt.xticks(tick_marks, classes, rotation = 45)\n",
    "plt.yticks(tick_marks, classes)\n",
    "\n",
    "print ('confusion matrix without normalization')\n",
    "print (cm)\n",
    "\n",
    "thresh = cm.max() / 2\n",
    "fmt = 'd'\n",
    "for i, j in itertools.product(range(cm.shape[0]), range(cm.shape[1])):\n",
    "    plt.text(j, i, format(cm[i, j], fmt),\n",
    "            horizontalalignment=\"center\",\n",
    "            color=\"white\" if cm[i, j] > thresh else \"black\")\n",
    "\n",
    "plt.tight_layout()\n",
    "plt.ylabel('True label')\n",
    "plt.xlabel('Predicted label')\n",
    "plt.show()\n",
    "\n",
    "\n"
   ]
  },
  {
   "cell_type": "code",
   "execution_count": null,
   "metadata": {},
   "outputs": [],
   "source": []
  },
  {
   "cell_type": "code",
   "execution_count": 124,
   "metadata": {},
   "outputs": [
    {
     "name": "stdout",
     "output_type": "stream",
     "text": [
      "confusion matrix with normalization\n",
      "[[0.89 0.   0.09 0.02]\n",
      " [0.   0.91 0.09 0.  ]\n",
      " [0.09 0.06 0.82 0.03]\n",
      " [0.01 0.   0.   0.99]]\n"
     ]
    },
    {
     "data": {
      "image/png": "[encoded data removed]",
      "text/plain": [
       "<Figure size 432x288 with 2 Axes>"
      ]
     },
     "metadata": {
      "needs_background": "light"
     },
     "output_type": "display_data"
    }
   ],
   "source": [
    "#normalized\n",
    "plt.rcParams['figure.figsize'] = [6,4]\n",
    "\n",
    "#plt.figure(figsize=(10, 6))\n",
    "test_pred=clf_svm_pca.fit(X_train, Y_train).predict(x_test)\n",
    "cmap=plt.cm.Blues\n",
    "\n",
    "classes = range(1-4)\n",
    "cm=confusion_matrix(np.array(test_label),np.array(test_pred))\n",
    "cm = cm.astype('float') / cm.sum(axis=1)[:, np.newaxis]\n",
    "\n",
    "\n",
    "\n",
    "plt.imshow(cm, interpolation='nearest', cmap=cmap)\n",
    "plt.colorbar()\n",
    "title= 'confusion matrix with normalization'\n",
    "plt.title(title)\n",
    "\n",
    "tick_marks = np.arange(len(classes))\n",
    "plt.xticks(tick_marks, classes, rotation = 90)\n",
    "plt.yticks(tick_marks, classes)\n",
    "\n",
    "\n",
    "print ('confusion matrix with normalization')\n",
    "print (cm)\n",
    "\n",
    "np.set_printoptions(precision=2)\n",
    "\n",
    "\n",
    "\n",
    "thresh = cm.max() / 1.5\n",
    "fmt = '.2f' \n",
    "for i, j in itertools.product(range(cm.shape[0]), range(cm.shape[1])):\n",
    "    plt.text(j, i, format(cm[i, j], fmt),\n",
    "            horizontalalignment=\"center\",\n",
    "            color=\"white\" if cm[i, j] > thresh else \"black\")\n",
    "\n",
    "plt.tight_layout()\n",
    "plt.ylabel('True label')\n",
    "plt.xlabel('Predicted label')\n",
    "plt.show()\n",
    "\n",
    "\n",
    "\n"
   ]
  },
  {
   "cell_type": "code",
   "execution_count": 127,
   "metadata": {},
   "outputs": [
    {
     "data": {
      "image/png": "[encoded data removed]",
      "text/plain": [
       "<Figure size 720x576 with 1 Axes>"
      ]
     },
     "metadata": {
      "needs_background": "light"
     },
     "output_type": "display_data"
    }
   ],
   "source": [
    "from mlxtend.plotting import plot_decision_regions   #http://rasbt.github.io/mlxtend/installation/ \n",
    "\n",
    "fig = plt.figure(figsize=(10,8))\n",
    "# Plotting decision regions\n",
    "plot_decision_regions(X_train, Y_train.to_numpy(), clf=clf_RF_pca, legend=2)\n",
    "\n",
    "# Adding axes annotations\n",
    "plt.xlabel('PCA1')\n",
    "plt.ylabel('PCA2')\n",
    "plt.title('RF using PCA')\n",
    "plt.show()"
   ]
  },
  {
   "cell_type": "code",
   "execution_count": 128,
   "metadata": {},
   "outputs": [
    {
     "data": {
      "image/png": "[encoded data removed]",
      "text/plain": [
       "<Figure size 720x576 with 1 Axes>"
      ]
     },
     "metadata": {
      "needs_background": "light"
     },
     "output_type": "display_data"
    }
   ],
   "source": [
    "from mlxtend.plotting import plot_decision_regions   #http://rasbt.github.io/mlxtend/installation/ \n",
    "\n",
    "fig = plt.figure(figsize=(10,8))\n",
    "# Plotting decision regions\n",
    "plot_decision_regions(X_train, Y_train.to_numpy(), clf=clf_svm_pca, legend=2)\n",
    "\n",
    "# Adding axes annotations\n",
    "plt.xlabel('PCA1')\n",
    "plt.ylabel('PCA2')\n",
    "plt.title('SVM using PCA')\n",
    "plt.show()"
   ]
  },
  {
   "cell_type": "raw",
   "metadata": {},
   "source": []
  },
  {
   "cell_type": "code",
   "execution_count": null,
   "metadata": {},
   "outputs": [],
   "source": [
    "\n"
   ]
  },
  {
   "cell_type": "code",
   "execution_count": null,
   "metadata": {},
   "outputs": [],
   "source": []
  },
  {
   "cell_type": "code",
   "execution_count": null,
   "metadata": {},
   "outputs": [],
   "source": []
  },
  {
   "cell_type": "code",
   "execution_count": null,
   "metadata": {},
   "outputs": [],
   "source": []
  },
  {
   "cell_type": "code",
   "execution_count": null,
   "metadata": {},
   "outputs": [],
   "source": []
  }
 ],
 "metadata": {
  "kernelspec": {
   "display_name": "Python 3",
   "language": "python",
   "name": "python3"
  },
  "language_info": {
   "codemirror_mode": {
    "name": "ipython",
    "version": 3
   },
   "file_extension": ".py",
   "mimetype": "text/x-python",
   "name": "python",
   "nbconvert_exporter": "python",
   "pygments_lexer": "ipython3",
   "version": "3.7.4"
  }
 },
 "nbformat": 4,
 "nbformat_minor": 2
}
