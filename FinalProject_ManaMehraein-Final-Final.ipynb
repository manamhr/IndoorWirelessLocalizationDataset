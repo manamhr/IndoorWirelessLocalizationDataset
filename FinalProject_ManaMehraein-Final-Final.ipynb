{
 "cells": [
  {
   "cell_type": "code",
   "execution_count": 1,
   "metadata": {},
   "outputs": [],
   "source": [
    "import pandas as pd\n",
    "import numpy as np\n",
    "from sklearn.metrics import accuracy_score, confusion_matrix, classification_report, precision_score, recall_score\n",
    "from sklearn import preprocessing\n",
    "import matplotlib.pyplot as plt\n",
    "from sklearn.model_selection import train_test_split, cross_validate\n",
    "import seaborn as sn\n",
    "import itertools\n",
    "from scipy import stats\n",
    "\n",
    "from mlxtend.plotting import plot_decision_regions   #http://rasbt.github.io/mlxtend/installation/ \n",
    "\n",
    "from sklearn.naive_bayes import GaussianNB\n",
    "from sklearn.discriminant_analysis import LinearDiscriminantAnalysis, QuadraticDiscriminantAnalysis\n",
    "from sklearn.linear_model import SGDClassifier\n",
    "from sklearn.svm import SVC, LinearSVC\n",
    "from sklearn.neighbors import KNeighborsClassifier\n",
    "from sklearn.tree import DecisionTreeClassifier\n",
    "from sklearn.ensemble import RandomForestClassifier\n",
    "from sklearn.model_selection import GridSearchCV\n",
    "\n",
    "from sklearn.ensemble import GradientBoostingRegressor\n",
    "from sklearn.linear_model import LinearRegression\n",
    "from sklearn.linear_model import LogisticRegression\n",
    "from sklearn.metrics import mean_squared_error\n",
    "from sklearn.decomposition import PCA\n",
    "\n"
   ]
  },
  {
   "cell_type": "code",
   "execution_count": 2,
   "metadata": {},
   "outputs": [],
   "source": [
    "data=pd.read_csv('D_Train1.csv', sep = ',')"
   ]
  },
  {
   "cell_type": "code",
   "execution_count": 3,
   "metadata": {},
   "outputs": [
    {
     "data": {
      "text/html": [
       "<div>\n",
       "<style scoped>\n",
       "    .dataframe tbody tr th:only-of-type {\n",
       "        vertical-align: middle;\n",
       "    }\n",
       "\n",
       "    .dataframe tbody tr th {\n",
       "        vertical-align: top;\n",
       "    }\n",
       "\n",
       "    .dataframe thead th {\n",
       "        text-align: right;\n",
       "    }\n",
       "</style>\n",
       "<table border=\"1\" class=\"dataframe\">\n",
       "  <thead>\n",
       "    <tr style=\"text-align: right;\">\n",
       "      <th></th>\n",
       "      <th>Location</th>\n",
       "      <th>WS1</th>\n",
       "      <th>WS2</th>\n",
       "      <th>WS3</th>\n",
       "      <th>WS4</th>\n",
       "      <th>WS5</th>\n",
       "      <th>WS6</th>\n",
       "      <th>WS7</th>\n",
       "    </tr>\n",
       "  </thead>\n",
       "  <tbody>\n",
       "    <tr>\n",
       "      <td>0</td>\n",
       "      <td>1</td>\n",
       "      <td>-62</td>\n",
       "      <td>-55</td>\n",
       "      <td>-65</td>\n",
       "      <td>-59</td>\n",
       "      <td>-69</td>\n",
       "      <td>-86</td>\n",
       "      <td>-87</td>\n",
       "    </tr>\n",
       "    <tr>\n",
       "      <td>1</td>\n",
       "      <td>1</td>\n",
       "      <td>-61</td>\n",
       "      <td>-56</td>\n",
       "      <td>-65</td>\n",
       "      <td>-65</td>\n",
       "      <td>-66</td>\n",
       "      <td>-77</td>\n",
       "      <td>-81</td>\n",
       "    </tr>\n",
       "    <tr>\n",
       "      <td>2</td>\n",
       "      <td>1</td>\n",
       "      <td>-62</td>\n",
       "      <td>-58</td>\n",
       "      <td>-57</td>\n",
       "      <td>-65</td>\n",
       "      <td>-70</td>\n",
       "      <td>-82</td>\n",
       "      <td>-91</td>\n",
       "    </tr>\n",
       "    <tr>\n",
       "      <td>3</td>\n",
       "      <td>1</td>\n",
       "      <td>-59</td>\n",
       "      <td>-57</td>\n",
       "      <td>-60</td>\n",
       "      <td>-60</td>\n",
       "      <td>-63</td>\n",
       "      <td>-81</td>\n",
       "      <td>-77</td>\n",
       "    </tr>\n",
       "    <tr>\n",
       "      <td>4</td>\n",
       "      <td>1</td>\n",
       "      <td>-69</td>\n",
       "      <td>-58</td>\n",
       "      <td>-56</td>\n",
       "      <td>-61</td>\n",
       "      <td>-73</td>\n",
       "      <td>-81</td>\n",
       "      <td>-93</td>\n",
       "    </tr>\n",
       "  </tbody>\n",
       "</table>\n",
       "</div>"
      ],
      "text/plain": [
       "   Location  WS1  WS2  WS3  WS4  WS5  WS6  WS7\n",
       "0         1  -62  -55  -65  -59  -69  -86  -87\n",
       "1         1  -61  -56  -65  -65  -66  -77  -81\n",
       "2         1  -62  -58  -57  -65  -70  -82  -91\n",
       "3         1  -59  -57  -60  -60  -63  -81  -77\n",
       "4         1  -69  -58  -56  -61  -73  -81  -93"
      ]
     },
     "execution_count": 3,
     "metadata": {},
     "output_type": "execute_result"
    }
   ],
   "source": [
    "data.head()"
   ]
  },
  {
   "cell_type": "code",
   "execution_count": 4,
   "metadata": {},
   "outputs": [
    {
     "data": {
      "text/html": [
       "<div>\n",
       "<style scoped>\n",
       "    .dataframe tbody tr th:only-of-type {\n",
       "        vertical-align: middle;\n",
       "    }\n",
       "\n",
       "    .dataframe tbody tr th {\n",
       "        vertical-align: top;\n",
       "    }\n",
       "\n",
       "    .dataframe thead th {\n",
       "        text-align: right;\n",
       "    }\n",
       "</style>\n",
       "<table border=\"1\" class=\"dataframe\">\n",
       "  <thead>\n",
       "    <tr style=\"text-align: right;\">\n",
       "      <th></th>\n",
       "      <th>Location</th>\n",
       "      <th>WS1</th>\n",
       "      <th>WS2</th>\n",
       "      <th>WS3</th>\n",
       "      <th>WS4</th>\n",
       "      <th>WS5</th>\n",
       "      <th>WS6</th>\n",
       "      <th>WS7</th>\n",
       "    </tr>\n",
       "  </thead>\n",
       "  <tbody>\n",
       "    <tr>\n",
       "      <td>count</td>\n",
       "      <td>1600.000000</td>\n",
       "      <td>1600.000000</td>\n",
       "      <td>1600.000000</td>\n",
       "      <td>1600.000000</td>\n",
       "      <td>1600.000000</td>\n",
       "      <td>1600.000000</td>\n",
       "      <td>1600.000000</td>\n",
       "      <td>1600.000000</td>\n",
       "    </tr>\n",
       "    <tr>\n",
       "      <td>mean</td>\n",
       "      <td>2.500000</td>\n",
       "      <td>-52.325000</td>\n",
       "      <td>-55.589375</td>\n",
       "      <td>-54.960000</td>\n",
       "      <td>-53.494375</td>\n",
       "      <td>-62.671250</td>\n",
       "      <td>-80.994375</td>\n",
       "      <td>-81.691250</td>\n",
       "    </tr>\n",
       "    <tr>\n",
       "      <td>std</td>\n",
       "      <td>1.118384</td>\n",
       "      <td>11.351317</td>\n",
       "      <td>3.420793</td>\n",
       "      <td>5.279993</td>\n",
       "      <td>11.519729</td>\n",
       "      <td>9.073223</td>\n",
       "      <td>6.508038</td>\n",
       "      <td>6.525434</td>\n",
       "    </tr>\n",
       "    <tr>\n",
       "      <td>min</td>\n",
       "      <td>1.000000</td>\n",
       "      <td>-74.000000</td>\n",
       "      <td>-74.000000</td>\n",
       "      <td>-73.000000</td>\n",
       "      <td>-77.000000</td>\n",
       "      <td>-86.000000</td>\n",
       "      <td>-97.000000</td>\n",
       "      <td>-98.000000</td>\n",
       "    </tr>\n",
       "    <tr>\n",
       "      <td>25%</td>\n",
       "      <td>1.750000</td>\n",
       "      <td>-61.000000</td>\n",
       "      <td>-58.000000</td>\n",
       "      <td>-58.000000</td>\n",
       "      <td>-63.000000</td>\n",
       "      <td>-69.000000</td>\n",
       "      <td>-86.000000</td>\n",
       "      <td>-86.000000</td>\n",
       "    </tr>\n",
       "    <tr>\n",
       "      <td>50%</td>\n",
       "      <td>2.500000</td>\n",
       "      <td>-55.000000</td>\n",
       "      <td>-56.000000</td>\n",
       "      <td>-55.000000</td>\n",
       "      <td>-56.000000</td>\n",
       "      <td>-64.000000</td>\n",
       "      <td>-82.000000</td>\n",
       "      <td>-83.000000</td>\n",
       "    </tr>\n",
       "    <tr>\n",
       "      <td>75%</td>\n",
       "      <td>3.250000</td>\n",
       "      <td>-46.000000</td>\n",
       "      <td>-53.000000</td>\n",
       "      <td>-51.000000</td>\n",
       "      <td>-46.000000</td>\n",
       "      <td>-56.000000</td>\n",
       "      <td>-77.000000</td>\n",
       "      <td>-78.000000</td>\n",
       "    </tr>\n",
       "    <tr>\n",
       "      <td>max</td>\n",
       "      <td>4.000000</td>\n",
       "      <td>-10.000000</td>\n",
       "      <td>-45.000000</td>\n",
       "      <td>-42.000000</td>\n",
       "      <td>-13.000000</td>\n",
       "      <td>-39.000000</td>\n",
       "      <td>-62.000000</td>\n",
       "      <td>-64.000000</td>\n",
       "    </tr>\n",
       "  </tbody>\n",
       "</table>\n",
       "</div>"
      ],
      "text/plain": [
       "          Location          WS1          WS2          WS3          WS4  \\\n",
       "count  1600.000000  1600.000000  1600.000000  1600.000000  1600.000000   \n",
       "mean      2.500000   -52.325000   -55.589375   -54.960000   -53.494375   \n",
       "std       1.118384    11.351317     3.420793     5.279993    11.519729   \n",
       "min       1.000000   -74.000000   -74.000000   -73.000000   -77.000000   \n",
       "25%       1.750000   -61.000000   -58.000000   -58.000000   -63.000000   \n",
       "50%       2.500000   -55.000000   -56.000000   -55.000000   -56.000000   \n",
       "75%       3.250000   -46.000000   -53.000000   -51.000000   -46.000000   \n",
       "max       4.000000   -10.000000   -45.000000   -42.000000   -13.000000   \n",
       "\n",
       "               WS5          WS6          WS7  \n",
       "count  1600.000000  1600.000000  1600.000000  \n",
       "mean    -62.671250   -80.994375   -81.691250  \n",
       "std       9.073223     6.508038     6.525434  \n",
       "min     -86.000000   -97.000000   -98.000000  \n",
       "25%     -69.000000   -86.000000   -86.000000  \n",
       "50%     -64.000000   -82.000000   -83.000000  \n",
       "75%     -56.000000   -77.000000   -78.000000  \n",
       "max     -39.000000   -62.000000   -64.000000  "
      ]
     },
     "execution_count": 4,
     "metadata": {},
     "output_type": "execute_result"
    }
   ],
   "source": [
    "data.describe()"
   ]
  },
  {
   "cell_type": "code",
   "execution_count": 5,
   "metadata": {},
   "outputs": [
    {
     "data": {
      "text/html": [
       "<div>\n",
       "<style scoped>\n",
       "    .dataframe tbody tr th:only-of-type {\n",
       "        vertical-align: middle;\n",
       "    }\n",
       "\n",
       "    .dataframe tbody tr th {\n",
       "        vertical-align: top;\n",
       "    }\n",
       "\n",
       "    .dataframe thead th {\n",
       "        text-align: right;\n",
       "    }\n",
       "</style>\n",
       "<table border=\"1\" class=\"dataframe\">\n",
       "  <thead>\n",
       "    <tr style=\"text-align: right;\">\n",
       "      <th></th>\n",
       "      <th>Location</th>\n",
       "      <th>WS1</th>\n",
       "      <th>WS2</th>\n",
       "      <th>WS3</th>\n",
       "      <th>WS4</th>\n",
       "      <th>WS5</th>\n",
       "      <th>WS6</th>\n",
       "      <th>WS7</th>\n",
       "    </tr>\n",
       "  </thead>\n",
       "  <tbody>\n",
       "  </tbody>\n",
       "</table>\n",
       "</div>"
      ],
      "text/plain": [
       "Empty DataFrame\n",
       "Columns: [Location, WS1, WS2, WS3, WS4, WS5, WS6, WS7]\n",
       "Index: []"
      ]
     },
     "execution_count": 5,
     "metadata": {},
     "output_type": "execute_result"
    }
   ],
   "source": [
    "data[data.isnull().any(axis=1)] #check if we have null data\n",
    "\n",
    "#data=data.dropna() to drop null data if any"
   ]
  },
  {
   "cell_type": "code",
   "execution_count": 6,
   "metadata": {},
   "outputs": [
    {
     "data": {
      "text/plain": [
       "Location    0\n",
       "WS1         0\n",
       "WS2         0\n",
       "WS3         0\n",
       "WS4         0\n",
       "WS5         0\n",
       "WS6         0\n",
       "WS7         0\n",
       "dtype: int64"
      ]
     },
     "execution_count": 6,
     "metadata": {},
     "output_type": "execute_result"
    }
   ],
   "source": [
    "data.isna().sum()"
   ]
  },
  {
   "cell_type": "code",
   "execution_count": 7,
   "metadata": {},
   "outputs": [
    {
     "data": {
      "text/plain": [
       "Location    int64\n",
       "WS1         int64\n",
       "WS2         int64\n",
       "WS3         int64\n",
       "WS4         int64\n",
       "WS5         int64\n",
       "WS6         int64\n",
       "WS7         int64\n",
       "dtype: object"
      ]
     },
     "execution_count": 7,
     "metadata": {},
     "output_type": "execute_result"
    }
   ],
   "source": [
    "data.dtypes"
   ]
  },
  {
   "cell_type": "raw",
   "metadata": {},
   "source": [
    "data[['WS1']]=preprocessing.scale(data[['WS1']])\n",
    "data[['WS2']]=preprocessing.scale(data[['WS2']])\n",
    "data[['WS3']]=preprocessing.scale(data[['WS3']])\n",
    "data[['WS4']]=preprocessing.scale(data[['WS4']])\n",
    "data[['WS5']]=preprocessing.scale(data[['WS5']])\n",
    "data[['WS6']]=preprocessing.scale(data[['WS6']])\n",
    "data[['WS7']]=preprocessing.scale(data[['WS7']])"
   ]
  },
  {
   "cell_type": "code",
   "execution_count": null,
   "metadata": {},
   "outputs": [],
   "source": []
  },
  {
   "cell_type": "code",
   "execution_count": 8,
   "metadata": {},
   "outputs": [
    {
     "data": {
      "text/plain": [
       "array([[<matplotlib.axes._subplots.AxesSubplot object at 0x1a16406910>,\n",
       "        <matplotlib.axes._subplots.AxesSubplot object at 0x1a1648e950>,\n",
       "        <matplotlib.axes._subplots.AxesSubplot object at 0x1a164c3f50>],\n",
       "       [<matplotlib.axes._subplots.AxesSubplot object at 0x1a16505790>,\n",
       "        <matplotlib.axes._subplots.AxesSubplot object at 0x1a16537f90>,\n",
       "        <matplotlib.axes._subplots.AxesSubplot object at 0x1a165787d0>],\n",
       "       [<matplotlib.axes._subplots.AxesSubplot object at 0x1a165acfd0>,\n",
       "        <matplotlib.axes._subplots.AxesSubplot object at 0x1a165ec810>,\n",
       "        <matplotlib.axes._subplots.AxesSubplot object at 0x1a165f6350>]],\n",
       "      dtype=object)"
      ]
     },
     "execution_count": 8,
     "metadata": {},
     "output_type": "execute_result"
    },
    {
     "data": {
      "image/png": "[encoded data removed]",
      "text/plain": [
       "<Figure size 720x504 with 9 Axes>"
      ]
     },
     "metadata": {
      "needs_background": "light"
     },
     "output_type": "display_data"
    }
   ],
   "source": [
    "plt.rcParams['figure.figsize'] = [10,7]\n",
    "data.hist()"
   ]
  },
  {
   "cell_type": "code",
   "execution_count": 9,
   "metadata": {},
   "outputs": [],
   "source": [
    "train_label = data['Location']\n",
    "train_data = data.drop('Location', axis=1)"
   ]
  },
  {
   "cell_type": "code",
   "execution_count": 10,
   "metadata": {},
   "outputs": [
    {
     "data": {
      "text/plain": [
       "((1600,), (1600, 7))"
      ]
     },
     "execution_count": 10,
     "metadata": {},
     "output_type": "execute_result"
    }
   ],
   "source": [
    "train_label.shape, train_data.shape"
   ]
  },
  {
   "cell_type": "code",
   "execution_count": 11,
   "metadata": {},
   "outputs": [
    {
     "data": {
      "text/html": [
       "<div>\n",
       "<style scoped>\n",
       "    .dataframe tbody tr th:only-of-type {\n",
       "        vertical-align: middle;\n",
       "    }\n",
       "\n",
       "    .dataframe tbody tr th {\n",
       "        vertical-align: top;\n",
       "    }\n",
       "\n",
       "    .dataframe thead th {\n",
       "        text-align: right;\n",
       "    }\n",
       "</style>\n",
       "<table border=\"1\" class=\"dataframe\">\n",
       "  <thead>\n",
       "    <tr style=\"text-align: right;\">\n",
       "      <th></th>\n",
       "      <th>WS1</th>\n",
       "      <th>WS2</th>\n",
       "      <th>WS3</th>\n",
       "      <th>WS4</th>\n",
       "      <th>WS5</th>\n",
       "      <th>WS6</th>\n",
       "      <th>WS7</th>\n",
       "    </tr>\n",
       "  </thead>\n",
       "  <tbody>\n",
       "    <tr>\n",
       "      <td>count</td>\n",
       "      <td>1600.000000</td>\n",
       "      <td>1600.000000</td>\n",
       "      <td>1600.000000</td>\n",
       "      <td>1600.000000</td>\n",
       "      <td>1600.000000</td>\n",
       "      <td>1600.000000</td>\n",
       "      <td>1600.000000</td>\n",
       "    </tr>\n",
       "    <tr>\n",
       "      <td>mean</td>\n",
       "      <td>-52.325000</td>\n",
       "      <td>-55.589375</td>\n",
       "      <td>-54.960000</td>\n",
       "      <td>-53.494375</td>\n",
       "      <td>-62.671250</td>\n",
       "      <td>-80.994375</td>\n",
       "      <td>-81.691250</td>\n",
       "    </tr>\n",
       "    <tr>\n",
       "      <td>std</td>\n",
       "      <td>11.351317</td>\n",
       "      <td>3.420793</td>\n",
       "      <td>5.279993</td>\n",
       "      <td>11.519729</td>\n",
       "      <td>9.073223</td>\n",
       "      <td>6.508038</td>\n",
       "      <td>6.525434</td>\n",
       "    </tr>\n",
       "    <tr>\n",
       "      <td>min</td>\n",
       "      <td>-74.000000</td>\n",
       "      <td>-74.000000</td>\n",
       "      <td>-73.000000</td>\n",
       "      <td>-77.000000</td>\n",
       "      <td>-86.000000</td>\n",
       "      <td>-97.000000</td>\n",
       "      <td>-98.000000</td>\n",
       "    </tr>\n",
       "    <tr>\n",
       "      <td>25%</td>\n",
       "      <td>-61.000000</td>\n",
       "      <td>-58.000000</td>\n",
       "      <td>-58.000000</td>\n",
       "      <td>-63.000000</td>\n",
       "      <td>-69.000000</td>\n",
       "      <td>-86.000000</td>\n",
       "      <td>-86.000000</td>\n",
       "    </tr>\n",
       "    <tr>\n",
       "      <td>50%</td>\n",
       "      <td>-55.000000</td>\n",
       "      <td>-56.000000</td>\n",
       "      <td>-55.000000</td>\n",
       "      <td>-56.000000</td>\n",
       "      <td>-64.000000</td>\n",
       "      <td>-82.000000</td>\n",
       "      <td>-83.000000</td>\n",
       "    </tr>\n",
       "    <tr>\n",
       "      <td>75%</td>\n",
       "      <td>-46.000000</td>\n",
       "      <td>-53.000000</td>\n",
       "      <td>-51.000000</td>\n",
       "      <td>-46.000000</td>\n",
       "      <td>-56.000000</td>\n",
       "      <td>-77.000000</td>\n",
       "      <td>-78.000000</td>\n",
       "    </tr>\n",
       "    <tr>\n",
       "      <td>max</td>\n",
       "      <td>-10.000000</td>\n",
       "      <td>-45.000000</td>\n",
       "      <td>-42.000000</td>\n",
       "      <td>-13.000000</td>\n",
       "      <td>-39.000000</td>\n",
       "      <td>-62.000000</td>\n",
       "      <td>-64.000000</td>\n",
       "    </tr>\n",
       "  </tbody>\n",
       "</table>\n",
       "</div>"
      ],
      "text/plain": [
       "               WS1          WS2          WS3          WS4          WS5  \\\n",
       "count  1600.000000  1600.000000  1600.000000  1600.000000  1600.000000   \n",
       "mean    -52.325000   -55.589375   -54.960000   -53.494375   -62.671250   \n",
       "std      11.351317     3.420793     5.279993    11.519729     9.073223   \n",
       "min     -74.000000   -74.000000   -73.000000   -77.000000   -86.000000   \n",
       "25%     -61.000000   -58.000000   -58.000000   -63.000000   -69.000000   \n",
       "50%     -55.000000   -56.000000   -55.000000   -56.000000   -64.000000   \n",
       "75%     -46.000000   -53.000000   -51.000000   -46.000000   -56.000000   \n",
       "max     -10.000000   -45.000000   -42.000000   -13.000000   -39.000000   \n",
       "\n",
       "               WS6          WS7  \n",
       "count  1600.000000  1600.000000  \n",
       "mean    -80.994375   -81.691250  \n",
       "std       6.508038     6.525434  \n",
       "min     -97.000000   -98.000000  \n",
       "25%     -86.000000   -86.000000  \n",
       "50%     -82.000000   -83.000000  \n",
       "75%     -77.000000   -78.000000  \n",
       "max     -62.000000   -64.000000  "
      ]
     },
     "execution_count": 11,
     "metadata": {},
     "output_type": "execute_result"
    }
   ],
   "source": [
    "train_data.describe()"
   ]
  },
  {
   "cell_type": "code",
   "execution_count": 12,
   "metadata": {},
   "outputs": [
    {
     "data": {
      "text/plain": [
       "<matplotlib.axes._subplots.AxesSubplot at 0x1a169af4d0>"
      ]
     },
     "execution_count": 12,
     "metadata": {},
     "output_type": "execute_result"
    },
    {
     "data": {
      "image/png": "[encoded data removed]",
      "text/plain": [
       "<Figure size 864x720 with 2 Axes>"
      ]
     },
     "metadata": {
      "needs_background": "light"
     },
     "output_type": "display_data"
    }
   ],
   "source": [
    "fig, ax = plt.subplots(figsize=(12, 10))\n",
    "sn.heatmap(train_data.corr(), annot=True)"
   ]
  },
  {
   "cell_type": "raw",
   "metadata": {},
   "source": [
    "#please Markdown for final testing \n",
    "train_data, test_data, train_label, test_label = train_test_split(train_data, train_label, test_size = 0.2, random_state=0) \n",
    "train_data.shape, test_data.shape\n",
    "\n",
    "\n"
   ]
  },
  {
   "cell_type": "code",
   "execution_count": 13,
   "metadata": {},
   "outputs": [],
   "source": [
    "testdata=pd.read_csv('D_Test1.csv', sep = ',')"
   ]
  },
  {
   "cell_type": "code",
   "execution_count": 14,
   "metadata": {},
   "outputs": [
    {
     "data": {
      "text/html": [
       "<div>\n",
       "<style scoped>\n",
       "    .dataframe tbody tr th:only-of-type {\n",
       "        vertical-align: middle;\n",
       "    }\n",
       "\n",
       "    .dataframe tbody tr th {\n",
       "        vertical-align: top;\n",
       "    }\n",
       "\n",
       "    .dataframe thead th {\n",
       "        text-align: right;\n",
       "    }\n",
       "</style>\n",
       "<table border=\"1\" class=\"dataframe\">\n",
       "  <thead>\n",
       "    <tr style=\"text-align: right;\">\n",
       "      <th></th>\n",
       "      <th>Location</th>\n",
       "      <th>WS1</th>\n",
       "      <th>WS2</th>\n",
       "      <th>WS3</th>\n",
       "      <th>WS4</th>\n",
       "      <th>WS5</th>\n",
       "      <th>WS6</th>\n",
       "      <th>WS7</th>\n",
       "    </tr>\n",
       "  </thead>\n",
       "  <tbody>\n",
       "    <tr>\n",
       "      <td>0</td>\n",
       "      <td>1</td>\n",
       "      <td>-64</td>\n",
       "      <td>-56</td>\n",
       "      <td>-61</td>\n",
       "      <td>-66</td>\n",
       "      <td>-71</td>\n",
       "      <td>-82</td>\n",
       "      <td>-81</td>\n",
       "    </tr>\n",
       "    <tr>\n",
       "      <td>1</td>\n",
       "      <td>1</td>\n",
       "      <td>-64</td>\n",
       "      <td>-55</td>\n",
       "      <td>-63</td>\n",
       "      <td>-66</td>\n",
       "      <td>-76</td>\n",
       "      <td>-88</td>\n",
       "      <td>-83</td>\n",
       "    </tr>\n",
       "    <tr>\n",
       "      <td>2</td>\n",
       "      <td>1</td>\n",
       "      <td>-65</td>\n",
       "      <td>-60</td>\n",
       "      <td>-59</td>\n",
       "      <td>-63</td>\n",
       "      <td>-76</td>\n",
       "      <td>-86</td>\n",
       "      <td>-82</td>\n",
       "    </tr>\n",
       "    <tr>\n",
       "      <td>3</td>\n",
       "      <td>1</td>\n",
       "      <td>-61</td>\n",
       "      <td>-59</td>\n",
       "      <td>-65</td>\n",
       "      <td>-63</td>\n",
       "      <td>-74</td>\n",
       "      <td>-89</td>\n",
       "      <td>-87</td>\n",
       "    </tr>\n",
       "    <tr>\n",
       "      <td>4</td>\n",
       "      <td>1</td>\n",
       "      <td>-67</td>\n",
       "      <td>-60</td>\n",
       "      <td>-66</td>\n",
       "      <td>-65</td>\n",
       "      <td>-75</td>\n",
       "      <td>-86</td>\n",
       "      <td>-87</td>\n",
       "    </tr>\n",
       "  </tbody>\n",
       "</table>\n",
       "</div>"
      ],
      "text/plain": [
       "   Location  WS1  WS2  WS3  WS4  WS5  WS6  WS7\n",
       "0         1  -64  -56  -61  -66  -71  -82  -81\n",
       "1         1  -64  -55  -63  -66  -76  -88  -83\n",
       "2         1  -65  -60  -59  -63  -76  -86  -82\n",
       "3         1  -61  -59  -65  -63  -74  -89  -87\n",
       "4         1  -67  -60  -66  -65  -75  -86  -87"
      ]
     },
     "execution_count": 14,
     "metadata": {},
     "output_type": "execute_result"
    }
   ],
   "source": [
    "testdata.head()\n"
   ]
  },
  {
   "cell_type": "code",
   "execution_count": 15,
   "metadata": {},
   "outputs": [
    {
     "data": {
      "text/plain": [
       "((400, 7), (400,))"
      ]
     },
     "execution_count": 15,
     "metadata": {},
     "output_type": "execute_result"
    }
   ],
   "source": [
    "test_label = testdata['Location']\n",
    "test_data = testdata.drop('Location', axis=1)\n",
    "test_data.shape, test_label.shape"
   ]
  },
  {
   "cell_type": "code",
   "execution_count": 16,
   "metadata": {},
   "outputs": [],
   "source": [
    "scaler=preprocessing.StandardScaler()\n",
    "train_data_standard = scaler.fit_transform(train_data) \n",
    "test_data_standard = scaler.transform(test_data)"
   ]
  },
  {
   "cell_type": "code",
   "execution_count": 17,
   "metadata": {},
   "outputs": [],
   "source": [
    "#scores = cross_val_score(clf, X, y, cv=5)\n",
    "#scores = cross_validate(clf, X, y,scoring='precision_macro', cv=5,return_estimator=True)         "
   ]
  },
  {
   "cell_type": "code",
   "execution_count": 18,
   "metadata": {},
   "outputs": [],
   "source": [
    "#train_data_db=data.drop('Location', axis=1)\n",
    "train_data_df=pd.DataFrame(train_data, columns=train_data.columns)"
   ]
  },
  {
   "cell_type": "code",
   "execution_count": 19,
   "metadata": {},
   "outputs": [],
   "source": [
    "train_data_standard_df=pd.DataFrame(train_data_standard, columns=train_data_df.columns)"
   ]
  },
  {
   "cell_type": "code",
   "execution_count": 20,
   "metadata": {},
   "outputs": [
    {
     "data": {
      "text/html": [
       "<div>\n",
       "<style scoped>\n",
       "    .dataframe tbody tr th:only-of-type {\n",
       "        vertical-align: middle;\n",
       "    }\n",
       "\n",
       "    .dataframe tbody tr th {\n",
       "        vertical-align: top;\n",
       "    }\n",
       "\n",
       "    .dataframe thead th {\n",
       "        text-align: right;\n",
       "    }\n",
       "</style>\n",
       "<table border=\"1\" class=\"dataframe\">\n",
       "  <thead>\n",
       "    <tr style=\"text-align: right;\">\n",
       "      <th></th>\n",
       "      <th>WS1</th>\n",
       "      <th>WS2</th>\n",
       "      <th>WS3</th>\n",
       "      <th>WS4</th>\n",
       "      <th>WS5</th>\n",
       "      <th>WS6</th>\n",
       "      <th>WS7</th>\n",
       "    </tr>\n",
       "  </thead>\n",
       "  <tbody>\n",
       "    <tr>\n",
       "      <td>count</td>\n",
       "      <td>1.600000e+03</td>\n",
       "      <td>1.600000e+03</td>\n",
       "      <td>1.600000e+03</td>\n",
       "      <td>1.600000e+03</td>\n",
       "      <td>1.600000e+03</td>\n",
       "      <td>1.600000e+03</td>\n",
       "      <td>1.600000e+03</td>\n",
       "    </tr>\n",
       "    <tr>\n",
       "      <td>mean</td>\n",
       "      <td>-3.981988e-15</td>\n",
       "      <td>-1.524926e-15</td>\n",
       "      <td>-2.430001e-16</td>\n",
       "      <td>-1.106754e-16</td>\n",
       "      <td>1.353084e-15</td>\n",
       "      <td>5.555278e-16</td>\n",
       "      <td>-8.398837e-16</td>\n",
       "    </tr>\n",
       "    <tr>\n",
       "      <td>std</td>\n",
       "      <td>1.000313e+00</td>\n",
       "      <td>1.000313e+00</td>\n",
       "      <td>1.000313e+00</td>\n",
       "      <td>1.000313e+00</td>\n",
       "      <td>1.000313e+00</td>\n",
       "      <td>1.000313e+00</td>\n",
       "      <td>1.000313e+00</td>\n",
       "    </tr>\n",
       "    <tr>\n",
       "      <td>min</td>\n",
       "      <td>-1.910067e+00</td>\n",
       "      <td>-5.383658e+00</td>\n",
       "      <td>-3.417740e+00</td>\n",
       "      <td>-2.041105e+00</td>\n",
       "      <td>-2.571968e+00</td>\n",
       "      <td>-2.460131e+00</td>\n",
       "      <td>-2.500041e+00</td>\n",
       "    </tr>\n",
       "    <tr>\n",
       "      <td>25%</td>\n",
       "      <td>-7.644674e-01</td>\n",
       "      <td>-7.049180e-01</td>\n",
       "      <td>-5.759384e-01</td>\n",
       "      <td>-8.254184e-01</td>\n",
       "      <td>-6.977376e-01</td>\n",
       "      <td>-7.693854e-01</td>\n",
       "      <td>-6.605074e-01</td>\n",
       "    </tr>\n",
       "    <tr>\n",
       "      <td>50%</td>\n",
       "      <td>-2.357291e-01</td>\n",
       "      <td>-1.200755e-01</td>\n",
       "      <td>-7.578136e-03</td>\n",
       "      <td>-2.175753e-01</td>\n",
       "      <td>-1.464932e-01</td>\n",
       "      <td>-1.545688e-01</td>\n",
       "      <td>-2.006241e-01</td>\n",
       "    </tr>\n",
       "    <tr>\n",
       "      <td>75%</td>\n",
       "      <td>5.573783e-01</td>\n",
       "      <td>7.571883e-01</td>\n",
       "      <td>7.502355e-01</td>\n",
       "      <td>6.507721e-01</td>\n",
       "      <td>7.354978e-01</td>\n",
       "      <td>6.139521e-01</td>\n",
       "      <td>5.658481e-01</td>\n",
       "    </tr>\n",
       "    <tr>\n",
       "      <td>max</td>\n",
       "      <td>3.729808e+00</td>\n",
       "      <td>3.096558e+00</td>\n",
       "      <td>2.455316e+00</td>\n",
       "      <td>3.516318e+00</td>\n",
       "      <td>2.609729e+00</td>\n",
       "      <td>2.919515e+00</td>\n",
       "      <td>2.711970e+00</td>\n",
       "    </tr>\n",
       "  </tbody>\n",
       "</table>\n",
       "</div>"
      ],
      "text/plain": [
       "                WS1           WS2           WS3           WS4           WS5  \\\n",
       "count  1.600000e+03  1.600000e+03  1.600000e+03  1.600000e+03  1.600000e+03   \n",
       "mean  -3.981988e-15 -1.524926e-15 -2.430001e-16 -1.106754e-16  1.353084e-15   \n",
       "std    1.000313e+00  1.000313e+00  1.000313e+00  1.000313e+00  1.000313e+00   \n",
       "min   -1.910067e+00 -5.383658e+00 -3.417740e+00 -2.041105e+00 -2.571968e+00   \n",
       "25%   -7.644674e-01 -7.049180e-01 -5.759384e-01 -8.254184e-01 -6.977376e-01   \n",
       "50%   -2.357291e-01 -1.200755e-01 -7.578136e-03 -2.175753e-01 -1.464932e-01   \n",
       "75%    5.573783e-01  7.571883e-01  7.502355e-01  6.507721e-01  7.354978e-01   \n",
       "max    3.729808e+00  3.096558e+00  2.455316e+00  3.516318e+00  2.609729e+00   \n",
       "\n",
       "                WS6           WS7  \n",
       "count  1.600000e+03  1.600000e+03  \n",
       "mean   5.555278e-16 -8.398837e-16  \n",
       "std    1.000313e+00  1.000313e+00  \n",
       "min   -2.460131e+00 -2.500041e+00  \n",
       "25%   -7.693854e-01 -6.605074e-01  \n",
       "50%   -1.545688e-01 -2.006241e-01  \n",
       "75%    6.139521e-01  5.658481e-01  \n",
       "max    2.919515e+00  2.711970e+00  "
      ]
     },
     "execution_count": 20,
     "metadata": {},
     "output_type": "execute_result"
    }
   ],
   "source": [
    "train_data_standard_df.describe()"
   ]
  },
  {
   "cell_type": "code",
   "execution_count": 21,
   "metadata": {},
   "outputs": [
    {
     "data": {
      "image/png": "[encoded data removed]",
      "text/plain": [
       "<Figure size 864x576 with 1 Axes>"
      ]
     },
     "metadata": {
      "needs_background": "light"
     },
     "output_type": "display_data"
    }
   ],
   "source": [
    "train_data_standard_df.boxplot(figsize=(12, 8), rot=45)\n",
    "\n",
    "plt.show()"
   ]
  },
  {
   "cell_type": "code",
   "execution_count": null,
   "metadata": {},
   "outputs": [],
   "source": []
  },
  {
   "cell_type": "code",
   "execution_count": 22,
   "metadata": {},
   "outputs": [],
   "source": [
    "z=np.abs(stats.zscore(train_data_standard))"
   ]
  },
  {
   "cell_type": "raw",
   "metadata": {},
   "source": [
    "print(z)"
   ]
  },
  {
   "cell_type": "raw",
   "metadata": {},
   "source": [
    "thrs=3\n",
    "print(np.where(z>3))"
   ]
  },
  {
   "cell_type": "raw",
   "metadata": {},
   "source": [
    "print(z[791][1])"
   ]
  },
  {
   "cell_type": "raw",
   "metadata": {},
   "source": [
    "Q1 = data.quantile(0.25)\n",
    "Q3 = data.quantile(0.75)\n",
    "IQR = Q3 - Q1\n",
    "print(IQR)"
   ]
  },
  {
   "cell_type": "code",
   "execution_count": 23,
   "metadata": {},
   "outputs": [],
   "source": [
    "#print(data < (Q1 - 1.5 * IQR)) |(data > (Q3 + 1.5 * IQR))"
   ]
  },
  {
   "cell_type": "raw",
   "metadata": {},
   "source": [
    "#print(data['WS1'].quantile(0.10))\n",
    "#print(data['WS1'].quantile(0.90))"
   ]
  },
  {
   "cell_type": "code",
   "execution_count": 24,
   "metadata": {},
   "outputs": [
    {
     "name": "stdout",
     "output_type": "stream",
     "text": [
      "skew1: 1.0616418498661164\n",
      "skew2: -0.26360706418301216\n",
      "skew3: -0.2588857304866265\n",
      "skew4: 0.846194491503386\n",
      "skew5: 0.3942235277409816\n",
      "skew6: 0.43629642032775834\n",
      "skew7: 0.48893599953670425\n"
     ]
    }
   ],
   "source": [
    "#df[\"WS1\"] = np.where(df[\"WS1\"] <-64.0, -64.0,df['WS1'])\n",
    "#df[\"WS1\"] = np.where(df[\"WS1\"] >-38.0, -38.0,df['WS1'])\n",
    "print('skew1:',data['WS1'].skew())\n",
    "print('skew2:',data['WS2'].skew())\n",
    "print('skew3:',data['WS3'].skew())\n",
    "print('skew4:',data['WS4'].skew())\n",
    "print('skew5:',data['WS5'].skew())\n",
    "print('skew6:',data['WS6'].skew())\n",
    "print('skew7:',data['WS7'].skew())"
   ]
  },
  {
   "cell_type": "code",
   "execution_count": 25,
   "metadata": {
    "scrolled": true
   },
   "outputs": [
    {
     "data": {
      "text/plain": [
       "WS1    128.852408\n",
       "WS2     11.701826\n",
       "WS3     27.878324\n",
       "WS4    132.704158\n",
       "WS5     82.323376\n",
       "WS6     42.354565\n",
       "WS7     42.581287\n",
       "dtype: float64"
      ]
     },
     "execution_count": 25,
     "metadata": {},
     "output_type": "execute_result"
    }
   ],
   "source": [
    "train_data.var(axis=0)"
   ]
  },
  {
   "cell_type": "code",
   "execution_count": 26,
   "metadata": {},
   "outputs": [],
   "source": [
    "#from sklearn.preprocessing import minmax_scale"
   ]
  },
  {
   "cell_type": "code",
   "execution_count": 27,
   "metadata": {},
   "outputs": [],
   "source": [
    "#train_scaled=pd.DataFrame(minmax_scale(train_data, feature_range=(0,10)), columns=train_data.columns)"
   ]
  },
  {
   "cell_type": "code",
   "execution_count": 28,
   "metadata": {},
   "outputs": [
    {
     "name": "stdout",
     "output_type": "stream",
     "text": [
      "Total # of mislabeled points: 9 out of 400\n",
      "***** Training Accuracy with GNB: 0.985\n",
      "***** Test Accuracy with GNB: 0.9775\n"
     ]
    }
   ],
   "source": [
    "clf_GNB=GaussianNB(priors=None)\n",
    "GNB_pred = clf_GNB.fit(train_data_standard, train_label).predict(test_data_standard)\n",
    "print(\"Total # of mislabeled points: %d out of %d\" % ( (test_label != GNB_pred).sum(), test_data_standard.shape[0]))\n",
    "\n",
    "print('***** Training Accuracy with GNB:', accuracy_score(train_label,clf_GNB.predict(train_data_standard)))\n",
    "print('***** Test Accuracy with GNB:', accuracy_score(test_label,clf_GNB.predict(test_data_standard)))"
   ]
  },
  {
   "cell_type": "code",
   "execution_count": 29,
   "metadata": {},
   "outputs": [
    {
     "name": "stdout",
     "output_type": "stream",
     "text": [
      "Cross_validate Score:  {'fit_time': array([0.00467992, 0.00210214, 0.00151515]), 'score_time': array([0.00411105, 0.00212097, 0.00286579]), 'estimator': (GaussianNB(priors=None, var_smoothing=1e-09), GaussianNB(priors=None, var_smoothing=1e-09), GaussianNB(priors=None, var_smoothing=1e-09)), 'test_score': array([0.98361514, 0.99083506, 0.98354703])}\n"
     ]
    }
   ],
   "source": [
    "scores = cross_validate(clf_GNB, train_data_standard, train_label,scoring='precision_macro', cv=3,return_estimator=True) \n",
    "print('Cross_validate Score: ',scores)"
   ]
  },
  {
   "cell_type": "code",
   "execution_count": 30,
   "metadata": {},
   "outputs": [
    {
     "name": "stdout",
     "output_type": "stream",
     "text": [
      "              precision    recall  f1-score   support\n",
      "\n",
      "           1       0.99      0.99      0.99       100\n",
      "           2       0.99      0.94      0.96       100\n",
      "           3       0.93      0.98      0.96       100\n",
      "           4       1.00      1.00      1.00       100\n",
      "\n",
      "    accuracy                           0.98       400\n",
      "   macro avg       0.98      0.98      0.98       400\n",
      "weighted avg       0.98      0.98      0.98       400\n",
      "\n"
     ]
    }
   ],
   "source": [
    "print(classification_report(test_label, GNB_pred))"
   ]
  },
  {
   "cell_type": "code",
   "execution_count": 31,
   "metadata": {},
   "outputs": [
    {
     "name": "stdout",
     "output_type": "stream",
     "text": [
      "confusion matrix without normalization\n",
      "[[ 99   0   1   0]\n",
      " [  0  94   6   0]\n",
      " [  1   1  98   0]\n",
      " [  0   0   0 100]]\n"
     ]
    },
    {
     "data": {
      "image/png": "[encoded data removed]",
      "text/plain": [
       "<Figure size 432x288 with 2 Axes>"
      ]
     },
     "metadata": {
      "needs_background": "light"
     },
     "output_type": "display_data"
    }
   ],
   "source": [
    "test_pred=clf_GNB.predict(test_data_standard)\n",
    "#print(confusion_matrix(test_label, pred))\n",
    "plt.rcParams['figure.figsize'] = [6,4]\n",
    "\n",
    "\n",
    "classes=range(1-4)\n",
    "\n",
    "\n",
    "cmap=plt.cm.Blues\n",
    "cm=confusion_matrix(np.array(test_label),np.array(test_pred))\n",
    "\n",
    "plt.imshow(cm, interpolation='nearest', cmap=cmap)\n",
    "plt.colorbar()\n",
    "title= 'confusion matrix without normalization'\n",
    "\n",
    "plt.title(title)\n",
    "\n",
    "tick_marks = np.arange(len(classes))\n",
    "plt.xticks(tick_marks, classes, rotation = 45)\n",
    "plt.yticks(tick_marks, classes)\n",
    "\n",
    "print ('confusion matrix without normalization')\n",
    "print (cm)\n",
    "\n",
    "thresh = cm.max() / 2\n",
    "fmt = 'd'\n",
    "for i, j in itertools.product(range(cm.shape[0]), range(cm.shape[1])):\n",
    "    plt.text(j, i, format(cm[i, j], fmt),\n",
    "            horizontalalignment=\"center\",\n",
    "            color=\"white\" if cm[i, j] > thresh else \"black\")\n",
    "\n",
    "plt.tight_layout()\n",
    "plt.ylabel('True label')\n",
    "plt.xlabel('Predicted label')\n",
    "plt.show()\n"
   ]
  },
  {
   "cell_type": "code",
   "execution_count": 32,
   "metadata": {},
   "outputs": [
    {
     "name": "stdout",
     "output_type": "stream",
     "text": [
      "confusion matrix with normalization\n",
      "[[0.99 0.   0.01 0.  ]\n",
      " [0.   0.94 0.06 0.  ]\n",
      " [0.01 0.01 0.98 0.  ]\n",
      " [0.   0.   0.   1.  ]]\n"
     ]
    },
    {
     "data": {
      "image/png": "[encoded data removed]",
      "text/plain": [
       "<Figure size 432x288 with 2 Axes>"
      ]
     },
     "metadata": {
      "needs_background": "light"
     },
     "output_type": "display_data"
    }
   ],
   "source": [
    "#normalized\n",
    "plt.rcParams['figure.figsize'] = [6,4]\n",
    "\n",
    "#plt.figure(figsize=(10, 6))\n",
    "test_pred=clf_GNB.predict(test_data_standard)\n",
    "cmap=plt.cm.Blues\n",
    "classes = range(1-4)\n",
    "cm=confusion_matrix(np.array(test_label),np.array(test_pred))\n",
    "cm = cm.astype('float') / cm.sum(axis=1)[:, np.newaxis]\n",
    "\n",
    "\n",
    "\n",
    "plt.imshow(cm, interpolation='nearest', cmap=cmap)\n",
    "plt.colorbar()\n",
    "title= 'confusion matrix with normalization'\n",
    "plt.title(title)\n",
    "\n",
    "tick_marks = np.arange(len(classes))\n",
    "plt.xticks(tick_marks, classes, rotation = 90)\n",
    "plt.yticks(tick_marks, classes)\n",
    "\n",
    "\n",
    "print ('confusion matrix with normalization')\n",
    "print (cm)\n",
    "\n",
    "np.set_printoptions(precision=2)\n",
    "\n",
    "\n",
    "\n",
    "thresh = cm.max() / 1.5\n",
    "fmt = '.2f' \n",
    "for i, j in itertools.product(range(cm.shape[0]), range(cm.shape[1])):\n",
    "    plt.text(j, i, format(cm[i, j], fmt),\n",
    "            horizontalalignment=\"center\",\n",
    "            color=\"white\" if cm[i, j] > thresh else \"black\")\n",
    "\n",
    "plt.tight_layout()\n",
    "plt.ylabel('True label')\n",
    "plt.xlabel('Predicted label')\n",
    "plt.show()\n"
   ]
  },
  {
   "cell_type": "code",
   "execution_count": 33,
   "metadata": {},
   "outputs": [
    {
     "name": "stdout",
     "output_type": "stream",
     "text": [
      "Total # of mislabeled points: 11 out of 400 \n",
      "***** Training Accuracy with SVM: 0.9875\n",
      "***** Test Accuracy with SVM: 0.9725\n"
     ]
    }
   ],
   "source": [
    "clf_svm=SVC().fit(train_data_standard, train_label) \n",
    "svm_pred = clf_svm.fit(train_data_standard, train_label).predict(test_data_standard)\n",
    "\n",
    "print(\"Total # of mislabeled points: %d out of %d \" % ( (test_label != svm_pred).sum(), test_data_standard.shape[0]))\n",
    "\n",
    "print('***** Training Accuracy with SVM:', accuracy_score(train_label,clf_svm.predict(train_data_standard)))\n",
    "print('***** Test Accuracy with SVM:', accuracy_score(test_label,clf_svm.predict(test_data_standard)))"
   ]
  },
  {
   "cell_type": "code",
   "execution_count": 34,
   "metadata": {},
   "outputs": [
    {
     "name": "stdout",
     "output_type": "stream",
     "text": [
      "              precision    recall  f1-score   support\n",
      "\n",
      "           1       0.99      0.99      0.99       100\n",
      "           2       0.97      0.95      0.96       100\n",
      "           3       0.94      0.95      0.95       100\n",
      "           4       0.99      1.00      1.00       100\n",
      "\n",
      "    accuracy                           0.97       400\n",
      "   macro avg       0.97      0.97      0.97       400\n",
      "weighted avg       0.97      0.97      0.97       400\n",
      "\n"
     ]
    }
   ],
   "source": [
    "print(classification_report(test_label, svm_pred))"
   ]
  },
  {
   "cell_type": "code",
   "execution_count": 35,
   "metadata": {},
   "outputs": [
    {
     "name": "stdout",
     "output_type": "stream",
     "text": [
      "confusion matrix without normalization\n",
      "[[ 99   0   1   0]\n",
      " [  0  95   5   0]\n",
      " [  1   3  95   1]\n",
      " [  0   0   0 100]]\n"
     ]
    },
    {
     "data": {
      "image/png": "[encoded data removed]",
      "text/plain": [
       "<Figure size 432x288 with 2 Axes>"
      ]
     },
     "metadata": {
      "needs_background": "light"
     },
     "output_type": "display_data"
    }
   ],
   "source": [
    "test_pred=clf_svm.predict(test_data_standard)\n",
    "#print(confusion_matrix(test_label, pred))\n",
    "plt.rcParams['figure.figsize'] = [6,4]\n",
    "\n",
    "\n",
    "classes=range(1-4)\n",
    "\n",
    "\n",
    "cmap=plt.cm.Blues\n",
    "cm=confusion_matrix(np.array(test_label),np.array(test_pred))\n",
    "\n",
    "plt.imshow(cm, interpolation='nearest', cmap=cmap)\n",
    "plt.colorbar()\n",
    "title= 'confusion matrix without normalization'\n",
    "\n",
    "plt.title(title)\n",
    "\n",
    "tick_marks = np.arange(len(classes))\n",
    "plt.xticks(tick_marks, classes, rotation = 45)\n",
    "plt.yticks(tick_marks, classes)\n",
    "\n",
    "print ('confusion matrix without normalization')\n",
    "print (cm)\n",
    "\n",
    "thresh = cm.max() / 2\n",
    "fmt = 'd'\n",
    "for i, j in itertools.product(range(cm.shape[0]), range(cm.shape[1])):\n",
    "    plt.text(j, i, format(cm[i, j], fmt),\n",
    "            horizontalalignment=\"center\",\n",
    "            color=\"white\" if cm[i, j] > thresh else \"black\")\n",
    "\n",
    "plt.tight_layout()\n",
    "plt.ylabel('True label')\n",
    "plt.xlabel('Predicted label')\n",
    "plt.show()\n"
   ]
  },
  {
   "cell_type": "code",
   "execution_count": 36,
   "metadata": {},
   "outputs": [
    {
     "name": "stdout",
     "output_type": "stream",
     "text": [
      "confusion matrix with normalization\n",
      "[[0.99 0.   0.01 0.  ]\n",
      " [0.   0.95 0.05 0.  ]\n",
      " [0.01 0.03 0.95 0.01]\n",
      " [0.   0.   0.   1.  ]]\n"
     ]
    },
    {
     "data": {
      "image/png": "[encoded data removed]",
      "text/plain": [
       "<Figure size 432x288 with 2 Axes>"
      ]
     },
     "metadata": {
      "needs_background": "light"
     },
     "output_type": "display_data"
    }
   ],
   "source": [
    "#normalized\n",
    "plt.rcParams['figure.figsize'] = [6,4]\n",
    "\n",
    "#plt.figure(figsize=(10, 6))\n",
    "test_pred=clf_svm.predict(test_data_standard)\n",
    "cmap=plt.cm.Blues\n",
    "classes=range(1-4)\n",
    "\n",
    "\n",
    "cm=confusion_matrix(np.array(test_label),np.array(test_pred))\n",
    "cm = cm.astype('float') / cm.sum(axis=1)[:, np.newaxis]\n",
    "\n",
    "\n",
    "\n",
    "plt.imshow(cm, interpolation='nearest', cmap=cmap)\n",
    "plt.colorbar()\n",
    "title= 'confusion matrix with normalization'\n",
    "plt.title(title)\n",
    "\n",
    "tick_marks = np.arange(len(classes))\n",
    "plt.xticks(tick_marks, classes, rotation = 90)\n",
    "plt.yticks(tick_marks, classes)\n",
    "\n",
    "\n",
    "print ('confusion matrix with normalization')\n",
    "print (cm)\n",
    "\n",
    "np.set_printoptions(precision=2)\n",
    "\n",
    "\n",
    "\n",
    "thresh = cm.max() / 1.5\n",
    "fmt = '.2f' \n",
    "for i, j in itertools.product(range(cm.shape[0]), range(cm.shape[1])):\n",
    "    plt.text(j, i, format(cm[i, j], fmt),\n",
    "            horizontalalignment=\"center\",\n",
    "            color=\"white\" if cm[i, j] > thresh else \"black\")\n",
    "\n",
    "plt.tight_layout()\n",
    "plt.ylabel('True label')\n",
    "plt.xlabel('Predicted label')\n",
    "plt.show()\n"
   ]
  },
  {
   "cell_type": "code",
   "execution_count": 37,
   "metadata": {},
   "outputs": [
    {
     "data": {
      "text/plain": [
       "{'C': 5, 'gamma': 1}"
      ]
     },
     "execution_count": 37,
     "metadata": {},
     "output_type": "execute_result"
    }
   ],
   "source": [
    "C = [1, 5, 10, 50, 100, 1000]\n",
    "gamma=[0, 1, 10, 20]\n",
    "\n",
    "param_grid = {'C': C,\n",
    "             'gamma': gamma}\n",
    "             \n",
    "\n",
    "svm_search = GridSearchCV(SVC(),param_grid,cv=3, return_train_score=True) # cv=3, return_train_score=True\n",
    "\n",
    "svm_search.fit(train_data_standard, train_label)\n",
    "svm_search.best_params_"
   ]
  },
  {
   "cell_type": "code",
   "execution_count": 38,
   "metadata": {},
   "outputs": [
    {
     "name": "stdout",
     "output_type": "stream",
     "text": [
      "Total # of mislabeled points: 11 out of 400\n",
      "***** Training Accuracy with SVM : 0.999375\n",
      "***** Test Accuracy with SVM : 0.9725\n"
     ]
    }
   ],
   "source": [
    "clf_svm_C=SVC(C=5, gamma=1).fit(train_data_standard, train_label) \n",
    "svm_C_pred = clf_svm_C.fit(train_data_standard, train_label).predict(test_data_standard)\n",
    "\n",
    "print(\"Total # of mislabeled points: %d out of %d\" % ( (test_label != svm_C_pred).sum(), test_data_standard.shape[0]))\n",
    "print('***** Training Accuracy with SVM :', accuracy_score(train_label,clf_svm_C.predict(train_data_standard)))\n",
    "print('***** Test Accuracy with SVM :', accuracy_score(test_label,clf_svm_C.predict(test_data_standard)))"
   ]
  },
  {
   "cell_type": "code",
   "execution_count": 39,
   "metadata": {},
   "outputs": [
    {
     "name": "stdout",
     "output_type": "stream",
     "text": [
      "              precision    recall  f1-score   support\n",
      "\n",
      "           1       1.00      0.98      0.99       100\n",
      "           2       0.94      0.97      0.96       100\n",
      "           3       0.95      0.96      0.96       100\n",
      "           4       1.00      0.98      0.99       100\n",
      "\n",
      "    accuracy                           0.97       400\n",
      "   macro avg       0.97      0.97      0.97       400\n",
      "weighted avg       0.97      0.97      0.97       400\n",
      "\n"
     ]
    }
   ],
   "source": [
    "print(classification_report(test_label, svm_C_pred))"
   ]
  },
  {
   "cell_type": "code",
   "execution_count": 40,
   "metadata": {},
   "outputs": [
    {
     "name": "stdout",
     "output_type": "stream",
     "text": [
      "confusion matrix without normalization\n",
      "[[98  1  1  0]\n",
      " [ 0 97  3  0]\n",
      " [ 0  4 96  0]\n",
      " [ 0  1  1 98]]\n"
     ]
    },
    {
     "data": {
      "image/png": "[encoded data removed]",
      "text/plain": [
       "<Figure size 432x288 with 2 Axes>"
      ]
     },
     "metadata": {
      "needs_background": "light"
     },
     "output_type": "display_data"
    }
   ],
   "source": [
    "test_pred=clf_svm_C.predict(test_data_standard)\n",
    "#print(confusion_matrix(test_label, pred))\n",
    "plt.rcParams['figure.figsize'] = [6,4]\n",
    "\n",
    "\n",
    "classes=range(1-4)\n",
    "\n",
    "\n",
    "\n",
    "\n",
    "cmap=plt.cm.Blues\n",
    "cm=confusion_matrix(np.array(test_label),np.array(test_pred))\n",
    "\n",
    "plt.imshow(cm, interpolation='nearest', cmap=cmap)\n",
    "plt.colorbar()\n",
    "title= 'confusion matrix without normalization'\n",
    "\n",
    "plt.title(title)\n",
    "\n",
    "tick_marks = np.arange(len(classes))\n",
    "plt.xticks(tick_marks, classes, rotation = 45)\n",
    "plt.yticks(tick_marks, classes)\n",
    "\n",
    "print ('confusion matrix without normalization')\n",
    "print (cm)\n",
    "\n",
    "thresh = cm.max() / 2\n",
    "fmt = 'd'\n",
    "for i, j in itertools.product(range(cm.shape[0]), range(cm.shape[1])):\n",
    "    plt.text(j, i, format(cm[i, j], fmt),\n",
    "            horizontalalignment=\"center\",\n",
    "            color=\"white\" if cm[i, j] > thresh else \"black\")\n",
    "\n",
    "plt.tight_layout()\n",
    "plt.ylabel('True label')\n",
    "plt.xlabel('Predicted label')\n",
    "plt.show()\n",
    "\n"
   ]
  },
  {
   "cell_type": "code",
   "execution_count": 41,
   "metadata": {},
   "outputs": [
    {
     "name": "stdout",
     "output_type": "stream",
     "text": [
      "confusion matrix with normalization\n",
      "[[0.98 0.01 0.01 0.  ]\n",
      " [0.   0.97 0.03 0.  ]\n",
      " [0.   0.04 0.96 0.  ]\n",
      " [0.   0.01 0.01 0.98]]\n"
     ]
    },
    {
     "data": {
      "image/png": "[encoded data removed]",
      "text/plain": [
       "<Figure size 432x288 with 2 Axes>"
      ]
     },
     "metadata": {
      "needs_background": "light"
     },
     "output_type": "display_data"
    }
   ],
   "source": [
    "#normalized\n",
    "plt.rcParams['figure.figsize'] = [6,4]\n",
    "\n",
    "#plt.figure(figsize=(10, 6))\n",
    "test_pred=clf_svm_C.predict(test_data_standard)\n",
    "cmap=plt.cm.Blues\n",
    "classes=range(1-4)\n",
    "\n",
    "\n",
    "cm=confusion_matrix(np.array(test_label),np.array(test_pred))\n",
    "cm = cm.astype('float') / cm.sum(axis=1)[:, np.newaxis]\n",
    "\n",
    "\n",
    "\n",
    "plt.imshow(cm, interpolation='nearest', cmap=cmap)\n",
    "plt.colorbar()\n",
    "title= 'confusion matrix with normalization'\n",
    "plt.title(title)\n",
    "\n",
    "tick_marks = np.arange(len(classes))\n",
    "plt.xticks(tick_marks, classes, rotation = 90)\n",
    "plt.yticks(tick_marks, classes)\n",
    "\n",
    "\n",
    "print ('confusion matrix with normalization')\n",
    "print (cm)\n",
    "\n",
    "np.set_printoptions(precision=2)\n",
    "\n",
    "\n",
    "\n",
    "thresh = cm.max() / 1.5\n",
    "fmt = '.2f' \n",
    "for i, j in itertools.product(range(cm.shape[0]), range(cm.shape[1])):\n",
    "    plt.text(j, i, format(cm[i, j], fmt),\n",
    "            horizontalalignment=\"center\",\n",
    "            color=\"white\" if cm[i, j] > thresh else \"black\")\n",
    "\n",
    "plt.tight_layout()\n",
    "plt.ylabel('True label')\n",
    "plt.xlabel('Predicted label')\n",
    "plt.show()\n",
    "\n",
    "\n"
   ]
  },
  {
   "cell_type": "code",
   "execution_count": 42,
   "metadata": {},
   "outputs": [],
   "source": [
    "linearSVM_model=LinearSVC(C=5,max_iter=10000, tol=1e-3, dual=False)\n",
    "clf_linearSVM=linearSVM_model.fit(train_data_standard, train_label)"
   ]
  },
  {
   "cell_type": "code",
   "execution_count": 43,
   "metadata": {},
   "outputs": [
    {
     "name": "stdout",
     "output_type": "stream",
     "text": [
      "Total # of mislabeled points: 12 out of 400\n",
      "***** Training Accuracy with linearSVM: 0.978125\n",
      "***** Test Accuracy with linearSVM: 0.97\n"
     ]
    }
   ],
   "source": [
    "linearSVM_pred= linearSVM_model.fit(train_data_standard, train_label).predict(test_data_standard)\n",
    "\n",
    "print(\"Total # of mislabeled points: %d out of %d\" % (((test_label != linearSVM_pred).sum()),test_data_standard.shape[0]))\n",
    "\n",
    "print('***** Training Accuracy with linearSVM:', accuracy_score(train_label,linearSVM_model.predict(train_data_standard)))\n",
    "print('***** Test Accuracy with linearSVM:', accuracy_score(test_label,linearSVM_model.predict(test_data_standard)))"
   ]
  },
  {
   "cell_type": "code",
   "execution_count": 44,
   "metadata": {},
   "outputs": [
    {
     "name": "stdout",
     "output_type": "stream",
     "text": [
      "              precision    recall  f1-score   support\n",
      "\n",
      "           1       1.00      0.99      0.99       100\n",
      "           2       0.93      0.96      0.95       100\n",
      "           3       0.95      0.93      0.94       100\n",
      "           4       1.00      1.00      1.00       100\n",
      "\n",
      "    accuracy                           0.97       400\n",
      "   macro avg       0.97      0.97      0.97       400\n",
      "weighted avg       0.97      0.97      0.97       400\n",
      "\n"
     ]
    }
   ],
   "source": [
    "print(classification_report(test_label, linearSVM_pred))"
   ]
  },
  {
   "cell_type": "code",
   "execution_count": 45,
   "metadata": {},
   "outputs": [
    {
     "name": "stdout",
     "output_type": "stream",
     "text": [
      "confusion matrix without normalization\n",
      "[[ 99   0   1   0]\n",
      " [  0  96   4   0]\n",
      " [  0   7  93   0]\n",
      " [  0   0   0 100]]\n"
     ]
    },
    {
     "data": {
      "image/png": "[encoded data removed]",
      "text/plain": [
       "<Figure size 432x288 with 2 Axes>"
      ]
     },
     "metadata": {
      "needs_background": "light"
     },
     "output_type": "display_data"
    }
   ],
   "source": [
    "test_pred=clf_linearSVM.predict(test_data_standard)\n",
    "#print(confusion_matrix(test_label, pred))\n",
    "plt.rcParams['figure.figsize'] = [6,4]\n",
    "\n",
    "\n",
    "classes=range(1-4)\n",
    "\n",
    "\n",
    "\n",
    "\n",
    "cmap=plt.cm.Blues\n",
    "cm=confusion_matrix(np.array(test_label),np.array(test_pred))\n",
    "\n",
    "plt.imshow(cm, interpolation='nearest', cmap=cmap)\n",
    "plt.colorbar()\n",
    "title= 'confusion matrix without normalization'\n",
    "\n",
    "plt.title(title)\n",
    "\n",
    "tick_marks = np.arange(len(classes))\n",
    "plt.xticks(tick_marks, classes, rotation = 45)\n",
    "plt.yticks(tick_marks, classes)\n",
    "\n",
    "print ('confusion matrix without normalization')\n",
    "print (cm)\n",
    "\n",
    "thresh = cm.max() / 2\n",
    "fmt = 'd'\n",
    "for i, j in itertools.product(range(cm.shape[0]), range(cm.shape[1])):\n",
    "    plt.text(j, i, format(cm[i, j], fmt),\n",
    "            horizontalalignment=\"center\",\n",
    "            color=\"white\" if cm[i, j] > thresh else \"black\")\n",
    "\n",
    "plt.tight_layout()\n",
    "plt.ylabel('True label')\n",
    "plt.xlabel('Predicted label')\n",
    "plt.show()\n"
   ]
  },
  {
   "cell_type": "code",
   "execution_count": 46,
   "metadata": {},
   "outputs": [
    {
     "name": "stdout",
     "output_type": "stream",
     "text": [
      "confusion matrix with normalization\n",
      "[[0.99 0.   0.01 0.  ]\n",
      " [0.   0.96 0.04 0.  ]\n",
      " [0.   0.07 0.93 0.  ]\n",
      " [0.   0.   0.   1.  ]]\n"
     ]
    },
    {
     "data": {
      "image/png": "[encoded data removed]",
      "text/plain": [
       "<Figure size 432x288 with 2 Axes>"
      ]
     },
     "metadata": {
      "needs_background": "light"
     },
     "output_type": "display_data"
    }
   ],
   "source": [
    "#normalized\n",
    "plt.rcParams['figure.figsize'] = [6,4]\n",
    "\n",
    "#plt.figure(figsize=(10, 6))\n",
    "test_pred=clf_linearSVM.predict(test_data_standard)\n",
    "cmap=plt.cm.Blues\n",
    "classes=range(1-4)\n",
    "\n",
    "\n",
    "cm=confusion_matrix(np.array(test_label),np.array(test_pred))\n",
    "cm = cm.astype('float') / cm.sum(axis=1)[:, np.newaxis]\n",
    "\n",
    "\n",
    "\n",
    "plt.imshow(cm, interpolation='nearest', cmap=cmap)\n",
    "plt.colorbar()\n",
    "title= 'confusion matrix with normalization'\n",
    "plt.title(title)\n",
    "\n",
    "tick_marks = np.arange(len(classes))\n",
    "plt.xticks(tick_marks, classes, rotation = 90)\n",
    "plt.yticks(tick_marks, classes)\n",
    "\n",
    "\n",
    "print ('confusion matrix with normalization')\n",
    "print (cm)\n",
    "\n",
    "np.set_printoptions(precision=2)\n",
    "\n",
    "\n",
    "\n",
    "thresh = cm.max() / 1.5\n",
    "fmt = '.2f' \n",
    "for i, j in itertools.product(range(cm.shape[0]), range(cm.shape[1])):\n",
    "    plt.text(j, i, format(cm[i, j], fmt),\n",
    "            horizontalalignment=\"center\",\n",
    "            color=\"white\" if cm[i, j] > thresh else \"black\")\n",
    "\n",
    "plt.tight_layout()\n",
    "plt.ylabel('True label')\n",
    "plt.xlabel('Predicted label')\n",
    "plt.show()\n",
    "\n",
    "\n",
    "\n"
   ]
  },
  {
   "cell_type": "code",
   "execution_count": 47,
   "metadata": {},
   "outputs": [],
   "source": [
    "LDA_model=LinearDiscriminantAnalysis(solver='svd')\n",
    "clf_LDA_model=LDA_model.fit(train_data_standard, train_label)"
   ]
  },
  {
   "cell_type": "code",
   "execution_count": 48,
   "metadata": {},
   "outputs": [
    {
     "name": "stdout",
     "output_type": "stream",
     "text": [
      "Cross_validate Score:  {'fit_time': array([0.01, 0.  , 0.01]), 'score_time': array([0., 0., 0.]), 'estimator': (LinearDiscriminantAnalysis(n_components=None, priors=None, shrinkage=None,\n",
      "                           solver='svd', store_covariance=False, tol=0.0001), LinearDiscriminantAnalysis(n_components=None, priors=None, shrinkage=None,\n",
      "                           solver='svd', store_covariance=False, tol=0.0001), LinearDiscriminantAnalysis(n_components=None, priors=None, shrinkage=None,\n",
      "                           solver='svd', store_covariance=False, tol=0.0001)), 'test_score': array([0.97, 0.98, 0.97])}\n",
      "Total # of mislabeled points: 12 out of 400\n",
      "***** Training Accuracy with LDA: 0.9725\n",
      "***** Test Accuracy with LDA: 0.97\n"
     ]
    }
   ],
   "source": [
    "LDA_pred = LDA_model.fit(train_data_standard, train_label).predict(test_data_standard)\n",
    "\n",
    "scores = cross_validate(LDA_model, train_data_standard, train_label,scoring='precision_macro', cv=3,return_estimator=True) \n",
    "print('Cross_validate Score: ',scores)\n",
    "\n",
    "print(\"Total # of mislabeled points: %d out of %d\" % ( (test_label != LDA_pred).sum(), test_data_standard.shape[0]))\n",
    "\n",
    "print('***** Training Accuracy with LDA:', accuracy_score(train_label,LDA_model.predict(train_data_standard)))\n",
    "print('***** Test Accuracy with LDA:', accuracy_score(test_label,LDA_model.predict(test_data_standard)))\n"
   ]
  },
  {
   "cell_type": "code",
   "execution_count": 49,
   "metadata": {},
   "outputs": [
    {
     "name": "stdout",
     "output_type": "stream",
     "text": [
      "              precision    recall  f1-score   support\n",
      "\n",
      "           1       1.00      0.99      0.99       100\n",
      "           2       1.00      0.89      0.94       100\n",
      "           3       0.89      1.00      0.94       100\n",
      "           4       1.00      1.00      1.00       100\n",
      "\n",
      "    accuracy                           0.97       400\n",
      "   macro avg       0.97      0.97      0.97       400\n",
      "weighted avg       0.97      0.97      0.97       400\n",
      "\n"
     ]
    }
   ],
   "source": [
    "print(classification_report(test_label, LDA_pred))"
   ]
  },
  {
   "cell_type": "code",
   "execution_count": 50,
   "metadata": {},
   "outputs": [
    {
     "name": "stdout",
     "output_type": "stream",
     "text": [
      "confusion matrix without normalization\n",
      "[[ 99   0   1   0]\n",
      " [  0  89  11   0]\n",
      " [  0   0 100   0]\n",
      " [  0   0   0 100]]\n"
     ]
    },
    {
     "data": {
      "image/png": "[encoded data removed]",
      "text/plain": [
       "<Figure size 432x288 with 2 Axes>"
      ]
     },
     "metadata": {
      "needs_background": "light"
     },
     "output_type": "display_data"
    }
   ],
   "source": [
    "test_pred=clf_LDA_model.predict(test_data_standard)\n",
    "#print(confusion_matrix(test_label, pred))\n",
    "plt.rcParams['figure.figsize'] = [6,4]\n",
    "\n",
    "\n",
    "classes=range(1-4)\n",
    "\n",
    "\n",
    "\n",
    "\n",
    "cmap=plt.cm.Blues\n",
    "cm=confusion_matrix(np.array(test_label),np.array(test_pred))\n",
    "\n",
    "plt.imshow(cm, interpolation='nearest', cmap=cmap)\n",
    "plt.colorbar()\n",
    "title= 'confusion matrix without normalization'\n",
    "\n",
    "plt.title(title)\n",
    "\n",
    "tick_marks = np.arange(len(classes))\n",
    "plt.xticks(tick_marks, classes, rotation = 45)\n",
    "plt.yticks(tick_marks, classes)\n",
    "\n",
    "print ('confusion matrix without normalization')\n",
    "print (cm)\n",
    "\n",
    "thresh = cm.max() / 2\n",
    "fmt = 'd'\n",
    "for i, j in itertools.product(range(cm.shape[0]), range(cm.shape[1])):\n",
    "    plt.text(j, i, format(cm[i, j], fmt),\n",
    "            horizontalalignment=\"center\",\n",
    "            color=\"white\" if cm[i, j] > thresh else \"black\")\n",
    "\n",
    "plt.tight_layout()\n",
    "plt.ylabel('True label')\n",
    "plt.xlabel('Predicted label')\n",
    "plt.show()\n"
   ]
  },
  {
   "cell_type": "code",
   "execution_count": 51,
   "metadata": {},
   "outputs": [
    {
     "name": "stdout",
     "output_type": "stream",
     "text": [
      "confusion matrix with normalization\n",
      "[[0.99 0.   0.01 0.  ]\n",
      " [0.   0.89 0.11 0.  ]\n",
      " [0.   0.   1.   0.  ]\n",
      " [0.   0.   0.   1.  ]]\n"
     ]
    },
    {
     "data": {
      "image/png": "[encoded data removed]",
      "text/plain": [
       "<Figure size 432x288 with 2 Axes>"
      ]
     },
     "metadata": {
      "needs_background": "light"
     },
     "output_type": "display_data"
    }
   ],
   "source": [
    "#normalized\n",
    "plt.rcParams['figure.figsize'] = [6,4]\n",
    "\n",
    "#plt.figure(figsize=(10, 6))\n",
    "test_pred=clf_LDA_model.predict(test_data_standard)\n",
    "cmap=plt.cm.Blues\n",
    "classes=range(1-4)\n",
    "\n",
    "\n",
    "cm=confusion_matrix(np.array(test_label),np.array(test_pred))\n",
    "cm = cm.astype('float') / cm.sum(axis=1)[:, np.newaxis]\n",
    "\n",
    "\n",
    "\n",
    "plt.imshow(cm, interpolation='nearest', cmap=cmap)\n",
    "plt.colorbar()\n",
    "title= 'confusion matrix with normalization'\n",
    "plt.title(title)\n",
    "\n",
    "tick_marks = np.arange(len(classes))\n",
    "plt.xticks(tick_marks, classes, rotation = 90)\n",
    "plt.yticks(tick_marks, classes)\n",
    "\n",
    "\n",
    "print ('confusion matrix with normalization')\n",
    "print (cm)\n",
    "\n",
    "np.set_printoptions(precision=2)\n",
    "\n",
    "\n",
    "\n",
    "thresh = cm.max() / 1.5\n",
    "fmt = '.2f' \n",
    "for i, j in itertools.product(range(cm.shape[0]), range(cm.shape[1])):\n",
    "    plt.text(j, i, format(cm[i, j], fmt),\n",
    "            horizontalalignment=\"center\",\n",
    "            color=\"white\" if cm[i, j] > thresh else \"black\")\n",
    "\n",
    "plt.tight_layout()\n",
    "plt.ylabel('True label')\n",
    "plt.xlabel('Predicted label')\n",
    "plt.show()\n"
   ]
  },
  {
   "cell_type": "code",
   "execution_count": 52,
   "metadata": {},
   "outputs": [],
   "source": [
    "# check for dimension reduction"
   ]
  },
  {
   "cell_type": "code",
   "execution_count": 53,
   "metadata": {},
   "outputs": [
    {
     "data": {
      "text/plain": [
       "LinearDiscriminantAnalysis(n_components=3, priors=None, shrinkage=None,\n",
       "                           solver='svd', store_covariance=False, tol=0.0001)"
      ]
     },
     "execution_count": 53,
     "metadata": {},
     "output_type": "execute_result"
    }
   ],
   "source": [
    "LDA_model=LinearDiscriminantAnalysis(solver='svd', n_components=3)\n",
    "LDA_model.fit(train_data_standard, train_label)    "
   ]
  },
  {
   "cell_type": "code",
   "execution_count": 54,
   "metadata": {},
   "outputs": [
    {
     "name": "stdout",
     "output_type": "stream",
     "text": [
      "Total # of mislabeled points: 12 out of 400\n",
      "***** Training Accuracy with LDA: 0.9725\n",
      "***** Test Accuracy with LDA: 0.97\n"
     ]
    }
   ],
   "source": [
    "LDA_pred = LDA_model.fit(train_data_standard, train_label).predict(test_data_standard)\n",
    "\n",
    "print(\"Total # of mislabeled points: %d out of %d\" % ((test_label != LDA_pred).sum(), test_data_standard.shape[0]))\n",
    "\n",
    "print('***** Training Accuracy with LDA:', accuracy_score(train_label,LDA_model.predict(train_data_standard)))\n",
    "print('***** Test Accuracy with LDA:', accuracy_score(test_label,LDA_model.predict(test_data_standard)))"
   ]
  },
  {
   "cell_type": "code",
   "execution_count": 55,
   "metadata": {},
   "outputs": [],
   "source": [
    "QDA_model=QuadraticDiscriminantAnalysis()\n",
    "clf_QDA=QDA_model.fit(train_data_standard, train_label)"
   ]
  },
  {
   "cell_type": "code",
   "execution_count": 56,
   "metadata": {},
   "outputs": [
    {
     "name": "stdout",
     "output_type": "stream",
     "text": [
      "Total # of mislabeled points: 6 out of 400\n",
      "***** Training Accuracy with QDA: 0.980625\n",
      "***** Test Accuracy with QDA: 0.985\n"
     ]
    }
   ],
   "source": [
    "QDA_pred= QDA_model.fit(train_data_standard, train_label).predict(test_data_standard)\n",
    "\n",
    "print(\"Total # of mislabeled points: %d out of %d\" % ( (test_label != QDA_pred).sum(), test_data_standard.shape[0]))\n",
    "\n",
    "print('***** Training Accuracy with QDA:', accuracy_score(train_label,QDA_model.predict(train_data_standard)))\n",
    "print('***** Test Accuracy with QDA:', accuracy_score(test_label,QDA_model.predict(test_data_standard)))"
   ]
  },
  {
   "cell_type": "code",
   "execution_count": 57,
   "metadata": {},
   "outputs": [
    {
     "name": "stdout",
     "output_type": "stream",
     "text": [
      "Cross_validate Score:  {'fit_time': array([0., 0., 0.]), 'score_time': array([0., 0., 0.]), 'estimator': (QuadraticDiscriminantAnalysis(priors=None, reg_param=0.0,\n",
      "                              store_covariance=False, tol=0.0001), QuadraticDiscriminantAnalysis(priors=None, reg_param=0.0,\n",
      "                              store_covariance=False, tol=0.0001), QuadraticDiscriminantAnalysis(priors=None, reg_param=0.0,\n",
      "                              store_covariance=False, tol=0.0001)), 'test_score': array([0.98, 0.99, 0.98])}\n"
     ]
    }
   ],
   "source": [
    "scores = cross_validate(QDA_model, train_data_standard, train_label,scoring='precision_macro', cv=3,return_estimator=True) \n",
    "print('Cross_validate Score: ',scores)"
   ]
  },
  {
   "cell_type": "code",
   "execution_count": 58,
   "metadata": {},
   "outputs": [
    {
     "name": "stdout",
     "output_type": "stream",
     "text": [
      "              precision    recall  f1-score   support\n",
      "\n",
      "           1       1.00      0.99      0.99       100\n",
      "           2       0.99      0.97      0.98       100\n",
      "           3       0.97      0.98      0.98       100\n",
      "           4       0.98      1.00      0.99       100\n",
      "\n",
      "    accuracy                           0.98       400\n",
      "   macro avg       0.99      0.98      0.98       400\n",
      "weighted avg       0.99      0.98      0.98       400\n",
      "\n"
     ]
    }
   ],
   "source": [
    "print(classification_report(test_label, QDA_pred))"
   ]
  },
  {
   "cell_type": "code",
   "execution_count": 59,
   "metadata": {},
   "outputs": [
    {
     "name": "stdout",
     "output_type": "stream",
     "text": [
      "confusion matrix without normalization\n",
      "[[ 99   0   0   1]\n",
      " [  0  97   3   0]\n",
      " [  0   1  98   1]\n",
      " [  0   0   0 100]]\n"
     ]
    },
    {
     "data": {
      "image/png": "[encoded data removed]",
      "text/plain": [
       "<Figure size 432x288 with 2 Axes>"
      ]
     },
     "metadata": {
      "needs_background": "light"
     },
     "output_type": "display_data"
    }
   ],
   "source": [
    "test_pred=clf_QDA.predict(test_data_standard)\n",
    "#print(confusion_matrix(test_label, pred))\n",
    "plt.rcParams['figure.figsize'] = [6,4]\n",
    "\n",
    "\n",
    "classes=range(1-4)\n",
    "\n",
    "\n",
    "\n",
    "\n",
    "cmap=plt.cm.Blues\n",
    "cm=confusion_matrix(np.array(test_label),np.array(test_pred))\n",
    "\n",
    "plt.imshow(cm, interpolation='nearest', cmap=cmap)\n",
    "plt.colorbar()\n",
    "title= 'confusion matrix without normalization'\n",
    "\n",
    "plt.title(title)\n",
    "\n",
    "tick_marks = np.arange(len(classes))\n",
    "plt.xticks(tick_marks, classes, rotation = 45)\n",
    "plt.yticks(tick_marks, classes)\n",
    "\n",
    "print ('confusion matrix without normalization')\n",
    "print (cm)\n",
    "\n",
    "thresh = cm.max() / 2\n",
    "fmt = 'd'\n",
    "for i, j in itertools.product(range(cm.shape[0]), range(cm.shape[1])):\n",
    "    plt.text(j, i, format(cm[i, j], fmt),\n",
    "            horizontalalignment=\"center\",\n",
    "            color=\"white\" if cm[i, j] > thresh else \"black\")\n",
    "\n",
    "plt.tight_layout()\n",
    "plt.ylabel('True label')\n",
    "plt.xlabel('Predicted label')\n",
    "plt.show()"
   ]
  },
  {
   "cell_type": "code",
   "execution_count": 60,
   "metadata": {},
   "outputs": [
    {
     "name": "stdout",
     "output_type": "stream",
     "text": [
      "confusion matrix with normalization\n",
      "[[0.99 0.   0.   0.01]\n",
      " [0.   0.97 0.03 0.  ]\n",
      " [0.   0.01 0.98 0.01]\n",
      " [0.   0.   0.   1.  ]]\n"
     ]
    },
    {
     "data": {
      "image/png": "[encoded data removed]",
      "text/plain": [
       "<Figure size 432x288 with 2 Axes>"
      ]
     },
     "metadata": {
      "needs_background": "light"
     },
     "output_type": "display_data"
    }
   ],
   "source": [
    "#normalized\n",
    "plt.rcParams['figure.figsize'] = [6,4]\n",
    "\n",
    "#plt.figure(figsize=(10, 6))\n",
    "test_pred=clf_QDA.predict(test_data_standard)\n",
    "cmap=plt.cm.Blues\n",
    "classes=range(1-4)\n",
    "\n",
    "\n",
    "cm=confusion_matrix(np.array(test_label),np.array(test_pred))\n",
    "cm = cm.astype('float') / cm.sum(axis=1)[:, np.newaxis]\n",
    "\n",
    "\n",
    "\n",
    "plt.imshow(cm, interpolation='nearest', cmap=cmap)\n",
    "plt.colorbar()\n",
    "title= 'confusion matrix with normalization'\n",
    "plt.title(title)\n",
    "\n",
    "tick_marks = np.arange(len(classes))\n",
    "plt.xticks(tick_marks, classes, rotation = 90)\n",
    "plt.yticks(tick_marks, classes)\n",
    "\n",
    "\n",
    "print ('confusion matrix with normalization')\n",
    "print (cm)\n",
    "\n",
    "np.set_printoptions(precision=2)\n",
    "\n",
    "\n",
    "\n",
    "thresh = cm.max() / 1.5\n",
    "fmt = '.2f' \n",
    "for i, j in itertools.product(range(cm.shape[0]), range(cm.shape[1])):\n",
    "    plt.text(j, i, format(cm[i, j], fmt),\n",
    "            horizontalalignment=\"center\",\n",
    "            color=\"white\" if cm[i, j] > thresh else \"black\")\n",
    "\n",
    "plt.tight_layout()\n",
    "plt.ylabel('True label')\n",
    "plt.xlabel('Predicted label')\n",
    "plt.show()\n",
    "\n",
    "\n",
    "\n"
   ]
  },
  {
   "cell_type": "code",
   "execution_count": 61,
   "metadata": {},
   "outputs": [],
   "source": [
    "SGD_model=SGDClassifier(max_iter=10000, tol=1e-3)\n",
    "clf_SGD=SGD_model.fit(train_data_standard, train_label)"
   ]
  },
  {
   "cell_type": "code",
   "execution_count": 62,
   "metadata": {},
   "outputs": [
    {
     "name": "stdout",
     "output_type": "stream",
     "text": [
      "Total # of mislabeled points: 14 out of 400\n",
      "***** Training Accuracy with SGD: 0.98125\n",
      "***** Test Accuracy with SGD: 0.965\n"
     ]
    }
   ],
   "source": [
    "SGD_pred= SGD_model.fit(train_data_standard, train_label).predict(test_data_standard)\n",
    "\n",
    "print(\"Total # of mislabeled points: %d out of %d\" % ( (test_label != SGD_pred).sum(), test_data_standard.shape[0]))\n",
    "\n",
    "print('***** Training Accuracy with SGD:', accuracy_score(train_label,SGD_model.predict(train_data_standard)))\n",
    "print('***** Test Accuracy with SGD:', accuracy_score(test_label,SGD_model.predict(test_data_standard)))"
   ]
  },
  {
   "cell_type": "code",
   "execution_count": 63,
   "metadata": {},
   "outputs": [
    {
     "name": "stdout",
     "output_type": "stream",
     "text": [
      "Cross_validate Score:  {'fit_time': array([0.01, 0.01, 0.01]), 'score_time': array([0., 0., 0.]), 'estimator': (SGDClassifier(alpha=0.0001, average=False, class_weight=None,\n",
      "              early_stopping=False, epsilon=0.1, eta0=0.0, fit_intercept=True,\n",
      "              l1_ratio=0.15, learning_rate='optimal', loss='hinge',\n",
      "              max_iter=10000, n_iter_no_change=5, n_jobs=None, penalty='l2',\n",
      "              power_t=0.5, random_state=None, shuffle=True, tol=0.001,\n",
      "              validation_fraction=0.1, verbose=0, warm_start=False), SGDClassifier(alpha=0.0001, average=False, class_weight=None,\n",
      "              early_stopping=False, epsilon=0.1, eta0=0.0, fit_intercept=True,\n",
      "              l1_ratio=0.15, learning_rate='optimal', loss='hinge',\n",
      "              max_iter=10000, n_iter_no_change=5, n_jobs=None, penalty='l2',\n",
      "              power_t=0.5, random_state=None, shuffle=True, tol=0.001,\n",
      "              validation_fraction=0.1, verbose=0, warm_start=False), SGDClassifier(alpha=0.0001, average=False, class_weight=None,\n",
      "              early_stopping=False, epsilon=0.1, eta0=0.0, fit_intercept=True,\n",
      "              l1_ratio=0.15, learning_rate='optimal', loss='hinge',\n",
      "              max_iter=10000, n_iter_no_change=5, n_jobs=None, penalty='l2',\n",
      "              power_t=0.5, random_state=None, shuffle=True, tol=0.001,\n",
      "              validation_fraction=0.1, verbose=0, warm_start=False)), 'test_score': array([0.97, 0.97, 0.97])}\n"
     ]
    }
   ],
   "source": [
    "scores = cross_validate(SGD_model, train_data_standard, train_label,scoring='precision_macro', cv=3,return_estimator=True) \n",
    "print('Cross_validate Score: ',scores)"
   ]
  },
  {
   "cell_type": "code",
   "execution_count": 64,
   "metadata": {},
   "outputs": [
    {
     "name": "stdout",
     "output_type": "stream",
     "text": [
      "              precision    recall  f1-score   support\n",
      "\n",
      "           1       1.00      0.99      0.99       100\n",
      "           2       0.94      0.94      0.94       100\n",
      "           3       0.93      0.93      0.93       100\n",
      "           4       0.99      1.00      1.00       100\n",
      "\n",
      "    accuracy                           0.96       400\n",
      "   macro avg       0.97      0.96      0.96       400\n",
      "weighted avg       0.97      0.96      0.96       400\n",
      "\n"
     ]
    }
   ],
   "source": [
    "print(classification_report(test_label, SGD_pred))"
   ]
  },
  {
   "cell_type": "code",
   "execution_count": 65,
   "metadata": {},
   "outputs": [
    {
     "name": "stdout",
     "output_type": "stream",
     "text": [
      "confusion matrix without normalization\n",
      "[[ 99   0   1   0]\n",
      " [  0  94   6   0]\n",
      " [  0   6  93   1]\n",
      " [  0   0   0 100]]\n"
     ]
    },
    {
     "data": {
      "image/png": "[encoded data removed]",
      "text/plain": [
       "<Figure size 432x288 with 2 Axes>"
      ]
     },
     "metadata": {
      "needs_background": "light"
     },
     "output_type": "display_data"
    }
   ],
   "source": [
    "test_pred=clf_SGD.predict(test_data_standard)\n",
    "#print(confusion_matrix(test_label, pred))\n",
    "plt.rcParams['figure.figsize'] = [6,4]\n",
    "\n",
    "\n",
    "classes=range(1-4)\n",
    "\n",
    "cmap=plt.cm.Blues\n",
    "cm=confusion_matrix(np.array(test_label),np.array(test_pred))\n",
    "\n",
    "plt.imshow(cm, interpolation='nearest', cmap=cmap)\n",
    "plt.colorbar()\n",
    "title= 'confusion matrix without normalization'\n",
    "\n",
    "plt.title(title)\n",
    "\n",
    "tick_marks = np.arange(len(classes))\n",
    "plt.xticks(tick_marks, classes, rotation = 45)\n",
    "plt.yticks(tick_marks, classes)\n",
    "\n",
    "print ('confusion matrix without normalization')\n",
    "print (cm)\n",
    "\n",
    "thresh = cm.max() / 2\n",
    "fmt = 'd'\n",
    "for i, j in itertools.product(range(cm.shape[0]), range(cm.shape[1])):\n",
    "    plt.text(j, i, format(cm[i, j], fmt),\n",
    "            horizontalalignment=\"center\",\n",
    "            color=\"white\" if cm[i, j] > thresh else \"black\")\n",
    "\n",
    "plt.tight_layout()\n",
    "plt.ylabel('True label')\n",
    "plt.xlabel('Predicted label')\n",
    "plt.show()\n",
    "\n",
    "\n"
   ]
  },
  {
   "cell_type": "code",
   "execution_count": 66,
   "metadata": {},
   "outputs": [
    {
     "name": "stdout",
     "output_type": "stream",
     "text": [
      "confusion matrix with normalization\n",
      "[[0.99 0.   0.01 0.  ]\n",
      " [0.   0.94 0.06 0.  ]\n",
      " [0.   0.06 0.93 0.01]\n",
      " [0.   0.   0.   1.  ]]\n"
     ]
    },
    {
     "data": {
      "image/png": "[encoded data removed]",
      "text/plain": [
       "<Figure size 432x288 with 2 Axes>"
      ]
     },
     "metadata": {
      "needs_background": "light"
     },
     "output_type": "display_data"
    }
   ],
   "source": [
    "#normalized\n",
    "plt.rcParams['figure.figsize'] = [6,4]\n",
    "\n",
    "#plt.figure(figsize=(10, 6))\n",
    "test_pred=clf_SGD.predict(test_data_standard)\n",
    "cmap=plt.cm.Blues\n",
    "classes=range(1-4)\n",
    "\n",
    "\n",
    "cm=confusion_matrix(np.array(test_label),np.array(test_pred))\n",
    "cm = cm.astype('float') / cm.sum(axis=1)[:, np.newaxis]\n",
    "\n",
    "\n",
    "\n",
    "plt.imshow(cm, interpolation='nearest', cmap=cmap)\n",
    "plt.colorbar()\n",
    "title= 'confusion matrix with normalization'\n",
    "plt.title(title)\n",
    "\n",
    "tick_marks = np.arange(len(classes))\n",
    "plt.xticks(tick_marks, classes, rotation = 90)\n",
    "plt.yticks(tick_marks, classes)\n",
    "\n",
    "\n",
    "print ('confusion matrix with normalization')\n",
    "print (cm)\n",
    "\n",
    "np.set_printoptions(precision=2)\n",
    "\n",
    "\n",
    "\n",
    "thresh = cm.max() / 1.5\n",
    "fmt = '.2f' \n",
    "for i, j in itertools.product(range(cm.shape[0]), range(cm.shape[1])):\n",
    "    plt.text(j, i, format(cm[i, j], fmt),\n",
    "            horizontalalignment=\"center\",\n",
    "            color=\"white\" if cm[i, j] > thresh else \"black\")\n",
    "\n",
    "plt.tight_layout()\n",
    "plt.ylabel('True label')\n",
    "plt.xlabel('Predicted label')\n",
    "plt.show()\n",
    "\n",
    "\n",
    "\n"
   ]
  },
  {
   "cell_type": "code",
   "execution_count": 67,
   "metadata": {},
   "outputs": [],
   "source": [
    "KNN_model=KNeighborsClassifier(n_neighbors=3)\n",
    "clf_KNN=KNN_model.fit(train_data_standard, train_label)"
   ]
  },
  {
   "cell_type": "code",
   "execution_count": 68,
   "metadata": {},
   "outputs": [
    {
     "name": "stdout",
     "output_type": "stream",
     "text": [
      "Total # of mislabeled points: 5 out of 400\n",
      "***** Training Accuracy with KNN: 0.99125\n",
      "***** Test Accuracy with KNN: 0.9875\n"
     ]
    }
   ],
   "source": [
    "KNN_pred= KNN_model.fit(train_data_standard, train_label).predict(test_data_standard)\n",
    "\n",
    "print(\"Total # of mislabeled points: %d out of %d\" % ( (test_label != KNN_pred).sum(), test_data_standard.shape[0]))\n",
    "\n",
    "print('***** Training Accuracy with KNN:', accuracy_score(train_label,KNN_model.predict(train_data_standard)))\n",
    "print('***** Test Accuracy with KNN:', accuracy_score(test_label,KNN_model.predict(test_data_standard)))"
   ]
  },
  {
   "cell_type": "code",
   "execution_count": 69,
   "metadata": {},
   "outputs": [
    {
     "data": {
      "text/plain": [
       "{'n_neighbors': 3}"
      ]
     },
     "execution_count": 69,
     "metadata": {},
     "output_type": "execute_result"
    }
   ],
   "source": [
    "n_neighbors = [1, 2, 3, 4, 5, 6]\n",
    "\n",
    "\n",
    "param_grid = {'n_neighbors': n_neighbors}\n",
    "             \n",
    "             \n",
    "KNN_search = GridSearchCV(KNeighborsClassifier(),param_grid,cv=3, return_train_score=True) # cv=3, return_train_score=True\n",
    "\n",
    "KNN_search.fit(train_data_standard, train_label)\n",
    "KNN_search.best_params_"
   ]
  },
  {
   "cell_type": "code",
   "execution_count": 70,
   "metadata": {},
   "outputs": [
    {
     "name": "stdout",
     "output_type": "stream",
     "text": [
      "              precision    recall  f1-score   support\n",
      "\n",
      "           1       1.00      1.00      1.00       100\n",
      "           2       0.99      0.97      0.98       100\n",
      "           3       0.96      0.99      0.98       100\n",
      "           4       1.00      0.99      0.99       100\n",
      "\n",
      "    accuracy                           0.99       400\n",
      "   macro avg       0.99      0.99      0.99       400\n",
      "weighted avg       0.99      0.99      0.99       400\n",
      "\n"
     ]
    }
   ],
   "source": [
    "print(classification_report(test_label, KNN_pred))"
   ]
  },
  {
   "cell_type": "code",
   "execution_count": 71,
   "metadata": {},
   "outputs": [
    {
     "name": "stdout",
     "output_type": "stream",
     "text": [
      "confusion matrix without normalization\n",
      "[[100   0   0   0]\n",
      " [  0  97   3   0]\n",
      " [  0   1  99   0]\n",
      " [  0   0   1  99]]\n"
     ]
    },
    {
     "data": {
      "image/png": "[encoded data removed]",
      "text/plain": [
       "<Figure size 432x288 with 2 Axes>"
      ]
     },
     "metadata": {
      "needs_background": "light"
     },
     "output_type": "display_data"
    }
   ],
   "source": [
    "test_pred=clf_KNN.predict(test_data_standard)\n",
    "#print(confusion_matrix(test_label, pred))\n",
    "plt.rcParams['figure.figsize'] = [6,4]\n",
    "\n",
    "\n",
    "classes=range(1-4)\n",
    "\n",
    "\n",
    "\n",
    "\n",
    "cmap=plt.cm.Blues\n",
    "cm=confusion_matrix(np.array(test_label),np.array(test_pred))\n",
    "\n",
    "plt.imshow(cm, interpolation='nearest', cmap=cmap)\n",
    "plt.colorbar()\n",
    "title= 'confusion matrix without normalization'\n",
    "\n",
    "plt.title(title)\n",
    "\n",
    "tick_marks = np.arange(len(classes))\n",
    "plt.xticks(tick_marks, classes, rotation = 45)\n",
    "plt.yticks(tick_marks, classes)\n",
    "\n",
    "print ('confusion matrix without normalization')\n",
    "print (cm)\n",
    "\n",
    "thresh = cm.max() / 2\n",
    "fmt = 'd'\n",
    "for i, j in itertools.product(range(cm.shape[0]), range(cm.shape[1])):\n",
    "    plt.text(j, i, format(cm[i, j], fmt),\n",
    "            horizontalalignment=\"center\",\n",
    "            color=\"white\" if cm[i, j] > thresh else \"black\")\n",
    "\n",
    "plt.tight_layout()\n",
    "plt.ylabel('True label')\n",
    "plt.xlabel('Predicted label')\n",
    "plt.show()\n",
    "\n",
    "\n"
   ]
  },
  {
   "cell_type": "code",
   "execution_count": 72,
   "metadata": {},
   "outputs": [
    {
     "name": "stdout",
     "output_type": "stream",
     "text": [
      "confusion matrix with normalization\n",
      "[[1.   0.   0.   0.  ]\n",
      " [0.   0.97 0.03 0.  ]\n",
      " [0.   0.01 0.99 0.  ]\n",
      " [0.   0.   0.01 0.99]]\n"
     ]
    },
    {
     "data": {
      "image/png": "[encoded data removed]",
      "text/plain": [
       "<Figure size 432x288 with 2 Axes>"
      ]
     },
     "metadata": {
      "needs_background": "light"
     },
     "output_type": "display_data"
    }
   ],
   "source": [
    "#normalized\n",
    "plt.rcParams['figure.figsize'] = [6,4]\n",
    "\n",
    "#plt.figure(figsize=(10, 6))\n",
    "test_pred=clf_KNN.predict(test_data_standard)\n",
    "cmap=plt.cm.Blues\n",
    "classes=range(1-4)\n",
    "\n",
    "\n",
    "cm=confusion_matrix(np.array(test_label),np.array(test_pred))\n",
    "cm = cm.astype('float') / cm.sum(axis=1)[:, np.newaxis]\n",
    "\n",
    "\n",
    "\n",
    "plt.imshow(cm, interpolation='nearest', cmap=cmap)\n",
    "plt.colorbar()\n",
    "title= 'confusion matrix with normalization'\n",
    "plt.title(title)\n",
    "\n",
    "tick_marks = np.arange(len(classes))\n",
    "plt.xticks(tick_marks, classes, rotation = 90)\n",
    "plt.yticks(tick_marks, classes)\n",
    "\n",
    "\n",
    "print ('confusion matrix with normalization')\n",
    "print (cm)\n",
    "\n",
    "np.set_printoptions(precision=2)\n",
    "\n",
    "\n",
    "\n",
    "thresh = cm.max() / 1.5\n",
    "fmt = '.2f' \n",
    "for i, j in itertools.product(range(cm.shape[0]), range(cm.shape[1])):\n",
    "    plt.text(j, i, format(cm[i, j], fmt),\n",
    "            horizontalalignment=\"center\",\n",
    "            color=\"white\" if cm[i, j] > thresh else \"black\")\n",
    "\n",
    "plt.tight_layout()\n",
    "plt.ylabel('True label')\n",
    "plt.xlabel('Predicted label')\n",
    "plt.show()\n",
    "\n",
    "\n",
    "\n"
   ]
  },
  {
   "cell_type": "code",
   "execution_count": 73,
   "metadata": {},
   "outputs": [
    {
     "name": "stdout",
     "output_type": "stream",
     "text": [
      "Total # of mislabeled points: 10 out of 400\n",
      "***** Training Accuracy with RF: 1.0\n",
      "***** Test Accuracy with RF: 0.975\n"
     ]
    }
   ],
   "source": [
    "clf_RF=RandomForestClassifier(n_estimators=500,max_depth=20).fit(train_data_standard, train_label) \n",
    "RF_pred = clf_RF.fit(train_data_standard, train_label).predict(test_data_standard)\n",
    "\n",
    "print(\"Total # of mislabeled points: %d out of %d\" % ( (test_label != RF_pred).sum(), test_data_standard.shape[0]))\n",
    "print('***** Training Accuracy with RF:', accuracy_score(train_label,clf_RF.predict(train_data_standard)))\n",
    "print('***** Test Accuracy with RF:', accuracy_score(test_label,clf_RF.predict(test_data_standard)))"
   ]
  },
  {
   "cell_type": "code",
   "execution_count": 74,
   "metadata": {},
   "outputs": [
    {
     "data": {
      "text/plain": [
       "{'max_depth': 30, 'n_estimators': 500}"
      ]
     },
     "execution_count": 74,
     "metadata": {},
     "output_type": "execute_result"
    }
   ],
   "source": [
    "n_estimators = [50, 100, 500, 700, 1000]\n",
    "max_depth=[None, 5, 10, 20, 30, 40, 50]\n",
    "\n",
    "param_grid = {'n_estimators': n_estimators,\n",
    "             'max_depth': max_depth}\n",
    "             \n",
    "\n",
    "RF_search = GridSearchCV(RandomForestClassifier(),param_grid, cv=3, return_train_score=True) #3 fold, and checkes with accurracy rate\n",
    "\n",
    "RF_search.fit(train_data_standard, train_label)\n",
    "RF_search.best_params_"
   ]
  },
  {
   "cell_type": "code",
   "execution_count": 75,
   "metadata": {},
   "outputs": [
    {
     "name": "stdout",
     "output_type": "stream",
     "text": [
      "Total # of mislabeled points: 7 out of 400\n",
      "***** Training Accuracy with RF: 1.0\n",
      "***** Test Accuracy with RF: 0.9825\n"
     ]
    }
   ],
   "source": [
    "clf_RF=RandomForestClassifier(n_estimators=100,max_depth=30).fit(train_data_standard, train_label) \n",
    "RF_pred = clf_RF.fit(train_data_standard, train_label).predict(test_data_standard)\n",
    "\n",
    "print(\"Total # of mislabeled points: %d out of %d\" % ((test_label != RF_pred).sum(), test_data_standard.shape[0]))\n",
    "print('***** Training Accuracy with RF:', accuracy_score(train_label,clf_RF.predict(train_data_standard)))\n",
    "print('***** Test Accuracy with RF:', accuracy_score(test_label,clf_RF.predict(test_data_standard)))\n",
    "\n"
   ]
  },
  {
   "cell_type": "code",
   "execution_count": 76,
   "metadata": {
    "scrolled": true
   },
   "outputs": [
    {
     "name": "stdout",
     "output_type": "stream",
     "text": [
      "              precision    recall  f1-score   support\n",
      "\n",
      "           1       1.00      0.99      0.99       100\n",
      "           2       0.97      0.97      0.97       100\n",
      "           3       0.96      0.97      0.97       100\n",
      "           4       1.00      1.00      1.00       100\n",
      "\n",
      "    accuracy                           0.98       400\n",
      "   macro avg       0.98      0.98      0.98       400\n",
      "weighted avg       0.98      0.98      0.98       400\n",
      "\n"
     ]
    }
   ],
   "source": [
    "print(classification_report(test_label, RF_pred))"
   ]
  },
  {
   "cell_type": "code",
   "execution_count": 77,
   "metadata": {},
   "outputs": [
    {
     "name": "stdout",
     "output_type": "stream",
     "text": [
      "confusion matrix without normalization\n",
      "[[ 99   0   1   0]\n",
      " [  0  97   3   0]\n",
      " [  0   3  97   0]\n",
      " [  0   0   0 100]]\n"
     ]
    },
    {
     "data": {
      "image/png": "[encoded data removed]",
      "text/plain": [
       "<Figure size 432x288 with 2 Axes>"
      ]
     },
     "metadata": {
      "needs_background": "light"
     },
     "output_type": "display_data"
    }
   ],
   "source": [
    "test_pred=clf_RF.predict(test_data_standard)\n",
    "#print(confusion_matrix(test_label, pred))\n",
    "plt.rcParams['figure.figsize'] = [6,4]\n",
    "\n",
    "\n",
    "#classes=['Location1', 'Location2', 'Location3', 'Location4' ]\n",
    "classes=range(0-3)\n",
    "\n",
    "\n",
    "cmap=plt.cm.Blues\n",
    "cm=confusion_matrix(np.array(test_label),np.array(test_pred))\n",
    "\n",
    "plt.imshow(cm, interpolation='nearest', cmap=cmap)\n",
    "plt.colorbar()\n",
    "title= 'confusion matrix without normalization'\n",
    "\n",
    "plt.title(title)\n",
    "\n",
    "tick_marks = np.arange(len(classes))\n",
    "plt.xticks(tick_marks, classes, rotation = 45)\n",
    "plt.yticks(tick_marks, classes)\n",
    "\n",
    "print ('confusion matrix without normalization')\n",
    "print (cm)\n",
    "\n",
    "thresh = cm.max() / 2\n",
    "fmt = 'd'\n",
    "for i, j in itertools.product(range(cm.shape[0]), range(cm.shape[1])):\n",
    "    plt.text(j, i, format(cm[i, j], fmt),\n",
    "            horizontalalignment=\"center\",\n",
    "            color=\"white\" if cm[i, j] > thresh else \"black\")\n",
    "\n",
    "plt.tight_layout()\n",
    "plt.ylabel('True label')\n",
    "plt.xlabel('Predicted label')\n",
    "plt.show()\n",
    "\n",
    "\n"
   ]
  },
  {
   "cell_type": "code",
   "execution_count": 78,
   "metadata": {},
   "outputs": [
    {
     "name": "stdout",
     "output_type": "stream",
     "text": [
      "confusion matrix with normalization\n",
      "[[0.99 0.   0.01 0.  ]\n",
      " [0.   0.97 0.03 0.  ]\n",
      " [0.   0.03 0.97 0.  ]\n",
      " [0.   0.   0.   1.  ]]\n"
     ]
    },
    {
     "data": {
      "image/png": "[encoded data removed]",
      "text/plain": [
       "<Figure size 432x288 with 2 Axes>"
      ]
     },
     "metadata": {
      "needs_background": "light"
     },
     "output_type": "display_data"
    }
   ],
   "source": [
    "#normalized\n",
    "plt.rcParams['figure.figsize'] = [6,4]\n",
    "\n",
    "#plt.figure(figsize=(10, 6))\n",
    "test_pred=clf_RF.predict(test_data_standard)\n",
    "cmap=plt.cm.Blues\n",
    "#classes=['WS1', 'WS2', 'WS3', 'WS4', 'WS5', 'WS6', 'WS7' ]\n",
    "classes = range(0-6)\n",
    "cm=confusion_matrix(np.array(test_label),np.array(test_pred))\n",
    "cm = cm.astype('float') / cm.sum(axis=1)[:, np.newaxis]\n",
    "\n",
    "\n",
    "\n",
    "plt.imshow(cm, interpolation='nearest', cmap=cmap)\n",
    "plt.colorbar()\n",
    "title= 'confusion matrix with normalization'\n",
    "plt.title(title)\n",
    "\n",
    "tick_marks = np.arange(len(classes))\n",
    "plt.xticks(tick_marks, classes, rotation = 90)\n",
    "plt.yticks(tick_marks, classes)\n",
    "\n",
    "\n",
    "print ('confusion matrix with normalization')\n",
    "print (cm)\n",
    "\n",
    "np.set_printoptions(precision=2)\n",
    "\n",
    "\n",
    "\n",
    "thresh = cm.max() / 1.5\n",
    "fmt = '.2f' \n",
    "for i, j in itertools.product(range(cm.shape[0]), range(cm.shape[1])):\n",
    "    plt.text(j, i, format(cm[i, j], fmt),\n",
    "            horizontalalignment=\"center\",\n",
    "            color=\"white\" if cm[i, j] > thresh else \"black\")\n",
    "\n",
    "plt.tight_layout()\n",
    "plt.ylabel('True label')\n",
    "plt.xlabel('Predicted label')\n",
    "plt.show()\n",
    "\n"
   ]
  },
  {
   "cell_type": "code",
   "execution_count": 79,
   "metadata": {},
   "outputs": [],
   "source": [
    "linear_model=LinearRegression()\n",
    "linear_model.fit(train_data_standard, train_label)\n",
    "linear_pred = linear_model.predict(test_data_standard)"
   ]
  },
  {
   "cell_type": "code",
   "execution_count": 80,
   "metadata": {},
   "outputs": [
    {
     "name": "stdout",
     "output_type": "stream",
     "text": [
      "r_square_train: 0.7811856200453733\n"
     ]
    }
   ],
   "source": [
    "r_square_train =linear_model.score(train_data_standard, train_label) #R^2\n",
    "print ('r_square_train:',r_square_train )"
   ]
  },
  {
   "cell_type": "code",
   "execution_count": 81,
   "metadata": {},
   "outputs": [
    {
     "name": "stdout",
     "output_type": "stream",
     "text": [
      "r_square_test: 0.7840697747806398\n"
     ]
    }
   ],
   "source": [
    "r_square_test =linear_model.score(test_data_standard, test_label) #R^2\n",
    "print ('r_square_test:',r_square_test )"
   ]
  },
  {
   "cell_type": "code",
   "execution_count": 82,
   "metadata": {},
   "outputs": [
    {
     "name": "stdout",
     "output_type": "stream",
     "text": [
      "linear_model_mse 0.2699127815242004\n"
     ]
    }
   ],
   "source": [
    "linear_model_mse = mean_squared_error(linear_pred, test_label)\n",
    "print ('linear_model_mse', linear_model_mse)"
   ]
  },
  {
   "cell_type": "code",
   "execution_count": 83,
   "metadata": {},
   "outputs": [],
   "source": [
    "logistic_model = LogisticRegression(penalty='l2', C=1.0, solver='liblinear').fit(train_data_standard, train_label)"
   ]
  },
  {
   "cell_type": "code",
   "execution_count": 84,
   "metadata": {},
   "outputs": [
    {
     "name": "stdout",
     "output_type": "stream",
     "text": [
      "Total # of mislabeled points: 14 out of 400\n",
      "***** Training Accuracy with RF: 0.970625\n",
      "***** Test Accuracy with RF: 0.965\n"
     ]
    }
   ],
   "source": [
    "logistic_pred = logistic_model.predict(test_data_standard)\n",
    "print(\"Total # of mislabeled points: %d out of %d\" % ((test_label != logistic_pred).sum(), test_data_standard.shape[0]))\n",
    "print('***** Training Accuracy with RF:', accuracy_score(train_label,logistic_model.predict(train_data_standard)))\n",
    "print('***** Test Accuracy with RF:', accuracy_score(test_label,logistic_model.predict(test_data_standard)))"
   ]
  },
  {
   "cell_type": "code",
   "execution_count": 85,
   "metadata": {},
   "outputs": [
    {
     "name": "stdout",
     "output_type": "stream",
     "text": [
      "              precision    recall  f1-score   support\n",
      "\n",
      "           1       1.00      0.99      0.99       100\n",
      "           2       0.92      0.95      0.94       100\n",
      "           3       0.94      0.92      0.93       100\n",
      "           4       1.00      1.00      1.00       100\n",
      "\n",
      "    accuracy                           0.96       400\n",
      "   macro avg       0.97      0.96      0.97       400\n",
      "weighted avg       0.97      0.96      0.97       400\n",
      "\n"
     ]
    }
   ],
   "source": [
    "print(classification_report(test_label, logistic_pred))"
   ]
  },
  {
   "cell_type": "code",
   "execution_count": 86,
   "metadata": {},
   "outputs": [
    {
     "name": "stdout",
     "output_type": "stream",
     "text": [
      "confusion matrix without normalization\n",
      "[[ 99   0   1   0]\n",
      " [  0  95   5   0]\n",
      " [  0   8  92   0]\n",
      " [  0   0   0 100]]\n"
     ]
    },
    {
     "data": {
      "image/png": "[encoded data removed]",
      "text/plain": [
       "<Figure size 432x288 with 2 Axes>"
      ]
     },
     "metadata": {
      "needs_background": "light"
     },
     "output_type": "display_data"
    }
   ],
   "source": [
    "test_pred=logistic_model.predict(test_data_standard)\n",
    "#print(confusion_matrix(test_label, pred))\n",
    "plt.rcParams['figure.figsize'] = [6,4]\n",
    "\n",
    "\n",
    "classes=range(1-4)\n",
    "\n",
    "\n",
    "\n",
    "\n",
    "cmap=plt.cm.Blues\n",
    "cm=confusion_matrix(np.array(test_label),np.array(test_pred))\n",
    "\n",
    "plt.imshow(cm, interpolation='nearest', cmap=cmap)\n",
    "plt.colorbar()\n",
    "title= 'confusion matrix without normalization'\n",
    "\n",
    "plt.title(title)\n",
    "\n",
    "tick_marks = np.arange(len(classes))\n",
    "plt.xticks(tick_marks, classes, rotation = 45)\n",
    "plt.yticks(tick_marks, classes)\n",
    "\n",
    "print ('confusion matrix without normalization')\n",
    "print (cm)\n",
    "\n",
    "thresh = cm.max() / 2\n",
    "fmt = 'd'\n",
    "for i, j in itertools.product(range(cm.shape[0]), range(cm.shape[1])):\n",
    "    plt.text(j, i, format(cm[i, j], fmt),\n",
    "            horizontalalignment=\"center\",\n",
    "            color=\"white\" if cm[i, j] > thresh else \"black\")\n",
    "\n",
    "plt.tight_layout()\n",
    "plt.ylabel('True label')\n",
    "plt.xlabel('Predicted label')\n",
    "plt.show()\n",
    "\n",
    "\n"
   ]
  },
  {
   "cell_type": "code",
   "execution_count": 87,
   "metadata": {},
   "outputs": [
    {
     "name": "stdout",
     "output_type": "stream",
     "text": [
      "confusion matrix with normalization\n",
      "[[0.99 0.   0.01 0.  ]\n",
      " [0.   0.95 0.05 0.  ]\n",
      " [0.   0.08 0.92 0.  ]\n",
      " [0.   0.   0.   1.  ]]\n"
     ]
    },
    {
     "data": {
      "image/png": "[encoded data removed]",
      "text/plain": [
       "<Figure size 432x288 with 2 Axes>"
      ]
     },
     "metadata": {
      "needs_background": "light"
     },
     "output_type": "display_data"
    }
   ],
   "source": [
    "#normalized\n",
    "plt.rcParams['figure.figsize'] = [6,4]\n",
    "\n",
    "#plt.figure(figsize=(10, 6))\n",
    "test_pred=logistic_model.predict(test_data_standard)\n",
    "cmap=plt.cm.Blues\n",
    "classes=range(1-4)\n",
    "\n",
    "\n",
    "cm=confusion_matrix(np.array(test_label),np.array(test_pred))\n",
    "cm = cm.astype('float') / cm.sum(axis=1)[:, np.newaxis]\n",
    "\n",
    "\n",
    "\n",
    "plt.imshow(cm, interpolation='nearest', cmap=cmap)\n",
    "plt.colorbar()\n",
    "title= 'confusion matrix with normalization'\n",
    "plt.title(title)\n",
    "\n",
    "tick_marks = np.arange(len(classes))\n",
    "plt.xticks(tick_marks, classes, rotation = 90)\n",
    "plt.yticks(tick_marks, classes)\n",
    "\n",
    "\n",
    "print ('confusion matrix with normalization')\n",
    "print (cm)\n",
    "\n",
    "np.set_printoptions(precision=2)\n",
    "\n",
    "\n",
    "\n",
    "thresh = cm.max() / 1.5\n",
    "fmt = '.2f' \n",
    "for i, j in itertools.product(range(cm.shape[0]), range(cm.shape[1])):\n",
    "    plt.text(j, i, format(cm[i, j], fmt),\n",
    "            horizontalalignment=\"center\",\n",
    "            color=\"white\" if cm[i, j] > thresh else \"black\")\n",
    "\n",
    "plt.tight_layout()\n",
    "plt.ylabel('True label')\n",
    "plt.xlabel('Predicted label')\n",
    "plt.show()\n",
    "\n",
    "\n",
    "\n"
   ]
  },
  {
   "cell_type": "code",
   "execution_count": 88,
   "metadata": {},
   "outputs": [
    {
     "data": {
      "text/plain": [
       "GradientBoostingRegressor(alpha=0.9, ccp_alpha=0.0, criterion='friedman_mse',\n",
       "                          init=None, learning_rate=0.01, loss='ls', max_depth=6,\n",
       "                          max_features=None, max_leaf_nodes=None,\n",
       "                          min_impurity_decrease=0.0, min_impurity_split=None,\n",
       "                          min_samples_leaf=1, min_samples_split=2,\n",
       "                          min_weight_fraction_leaf=0.0, n_estimators=500,\n",
       "                          n_iter_no_change=None, presort='deprecated',\n",
       "                          random_state=None, subsample=1.0, tol=0.0001,\n",
       "                          validation_fraction=0.1, verbose=0, warm_start=False)"
      ]
     },
     "execution_count": 88,
     "metadata": {},
     "output_type": "execute_result"
    }
   ],
   "source": [
    "params = {'n_estimators':500, 'max_depth': 6, 'min_samples_split': 2, 'learning_rate': 0.01, 'loss': 'ls'}\n",
    "gbr_model= GradientBoostingRegressor(**params)\n",
    "gbr_model.fit(train_data_standard, train_label)"
   ]
  },
  {
   "cell_type": "code",
   "execution_count": 89,
   "metadata": {},
   "outputs": [
    {
     "data": {
      "text/plain": [
       "0.9986634100863883"
      ]
     },
     "execution_count": 89,
     "metadata": {},
     "output_type": "execute_result"
    }
   ],
   "source": [
    "gbr_model.score(train_data_standard, train_label)"
   ]
  },
  {
   "cell_type": "code",
   "execution_count": 90,
   "metadata": {},
   "outputs": [
    {
     "data": {
      "text/plain": [
       "0.968033647772184"
      ]
     },
     "execution_count": 90,
     "metadata": {},
     "output_type": "execute_result"
    }
   ],
   "source": [
    "gbr_predict = gbr_model.predict(test_data_standard)\n",
    "gbr_r_square = gbr_model.score(test_data_standard, test_label)\n",
    "gbr_r_square "
   ]
  },
  {
   "cell_type": "code",
   "execution_count": 91,
   "metadata": {},
   "outputs": [
    {
     "data": {
      "text/plain": [
       "{'learning_rate': 0.1, 'max_depth': 4, 'n_estimators': 100}"
      ]
     },
     "execution_count": 91,
     "metadata": {},
     "output_type": "execute_result"
    }
   ],
   "source": [
    "num_estimators = [100, 200, 500]\n",
    "learn_rates=[0.01, 0.02, 0.05, 0.1]\n",
    "max_depths = [4, 6, 8]\n",
    "\n",
    "param_grid = {'n_estimators': num_estimators,\n",
    "             'learning_rate': learn_rates,\n",
    "             'max_depth': max_depths}\n",
    "\n",
    "grid_search = GridSearchCV(GradientBoostingRegressor(min_samples_split = 2, loss = 'ls'),\n",
    "                          param_grid, cv=3, return_train_score=True)\n",
    "\n",
    "grid_search.fit(train_data_standard, train_label)\n",
    "grid_search.best_params_"
   ]
  },
  {
   "cell_type": "code",
   "execution_count": 92,
   "metadata": {},
   "outputs": [
    {
     "data": {
      "text/plain": [
       "GradientBoostingRegressor(alpha=0.9, ccp_alpha=0.0, criterion='friedman_mse',\n",
       "                          init=None, learning_rate=0.01, loss='ls', max_depth=4,\n",
       "                          max_features=None, max_leaf_nodes=None,\n",
       "                          min_impurity_decrease=0.0, min_impurity_split=None,\n",
       "                          min_samples_leaf=1, min_samples_split=2,\n",
       "                          min_weight_fraction_leaf=0.0, n_estimators=500,\n",
       "                          n_iter_no_change=None, presort='deprecated',\n",
       "                          random_state=None, subsample=1.0, tol=0.0001,\n",
       "                          validation_fraction=0.1, verbose=0, warm_start=False)"
      ]
     },
     "execution_count": 92,
     "metadata": {},
     "output_type": "execute_result"
    }
   ],
   "source": [
    "params = {'n_estimators':500, 'max_depth': 4, 'min_samples_split': 2, 'learning_rate': 0.01, 'loss': 'ls'}\n",
    "gbr_model= GradientBoostingRegressor(**params)\n",
    "gbr_model.fit(train_data_standard, train_label)"
   ]
  },
  {
   "cell_type": "code",
   "execution_count": 93,
   "metadata": {},
   "outputs": [
    {
     "data": {
      "text/plain": [
       "0.990945571441357"
      ]
     },
     "execution_count": 93,
     "metadata": {},
     "output_type": "execute_result"
    }
   ],
   "source": [
    "gbr_model.score(train_data_standard, train_label)"
   ]
  },
  {
   "cell_type": "code",
   "execution_count": 94,
   "metadata": {},
   "outputs": [
    {
     "data": {
      "text/plain": [
       "0.9704807208694596"
      ]
     },
     "execution_count": 94,
     "metadata": {},
     "output_type": "execute_result"
    }
   ],
   "source": [
    "gbr_predict = gbr_model.predict(test_data_standard)\n",
    "gbr_r_square = gbr_model.score(test_data_standard, test_label)\n",
    "gbr_r_square "
   ]
  },
  {
   "cell_type": "code",
   "execution_count": 95,
   "metadata": {},
   "outputs": [
    {
     "data": {
      "text/plain": [
       "0.03689909891317551"
      ]
     },
     "execution_count": 95,
     "metadata": {},
     "output_type": "execute_result"
    }
   ],
   "source": [
    "gbr_model_mse = mean_squared_error(gbr_predict, test_label)\n",
    "gbr_model_mse"
   ]
  },
  {
   "cell_type": "code",
   "execution_count": null,
   "metadata": {},
   "outputs": [],
   "source": []
  },
  {
   "cell_type": "code",
   "execution_count": null,
   "metadata": {},
   "outputs": [],
   "source": []
  },
  {
   "cell_type": "code",
   "execution_count": 96,
   "metadata": {},
   "outputs": [],
   "source": [
    "#PCA"
   ]
  },
  {
   "cell_type": "code",
   "execution_count": 97,
   "metadata": {},
   "outputs": [
    {
     "data": {
      "text/plain": [
       "array([[-1.06,  1.88],\n",
       "       [-0.26,  1.81],\n",
       "       [-1.37,  1.41],\n",
       "       ...,\n",
       "       [-1.17, -0.63],\n",
       "       [-2.23, -0.5 ],\n",
       "       [-1.72, -1.62]])"
      ]
     },
     "execution_count": 97,
     "metadata": {},
     "output_type": "execute_result"
    }
   ],
   "source": [
    "pca=PCA(n_components=2)\n",
    "pca.fit_transform(train_data_standard)"
   ]
  },
  {
   "cell_type": "code",
   "execution_count": 98,
   "metadata": {},
   "outputs": [
    {
     "data": {
      "text/plain": [
       "array([0.49, 0.24])"
      ]
     },
     "execution_count": 98,
     "metadata": {},
     "output_type": "execute_result"
    }
   ],
   "source": [
    "pca.explained_variance_ratio_ #gives magnitude of variation for each component in %"
   ]
  },
  {
   "cell_type": "code",
   "execution_count": 99,
   "metadata": {},
   "outputs": [],
   "source": [
    "X_train=pca.fit_transform(train_data_standard)\n",
    "Y_train=train_label\n",
    "x_test=pca.transform(test_data_standard)\n",
    "y_test=test_label\n",
    "\n",
    "\n"
   ]
  },
  {
   "cell_type": "code",
   "execution_count": 100,
   "metadata": {},
   "outputs": [
    {
     "name": "stdout",
     "output_type": "stream",
     "text": [
      "0.89\n"
     ]
    }
   ],
   "source": [
    "clf_RF_pca = RandomForestClassifier(n_estimators=500, max_depth=20).fit(X_train, Y_train) \n",
    "\n",
    "accuracy = clf_RF_pca.score(x_test, y_test)\n",
    "print(accuracy)"
   ]
  },
  {
   "cell_type": "code",
   "execution_count": 101,
   "metadata": {},
   "outputs": [
    {
     "name": "stdout",
     "output_type": "stream",
     "text": [
      "Total # of mislabeled points: 42 out of 400\n",
      "***** Training Accuracy with RF: 1.0\n",
      "***** Test Accuracy with RF: 0.895\n"
     ]
    }
   ],
   "source": [
    "RF_pred_pca = clf_RF_pca.fit(X_train, Y_train).predict(x_test)\n",
    "\n",
    "print(\"Total # of mislabeled points: %d out of %d\" % ( (y_test != RF_pred_pca).sum(),x_test.shape[0]))\n",
    "print('***** Training Accuracy with RF:', accuracy_score(Y_train,clf_RF_pca.predict(X_train)))\n",
    "print('***** Test Accuracy with RF:', accuracy_score(y_test,clf_RF_pca.predict(x_test)))\n",
    "\n",
    "\n"
   ]
  },
  {
   "cell_type": "code",
   "execution_count": 102,
   "metadata": {},
   "outputs": [
    {
     "data": {
      "text/plain": [
       "{'max_depth': 5, 'n_estimators': 700}"
      ]
     },
     "execution_count": 102,
     "metadata": {},
     "output_type": "execute_result"
    }
   ],
   "source": [
    "n_estimators = [50, 100, 500, 700, 1000]\n",
    "max_depth=[None, 5, 10, 20, 30, 40, 50]\n",
    "\n",
    "param_grid = {'n_estimators': n_estimators,\n",
    "             'max_depth': max_depth}\n",
    "             \n",
    "\n",
    "RF_search = GridSearchCV(RandomForestClassifier(),param_grid, cv=3, return_train_score=True) #3 fold, and checkes with accurracy rate\n",
    "\n",
    "RF_search.fit(X_train, Y_train)\n",
    "RF_search.best_params_"
   ]
  },
  {
   "cell_type": "code",
   "execution_count": 103,
   "metadata": {},
   "outputs": [
    {
     "name": "stdout",
     "output_type": "stream",
     "text": [
      "              precision    recall  f1-score   support\n",
      "\n",
      "           1       0.87      0.86      0.86       100\n",
      "           2       0.95      0.93      0.94       100\n",
      "           3       0.80      0.80      0.80       100\n",
      "           4       0.96      0.99      0.98       100\n",
      "\n",
      "    accuracy                           0.90       400\n",
      "   macro avg       0.89      0.90      0.89       400\n",
      "weighted avg       0.89      0.90      0.89       400\n",
      "\n"
     ]
    }
   ],
   "source": [
    "print(classification_report(y_test, RF_pred_pca))"
   ]
  },
  {
   "cell_type": "code",
   "execution_count": 104,
   "metadata": {},
   "outputs": [
    {
     "name": "stdout",
     "output_type": "stream",
     "text": [
      "confusion matrix without normalization\n",
      "[[85  0 14  1]\n",
      " [ 0 92  8  0]\n",
      " [12  5 80  3]\n",
      " [ 1  0  0 99]]\n"
     ]
    },
    {
     "data": {
      "image/png": "[encoded data removed]",
      "text/plain": [
       "<Figure size 432x288 with 2 Axes>"
      ]
     },
     "metadata": {
      "needs_background": "light"
     },
     "output_type": "display_data"
    }
   ],
   "source": [
    "test_pred=clf_RF_pca.fit(X_train, Y_train).predict(x_test)\n",
    "#print(confusion_matrix(test_label, pred))\n",
    "plt.rcParams['figure.figsize'] = [6,4]\n",
    "\n",
    "\n",
    "classes=range(1-4)\n",
    "\n",
    "\n",
    "cmap=plt.cm.Blues\n",
    "cm=confusion_matrix(np.array(test_label),np.array(test_pred))\n",
    "\n",
    "plt.imshow(cm, interpolation='nearest', cmap=cmap)\n",
    "plt.colorbar()\n",
    "title= 'confusion matrix without normalization'\n",
    "\n",
    "plt.title(title)\n",
    "\n",
    "tick_marks = np.arange(len(classes))\n",
    "plt.xticks(tick_marks, classes, rotation = 45)\n",
    "plt.yticks(tick_marks, classes)\n",
    "\n",
    "print ('confusion matrix without normalization')\n",
    "print (cm)\n",
    "\n",
    "thresh = cm.max() / 2\n",
    "fmt = 'd'\n",
    "for i, j in itertools.product(range(cm.shape[0]), range(cm.shape[1])):\n",
    "    plt.text(j, i, format(cm[i, j], fmt),\n",
    "            horizontalalignment=\"center\",\n",
    "            color=\"white\" if cm[i, j] > thresh else \"black\")\n",
    "\n",
    "plt.tight_layout()\n",
    "plt.ylabel('True label')\n",
    "plt.xlabel('Predicted label')\n",
    "plt.show()\n",
    "\n",
    "\n"
   ]
  },
  {
   "cell_type": "code",
   "execution_count": 105,
   "metadata": {},
   "outputs": [
    {
     "name": "stdout",
     "output_type": "stream",
     "text": [
      "confusion matrix with normalization\n",
      "[[0.85 0.   0.14 0.01]\n",
      " [0.   0.93 0.07 0.  ]\n",
      " [0.12 0.06 0.79 0.03]\n",
      " [0.01 0.   0.   0.99]]\n"
     ]
    },
    {
     "data": {
      "image/png": "[encoded data removed]",
      "text/plain": [
       "<Figure size 432x288 with 2 Axes>"
      ]
     },
     "metadata": {
      "needs_background": "light"
     },
     "output_type": "display_data"
    }
   ],
   "source": [
    "#normalized\n",
    "plt.rcParams['figure.figsize'] = [6,4]\n",
    "\n",
    "#plt.figure(figsize=(10, 6))\n",
    "test_pred=clf_RF_pca.fit(X_train, Y_train).predict(x_test)\n",
    "cmap=plt.cm.Blues\n",
    "classes = range(1-4)\n",
    "cm=confusion_matrix(np.array(test_label),np.array(test_pred))\n",
    "cm = cm.astype('float') / cm.sum(axis=1)[:, np.newaxis]\n",
    "\n",
    "\n",
    "\n",
    "plt.imshow(cm, interpolation='nearest', cmap=cmap)\n",
    "plt.colorbar()\n",
    "title= 'confusion matrix with normalization'\n",
    "plt.title(title)\n",
    "\n",
    "tick_marks = np.arange(len(classes))\n",
    "plt.xticks(tick_marks, classes, rotation = 90)\n",
    "plt.yticks(tick_marks, classes)\n",
    "\n",
    "\n",
    "print ('confusion matrix with normalization')\n",
    "print (cm)\n",
    "\n",
    "np.set_printoptions(precision=2)\n",
    "\n",
    "\n",
    "\n",
    "thresh = cm.max() / 1.5\n",
    "fmt = '.2f' \n",
    "for i, j in itertools.product(range(cm.shape[0]), range(cm.shape[1])):\n",
    "    plt.text(j, i, format(cm[i, j], fmt),\n",
    "            horizontalalignment=\"center\",\n",
    "            color=\"white\" if cm[i, j] > thresh else \"black\")\n",
    "\n",
    "plt.tight_layout()\n",
    "plt.ylabel('True label')\n",
    "plt.xlabel('Predicted label')\n",
    "plt.show()\n",
    "\n",
    "\n",
    "\n"
   ]
  },
  {
   "cell_type": "code",
   "execution_count": 106,
   "metadata": {},
   "outputs": [
    {
     "data": {
      "image/png": "[encoded data removed]",
      "text/plain": [
       "<Figure size 720x576 with 1 Axes>"
      ]
     },
     "metadata": {
      "needs_background": "light"
     },
     "output_type": "display_data"
    }
   ],
   "source": [
    "fig = plt.figure(figsize=(10,8))\n",
    "# Plotting decision regions\n",
    "plot_decision_regions(X_train, Y_train.to_numpy(), clf=clf_RF_pca, legend=2)\n",
    "\n",
    "# Adding axes annotations\n",
    "plt.xlabel('PCA1')\n",
    "plt.ylabel('PCA2')\n",
    "plt.title('RF using PCA')\n",
    "plt.show()"
   ]
  },
  {
   "cell_type": "code",
   "execution_count": 107,
   "metadata": {},
   "outputs": [
    {
     "name": "stdout",
     "output_type": "stream",
     "text": [
      "Total # of mislabeled points: 39 out of 400\n",
      "***** Training Accuracy with SVM: 0.935625\n",
      "***** Test Accuracy with SVM: 0.9025\n"
     ]
    }
   ],
   "source": [
    "clf_svm_pca=SVC(C=5, gamma=1).fit(X_train, Y_train) \n",
    "svm_pred_pca = clf_svm_pca.fit(X_train, Y_train).predict(x_test)\n",
    "\n",
    "print(\"Total # of mislabeled points: %d out of %d\" % ( (y_test != svm_pred_pca).sum(), x_test.shape[0]))\n",
    "\n",
    "print('***** Training Accuracy with SVM:', accuracy_score(Y_train,clf_svm_pca.predict(X_train)))\n",
    "print('***** Test Accuracy with SVM:', accuracy_score(y_test,clf_svm_pca.predict(x_test)))"
   ]
  },
  {
   "cell_type": "code",
   "execution_count": 108,
   "metadata": {},
   "outputs": [
    {
     "data": {
      "image/png": "[encoded data removed]",
      "text/plain": [
       "<Figure size 720x576 with 1 Axes>"
      ]
     },
     "metadata": {
      "needs_background": "light"
     },
     "output_type": "display_data"
    }
   ],
   "source": [
    "\n",
    "fig = plt.figure(figsize=(10,8))\n",
    "# Plotting decision regions\n",
    "plot_decision_regions(X_train, Y_train.to_numpy(), clf=clf_svm_pca, legend=2)\n",
    "\n",
    "# Adding axes annotations\n",
    "plt.xlabel('PCA1')\n",
    "plt.ylabel('PCA2')\n",
    "plt.title('SVM using PCA')\n",
    "plt.show()"
   ]
  }
 ],
 "metadata": {
  "kernelspec": {
   "display_name": "Python 3",
   "language": "python",
   "name": "python3"
  },
  "language_info": {
   "codemirror_mode": {
    "name": "ipython",
    "version": 3
   },
   "file_extension": ".py",
   "mimetype": "text/x-python",
   "name": "python",
   "nbconvert_exporter": "python",
   "pygments_lexer": "ipython3",
   "version": "3.7.4"
  }
 },
 "nbformat": 4,
 "nbformat_minor": 2
}
